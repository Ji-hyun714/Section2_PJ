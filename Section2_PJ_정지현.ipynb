{
  "nbformat": 4,
  "nbformat_minor": 0,
  "metadata": {
    "colab": {
      "provenance": [],
      "toc_visible": true,
      "include_colab_link": true
    },
    "kernelspec": {
      "name": "python3",
      "display_name": "Python 3"
    },
    "language_info": {
      "name": "python"
    }
  },
  "cells": [
    {
      "cell_type": "markdown",
      "metadata": {
        "id": "view-in-github",
        "colab_type": "text"
      },
      "source": [
        "<a href=\"https://colab.research.google.com/github/Ji-hyun714/Section2_PJ/blob/main/Section2_PJ_%EC%A0%95%EC%A7%80%ED%98%84.ipynb\" target=\"_parent\"><img src=\"https://colab.research.google.com/assets/colab-badge.svg\" alt=\"Open In Colab\"/></a>"
      ]
    },
    {
      "cell_type": "markdown",
      "source": [
        "# **Section 2_Project**"
      ],
      "metadata": {
        "id": "iX8X6Pu0i0bT"
      }
    },
    {
      "cell_type": "code",
      "source": [
        "!pip install category_encoders \n",
        "!pip install xgboost==1.7.2\n",
        "!pip3 install pdpbox"
      ],
      "metadata": {
        "colab": {
          "base_uri": "https://localhost:8080/"
        },
        "id": "QXNiXzNGE1ps",
        "outputId": "c53d6fa9-32d1-444e-ec91-78424946fb62"
      },
      "execution_count": 1,
      "outputs": [
        {
          "output_type": "stream",
          "name": "stdout",
          "text": [
            "Looking in indexes: https://pypi.org/simple, https://us-python.pkg.dev/colab-wheels/public/simple/\n",
            "Requirement already satisfied: category_encoders in /usr/local/lib/python3.9/dist-packages (2.6.0)\n",
            "Requirement already satisfied: pandas>=1.0.5 in /usr/local/lib/python3.9/dist-packages (from category_encoders) (1.5.3)\n",
            "Requirement already satisfied: patsy>=0.5.1 in /usr/local/lib/python3.9/dist-packages (from category_encoders) (0.5.3)\n",
            "Requirement already satisfied: scipy>=1.0.0 in /usr/local/lib/python3.9/dist-packages (from category_encoders) (1.10.1)\n",
            "Requirement already satisfied: numpy>=1.14.0 in /usr/local/lib/python3.9/dist-packages (from category_encoders) (1.22.4)\n",
            "Requirement already satisfied: scikit-learn>=0.20.0 in /usr/local/lib/python3.9/dist-packages (from category_encoders) (1.2.2)\n",
            "Requirement already satisfied: statsmodels>=0.9.0 in /usr/local/lib/python3.9/dist-packages (from category_encoders) (0.13.5)\n",
            "Requirement already satisfied: pytz>=2020.1 in /usr/local/lib/python3.9/dist-packages (from pandas>=1.0.5->category_encoders) (2022.7.1)\n",
            "Requirement already satisfied: python-dateutil>=2.8.1 in /usr/local/lib/python3.9/dist-packages (from pandas>=1.0.5->category_encoders) (2.8.2)\n",
            "Requirement already satisfied: six in /usr/local/lib/python3.9/dist-packages (from patsy>=0.5.1->category_encoders) (1.16.0)\n",
            "Requirement already satisfied: threadpoolctl>=2.0.0 in /usr/local/lib/python3.9/dist-packages (from scikit-learn>=0.20.0->category_encoders) (3.1.0)\n",
            "Requirement already satisfied: joblib>=1.1.1 in /usr/local/lib/python3.9/dist-packages (from scikit-learn>=0.20.0->category_encoders) (1.2.0)\n",
            "Requirement already satisfied: packaging>=21.3 in /usr/local/lib/python3.9/dist-packages (from statsmodels>=0.9.0->category_encoders) (23.0)\n",
            "Looking in indexes: https://pypi.org/simple, https://us-python.pkg.dev/colab-wheels/public/simple/\n",
            "Requirement already satisfied: xgboost==1.7.2 in /usr/local/lib/python3.9/dist-packages (1.7.2)\n",
            "Requirement already satisfied: scipy in /usr/local/lib/python3.9/dist-packages (from xgboost==1.7.2) (1.10.1)\n",
            "Requirement already satisfied: numpy in /usr/local/lib/python3.9/dist-packages (from xgboost==1.7.2) (1.22.4)\n",
            "Looking in indexes: https://pypi.org/simple, https://us-python.pkg.dev/colab-wheels/public/simple/\n",
            "Collecting pdpbox\n",
            "  Using cached PDPbox-0.2.1.tar.gz (34.0 MB)\n",
            "  Preparing metadata (setup.py) ... \u001b[?25l\u001b[?25hdone\n",
            "Requirement already satisfied: pandas in /usr/local/lib/python3.9/dist-packages (from pdpbox) (1.5.3)\n",
            "Requirement already satisfied: numpy in /usr/local/lib/python3.9/dist-packages (from pdpbox) (1.22.4)\n",
            "Requirement already satisfied: scipy in /usr/local/lib/python3.9/dist-packages (from pdpbox) (1.10.1)\n",
            "Requirement already satisfied: joblib in /usr/local/lib/python3.9/dist-packages (from pdpbox) (1.2.0)\n",
            "Requirement already satisfied: psutil in /usr/local/lib/python3.9/dist-packages (from pdpbox) (5.9.4)\n",
            "Collecting matplotlib==3.1.1\n",
            "  Using cached matplotlib-3.1.1.tar.gz (37.8 MB)\n",
            "  Preparing metadata (setup.py) ... \u001b[?25l\u001b[?25hdone\n",
            "Collecting sklearn\n",
            "  Using cached sklearn-0.0.post1.tar.gz (3.6 kB)\n",
            "  \u001b[1;31merror\u001b[0m: \u001b[1msubprocess-exited-with-error\u001b[0m\n",
            "  \n",
            "  \u001b[31m×\u001b[0m \u001b[32mpython setup.py egg_info\u001b[0m did not run successfully.\n",
            "  \u001b[31m│\u001b[0m exit code: \u001b[1;36m1\u001b[0m\n",
            "  \u001b[31m╰─>\u001b[0m See above for output.\n",
            "  \n",
            "  \u001b[1;35mnote\u001b[0m: This error originates from a subprocess, and is likely not a problem with pip.\n",
            "  Preparing metadata (setup.py) ... \u001b[?25l\u001b[?25herror\n",
            "\u001b[1;31merror\u001b[0m: \u001b[1mmetadata-generation-failed\u001b[0m\n",
            "\n",
            "\u001b[31m×\u001b[0m Encountered error while generating package metadata.\n",
            "\u001b[31m╰─>\u001b[0m See above for output.\n",
            "\n",
            "\u001b[1;35mnote\u001b[0m: This is an issue with the package mentioned above, not pip.\n",
            "\u001b[1;36mhint\u001b[0m: See above for details.\n"
          ]
        }
      ]
    },
    {
      "cell_type": "code",
      "source": [
        "from sklearn.model_selection import train_test_split\n",
        "from sklearn.metrics import mean_squared_error, mean_absolute_error, r2_score\n",
        "from sklearn.metrics import accuracy_score, f1_score\n",
        "from sklearn.pipeline import make_pipeline\n",
        "from sklearn.tree import DecisionTreeClassifier\n",
        "from xgboost import XGBClassifier\n",
        "from category_encoders import OrdinalEncoder\n",
        "from sklearn.model_selection import cross_val_score\n",
        "from sklearn.metrics import classification_report\n",
        "from sklearn.model_selection import GridSearchCV\n",
        "from hyperopt import hp\n",
        "from hyperopt import fmin, tpe, Trials, STATUS_OK\n",
        "\n",
        "import warnings\n",
        "warnings.filterwarnings(action='ignore')"
      ],
      "metadata": {
        "id": "l7_EbT3RPSxW"
      },
      "execution_count": 2,
      "outputs": []
    },
    {
      "cell_type": "markdown",
      "source": [
        "# **[ 문제 정의 및 데이터 선정 이유 ]**"
      ],
      "metadata": {
        "id": "xQQoA2N5ja8m"
      }
    },
    {
      "cell_type": "markdown",
      "source": [
        "넷플릭스에 종사하는 사람이라고 가정했을 때, 유행하는 Movie/TV Show는 넷플릭스 독점을 할 것인가"
      ],
      "metadata": {
        "id": "GQIglHP1ja6k"
      }
    },
    {
      "cell_type": "markdown",
      "source": [
        "넷플릭스 독점여부를 타겟으로 하여 독점여부를 예측하는 모델을 만들고, 분석 후 넷플릭스 독점 여부를 결정하기 위해 모델을 해석하는 흐름으로 진행할 예정"
      ],
      "metadata": {
        "id": "jfamN8yaOyk4"
      }
    },
    {
      "cell_type": "markdown",
      "source": [
        "## **0. Data Description** ##"
      ],
      "metadata": {
        "id": "_KRmZw-VVZtH"
      }
    },
    {
      "cell_type": "markdown",
      "source": [
        "- `As_of` : 기준 일자\n",
        "\n",
        "- `Rank` : 순위\n",
        "\n",
        "- `Year_to_Date_Rank` : 올해 초부터 누적 통계 순위\n",
        "\n",
        "- `Last_Week_Rank` : 지난 주 순위\n",
        "\n",
        "- `Title` : 제목\n",
        "\n",
        "- `Type` : 미디어 타입\n",
        "\n",
        "- `Netflix_Exclusive` : 넷플릭스 독점 여부\n",
        "\n",
        "- `Netflix_Release_Date` : 넷플릭스 개봉 날짜\n",
        "\n",
        "- `Days_In_Top_10` : 탑 10에 머무른 날짜\n",
        "\n",
        "- `Viewership_Score` : 시청자 점수"
      ],
      "metadata": {
        "id": "H4QauWfWjauc"
      }
    },
    {
      "cell_type": "markdown",
      "source": [
        "## **1. 데이터** ##"
      ],
      "metadata": {
        "id": "P-ZeYx8xUiFM"
      }
    },
    {
      "cell_type": "code",
      "execution_count": 3,
      "metadata": {
        "id": "pjBnsj3TS1E1"
      },
      "outputs": [],
      "source": [
        "import pandas as pd\n",
        "import numpy as np\n",
        "import matplotlib.pyplot as plt\n",
        "import seaborn as sns"
      ]
    },
    {
      "cell_type": "code",
      "source": [
        "# 데이터 업로드\n",
        "from google.colab import files\n",
        "uploaded = files.upload()"
      ],
      "metadata": {
        "colab": {
          "base_uri": "https://localhost:8080/",
          "height": 57
        },
        "id": "WP-OokFyS2uX",
        "outputId": "d073c5d8-0089-4f45-824a-e68d0e0b4e9c"
      },
      "execution_count": 4,
      "outputs": [
        {
          "output_type": "display_data",
          "data": {
            "text/plain": [
              "<IPython.core.display.HTML object>"
            ],
            "text/html": [
              "\n",
              "     <input type=\"file\" id=\"files-650a242e-373d-46bf-b131-acd33e7bd728\" name=\"files[]\" multiple disabled\n",
              "        style=\"border:none\" />\n",
              "     <output id=\"result-650a242e-373d-46bf-b131-acd33e7bd728\">\n",
              "      Upload widget is only available when the cell has been executed in the\n",
              "      current browser session. Please rerun this cell to enable.\n",
              "      </output>\n",
              "      <script>// Copyright 2017 Google LLC\n",
              "//\n",
              "// Licensed under the Apache License, Version 2.0 (the \"License\");\n",
              "// you may not use this file except in compliance with the License.\n",
              "// You may obtain a copy of the License at\n",
              "//\n",
              "//      http://www.apache.org/licenses/LICENSE-2.0\n",
              "//\n",
              "// Unless required by applicable law or agreed to in writing, software\n",
              "// distributed under the License is distributed on an \"AS IS\" BASIS,\n",
              "// WITHOUT WARRANTIES OR CONDITIONS OF ANY KIND, either express or implied.\n",
              "// See the License for the specific language governing permissions and\n",
              "// limitations under the License.\n",
              "\n",
              "/**\n",
              " * @fileoverview Helpers for google.colab Python module.\n",
              " */\n",
              "(function(scope) {\n",
              "function span(text, styleAttributes = {}) {\n",
              "  const element = document.createElement('span');\n",
              "  element.textContent = text;\n",
              "  for (const key of Object.keys(styleAttributes)) {\n",
              "    element.style[key] = styleAttributes[key];\n",
              "  }\n",
              "  return element;\n",
              "}\n",
              "\n",
              "// Max number of bytes which will be uploaded at a time.\n",
              "const MAX_PAYLOAD_SIZE = 100 * 1024;\n",
              "\n",
              "function _uploadFiles(inputId, outputId) {\n",
              "  const steps = uploadFilesStep(inputId, outputId);\n",
              "  const outputElement = document.getElementById(outputId);\n",
              "  // Cache steps on the outputElement to make it available for the next call\n",
              "  // to uploadFilesContinue from Python.\n",
              "  outputElement.steps = steps;\n",
              "\n",
              "  return _uploadFilesContinue(outputId);\n",
              "}\n",
              "\n",
              "// This is roughly an async generator (not supported in the browser yet),\n",
              "// where there are multiple asynchronous steps and the Python side is going\n",
              "// to poll for completion of each step.\n",
              "// This uses a Promise to block the python side on completion of each step,\n",
              "// then passes the result of the previous step as the input to the next step.\n",
              "function _uploadFilesContinue(outputId) {\n",
              "  const outputElement = document.getElementById(outputId);\n",
              "  const steps = outputElement.steps;\n",
              "\n",
              "  const next = steps.next(outputElement.lastPromiseValue);\n",
              "  return Promise.resolve(next.value.promise).then((value) => {\n",
              "    // Cache the last promise value to make it available to the next\n",
              "    // step of the generator.\n",
              "    outputElement.lastPromiseValue = value;\n",
              "    return next.value.response;\n",
              "  });\n",
              "}\n",
              "\n",
              "/**\n",
              " * Generator function which is called between each async step of the upload\n",
              " * process.\n",
              " * @param {string} inputId Element ID of the input file picker element.\n",
              " * @param {string} outputId Element ID of the output display.\n",
              " * @return {!Iterable<!Object>} Iterable of next steps.\n",
              " */\n",
              "function* uploadFilesStep(inputId, outputId) {\n",
              "  const inputElement = document.getElementById(inputId);\n",
              "  inputElement.disabled = false;\n",
              "\n",
              "  const outputElement = document.getElementById(outputId);\n",
              "  outputElement.innerHTML = '';\n",
              "\n",
              "  const pickedPromise = new Promise((resolve) => {\n",
              "    inputElement.addEventListener('change', (e) => {\n",
              "      resolve(e.target.files);\n",
              "    });\n",
              "  });\n",
              "\n",
              "  const cancel = document.createElement('button');\n",
              "  inputElement.parentElement.appendChild(cancel);\n",
              "  cancel.textContent = 'Cancel upload';\n",
              "  const cancelPromise = new Promise((resolve) => {\n",
              "    cancel.onclick = () => {\n",
              "      resolve(null);\n",
              "    };\n",
              "  });\n",
              "\n",
              "  // Wait for the user to pick the files.\n",
              "  const files = yield {\n",
              "    promise: Promise.race([pickedPromise, cancelPromise]),\n",
              "    response: {\n",
              "      action: 'starting',\n",
              "    }\n",
              "  };\n",
              "\n",
              "  cancel.remove();\n",
              "\n",
              "  // Disable the input element since further picks are not allowed.\n",
              "  inputElement.disabled = true;\n",
              "\n",
              "  if (!files) {\n",
              "    return {\n",
              "      response: {\n",
              "        action: 'complete',\n",
              "      }\n",
              "    };\n",
              "  }\n",
              "\n",
              "  for (const file of files) {\n",
              "    const li = document.createElement('li');\n",
              "    li.append(span(file.name, {fontWeight: 'bold'}));\n",
              "    li.append(span(\n",
              "        `(${file.type || 'n/a'}) - ${file.size} bytes, ` +\n",
              "        `last modified: ${\n",
              "            file.lastModifiedDate ? file.lastModifiedDate.toLocaleDateString() :\n",
              "                                    'n/a'} - `));\n",
              "    const percent = span('0% done');\n",
              "    li.appendChild(percent);\n",
              "\n",
              "    outputElement.appendChild(li);\n",
              "\n",
              "    const fileDataPromise = new Promise((resolve) => {\n",
              "      const reader = new FileReader();\n",
              "      reader.onload = (e) => {\n",
              "        resolve(e.target.result);\n",
              "      };\n",
              "      reader.readAsArrayBuffer(file);\n",
              "    });\n",
              "    // Wait for the data to be ready.\n",
              "    let fileData = yield {\n",
              "      promise: fileDataPromise,\n",
              "      response: {\n",
              "        action: 'continue',\n",
              "      }\n",
              "    };\n",
              "\n",
              "    // Use a chunked sending to avoid message size limits. See b/62115660.\n",
              "    let position = 0;\n",
              "    do {\n",
              "      const length = Math.min(fileData.byteLength - position, MAX_PAYLOAD_SIZE);\n",
              "      const chunk = new Uint8Array(fileData, position, length);\n",
              "      position += length;\n",
              "\n",
              "      const base64 = btoa(String.fromCharCode.apply(null, chunk));\n",
              "      yield {\n",
              "        response: {\n",
              "          action: 'append',\n",
              "          file: file.name,\n",
              "          data: base64,\n",
              "        },\n",
              "      };\n",
              "\n",
              "      let percentDone = fileData.byteLength === 0 ?\n",
              "          100 :\n",
              "          Math.round((position / fileData.byteLength) * 100);\n",
              "      percent.textContent = `${percentDone}% done`;\n",
              "\n",
              "    } while (position < fileData.byteLength);\n",
              "  }\n",
              "\n",
              "  // All done.\n",
              "  yield {\n",
              "    response: {\n",
              "      action: 'complete',\n",
              "    }\n",
              "  };\n",
              "}\n",
              "\n",
              "scope.google = scope.google || {};\n",
              "scope.google.colab = scope.google.colab || {};\n",
              "scope.google.colab._files = {\n",
              "  _uploadFiles,\n",
              "  _uploadFilesContinue,\n",
              "};\n",
              "})(self);\n",
              "</script> "
            ]
          },
          "metadata": {}
        },
        {
          "output_type": "stream",
          "name": "stdout",
          "text": [
            "Saving netflix daily top 10.csv to netflix daily top 10.csv\n"
          ]
        }
      ]
    },
    {
      "cell_type": "code",
      "source": [
        "df_origin = pd.read_csv('netflix daily top 10.csv')\n",
        "df = df_origin.copy()  # 원본데이터 저장\n",
        "df"
      ],
      "metadata": {
        "colab": {
          "base_uri": "https://localhost:8080/",
          "height": 423
        },
        "id": "VxrSsiL3S9Cw",
        "outputId": "146274c8-3e6f-4656-e5df-ac509e00d679"
      },
      "execution_count": 188,
      "outputs": [
        {
          "output_type": "execute_result",
          "data": {
            "text/plain": [
              "           As of  Rank Year to Date Rank Last Week Rank  \\\n",
              "0     2020-04-01     1                 1              1   \n",
              "1     2020-04-01     2                 2              -   \n",
              "2     2020-04-01     3                 3              2   \n",
              "3     2020-04-01     4                 4              -   \n",
              "4     2020-04-01     5                 5              4   \n",
              "...          ...   ...               ...            ...   \n",
              "7095  2022-03-11     6                 5              1   \n",
              "7096  2022-03-11     7                 7              2   \n",
              "7097  2022-03-11     8                 8              -   \n",
              "7098  2022-03-11     9                 9              7   \n",
              "7099  2022-03-11    10                10              -   \n",
              "\n",
              "                             Title     Type Netflix Exclusive  \\\n",
              "0     Tiger King: Murder, Mayhem …  TV Show               Yes   \n",
              "1                            Ozark  TV Show               Yes   \n",
              "2                     All American  TV Show               NaN   \n",
              "3                     Blood Father    Movie               NaN   \n",
              "4                     The Platform    Movie               Yes   \n",
              "...                            ...      ...               ...   \n",
              "7095           Worst Roommate Ever  TV Show               Yes   \n",
              "7096             Vikings: Valhalla  TV Show               Yes   \n",
              "7097                       Shooter    Movie               NaN   \n",
              "7098                       Shrek 2    Movie               NaN   \n",
              "7099                         Shrek    Movie               NaN   \n",
              "\n",
              "     Netflix Release Date  Days In Top 10  Viewership Score  \n",
              "0            Mar 20, 2020               9                90  \n",
              "1            Jul 21, 2017               5                45  \n",
              "2            Mar 28, 2019               9                76  \n",
              "3            Mar 26, 2020               5                30  \n",
              "4            Mar 20, 2020               9                55  \n",
              "...                   ...             ...               ...  \n",
              "7095          Mar 1, 2022              10                81  \n",
              "7096         Feb 25, 2022              14               100  \n",
              "7097          Aug 1, 2014               3                 7  \n",
              "7098          Mar 1, 2022              10                33  \n",
              "7099          May 1, 2018               7                12  \n",
              "\n",
              "[7100 rows x 10 columns]"
            ],
            "text/html": [
              "\n",
              "  <div id=\"df-54480722-69bc-4e8a-881b-ff3470e60513\">\n",
              "    <div class=\"colab-df-container\">\n",
              "      <div>\n",
              "<style scoped>\n",
              "    .dataframe tbody tr th:only-of-type {\n",
              "        vertical-align: middle;\n",
              "    }\n",
              "\n",
              "    .dataframe tbody tr th {\n",
              "        vertical-align: top;\n",
              "    }\n",
              "\n",
              "    .dataframe thead th {\n",
              "        text-align: right;\n",
              "    }\n",
              "</style>\n",
              "<table border=\"1\" class=\"dataframe\">\n",
              "  <thead>\n",
              "    <tr style=\"text-align: right;\">\n",
              "      <th></th>\n",
              "      <th>As of</th>\n",
              "      <th>Rank</th>\n",
              "      <th>Year to Date Rank</th>\n",
              "      <th>Last Week Rank</th>\n",
              "      <th>Title</th>\n",
              "      <th>Type</th>\n",
              "      <th>Netflix Exclusive</th>\n",
              "      <th>Netflix Release Date</th>\n",
              "      <th>Days In Top 10</th>\n",
              "      <th>Viewership Score</th>\n",
              "    </tr>\n",
              "  </thead>\n",
              "  <tbody>\n",
              "    <tr>\n",
              "      <th>0</th>\n",
              "      <td>2020-04-01</td>\n",
              "      <td>1</td>\n",
              "      <td>1</td>\n",
              "      <td>1</td>\n",
              "      <td>Tiger King: Murder, Mayhem …</td>\n",
              "      <td>TV Show</td>\n",
              "      <td>Yes</td>\n",
              "      <td>Mar 20, 2020</td>\n",
              "      <td>9</td>\n",
              "      <td>90</td>\n",
              "    </tr>\n",
              "    <tr>\n",
              "      <th>1</th>\n",
              "      <td>2020-04-01</td>\n",
              "      <td>2</td>\n",
              "      <td>2</td>\n",
              "      <td>-</td>\n",
              "      <td>Ozark</td>\n",
              "      <td>TV Show</td>\n",
              "      <td>Yes</td>\n",
              "      <td>Jul 21, 2017</td>\n",
              "      <td>5</td>\n",
              "      <td>45</td>\n",
              "    </tr>\n",
              "    <tr>\n",
              "      <th>2</th>\n",
              "      <td>2020-04-01</td>\n",
              "      <td>3</td>\n",
              "      <td>3</td>\n",
              "      <td>2</td>\n",
              "      <td>All American</td>\n",
              "      <td>TV Show</td>\n",
              "      <td>NaN</td>\n",
              "      <td>Mar 28, 2019</td>\n",
              "      <td>9</td>\n",
              "      <td>76</td>\n",
              "    </tr>\n",
              "    <tr>\n",
              "      <th>3</th>\n",
              "      <td>2020-04-01</td>\n",
              "      <td>4</td>\n",
              "      <td>4</td>\n",
              "      <td>-</td>\n",
              "      <td>Blood Father</td>\n",
              "      <td>Movie</td>\n",
              "      <td>NaN</td>\n",
              "      <td>Mar 26, 2020</td>\n",
              "      <td>5</td>\n",
              "      <td>30</td>\n",
              "    </tr>\n",
              "    <tr>\n",
              "      <th>4</th>\n",
              "      <td>2020-04-01</td>\n",
              "      <td>5</td>\n",
              "      <td>5</td>\n",
              "      <td>4</td>\n",
              "      <td>The Platform</td>\n",
              "      <td>Movie</td>\n",
              "      <td>Yes</td>\n",
              "      <td>Mar 20, 2020</td>\n",
              "      <td>9</td>\n",
              "      <td>55</td>\n",
              "    </tr>\n",
              "    <tr>\n",
              "      <th>...</th>\n",
              "      <td>...</td>\n",
              "      <td>...</td>\n",
              "      <td>...</td>\n",
              "      <td>...</td>\n",
              "      <td>...</td>\n",
              "      <td>...</td>\n",
              "      <td>...</td>\n",
              "      <td>...</td>\n",
              "      <td>...</td>\n",
              "      <td>...</td>\n",
              "    </tr>\n",
              "    <tr>\n",
              "      <th>7095</th>\n",
              "      <td>2022-03-11</td>\n",
              "      <td>6</td>\n",
              "      <td>5</td>\n",
              "      <td>1</td>\n",
              "      <td>Worst Roommate Ever</td>\n",
              "      <td>TV Show</td>\n",
              "      <td>Yes</td>\n",
              "      <td>Mar 1, 2022</td>\n",
              "      <td>10</td>\n",
              "      <td>81</td>\n",
              "    </tr>\n",
              "    <tr>\n",
              "      <th>7096</th>\n",
              "      <td>2022-03-11</td>\n",
              "      <td>7</td>\n",
              "      <td>7</td>\n",
              "      <td>2</td>\n",
              "      <td>Vikings: Valhalla</td>\n",
              "      <td>TV Show</td>\n",
              "      <td>Yes</td>\n",
              "      <td>Feb 25, 2022</td>\n",
              "      <td>14</td>\n",
              "      <td>100</td>\n",
              "    </tr>\n",
              "    <tr>\n",
              "      <th>7097</th>\n",
              "      <td>2022-03-11</td>\n",
              "      <td>8</td>\n",
              "      <td>8</td>\n",
              "      <td>-</td>\n",
              "      <td>Shooter</td>\n",
              "      <td>Movie</td>\n",
              "      <td>NaN</td>\n",
              "      <td>Aug 1, 2014</td>\n",
              "      <td>3</td>\n",
              "      <td>7</td>\n",
              "    </tr>\n",
              "    <tr>\n",
              "      <th>7098</th>\n",
              "      <td>2022-03-11</td>\n",
              "      <td>9</td>\n",
              "      <td>9</td>\n",
              "      <td>7</td>\n",
              "      <td>Shrek 2</td>\n",
              "      <td>Movie</td>\n",
              "      <td>NaN</td>\n",
              "      <td>Mar 1, 2022</td>\n",
              "      <td>10</td>\n",
              "      <td>33</td>\n",
              "    </tr>\n",
              "    <tr>\n",
              "      <th>7099</th>\n",
              "      <td>2022-03-11</td>\n",
              "      <td>10</td>\n",
              "      <td>10</td>\n",
              "      <td>-</td>\n",
              "      <td>Shrek</td>\n",
              "      <td>Movie</td>\n",
              "      <td>NaN</td>\n",
              "      <td>May 1, 2018</td>\n",
              "      <td>7</td>\n",
              "      <td>12</td>\n",
              "    </tr>\n",
              "  </tbody>\n",
              "</table>\n",
              "<p>7100 rows × 10 columns</p>\n",
              "</div>\n",
              "      <button class=\"colab-df-convert\" onclick=\"convertToInteractive('df-54480722-69bc-4e8a-881b-ff3470e60513')\"\n",
              "              title=\"Convert this dataframe to an interactive table.\"\n",
              "              style=\"display:none;\">\n",
              "        \n",
              "  <svg xmlns=\"http://www.w3.org/2000/svg\" height=\"24px\"viewBox=\"0 0 24 24\"\n",
              "       width=\"24px\">\n",
              "    <path d=\"M0 0h24v24H0V0z\" fill=\"none\"/>\n",
              "    <path d=\"M18.56 5.44l.94 2.06.94-2.06 2.06-.94-2.06-.94-.94-2.06-.94 2.06-2.06.94zm-11 1L8.5 8.5l.94-2.06 2.06-.94-2.06-.94L8.5 2.5l-.94 2.06-2.06.94zm10 10l.94 2.06.94-2.06 2.06-.94-2.06-.94-.94-2.06-.94 2.06-2.06.94z\"/><path d=\"M17.41 7.96l-1.37-1.37c-.4-.4-.92-.59-1.43-.59-.52 0-1.04.2-1.43.59L10.3 9.45l-7.72 7.72c-.78.78-.78 2.05 0 2.83L4 21.41c.39.39.9.59 1.41.59.51 0 1.02-.2 1.41-.59l7.78-7.78 2.81-2.81c.8-.78.8-2.07 0-2.86zM5.41 20L4 18.59l7.72-7.72 1.47 1.35L5.41 20z\"/>\n",
              "  </svg>\n",
              "      </button>\n",
              "      \n",
              "  <style>\n",
              "    .colab-df-container {\n",
              "      display:flex;\n",
              "      flex-wrap:wrap;\n",
              "      gap: 12px;\n",
              "    }\n",
              "\n",
              "    .colab-df-convert {\n",
              "      background-color: #E8F0FE;\n",
              "      border: none;\n",
              "      border-radius: 50%;\n",
              "      cursor: pointer;\n",
              "      display: none;\n",
              "      fill: #1967D2;\n",
              "      height: 32px;\n",
              "      padding: 0 0 0 0;\n",
              "      width: 32px;\n",
              "    }\n",
              "\n",
              "    .colab-df-convert:hover {\n",
              "      background-color: #E2EBFA;\n",
              "      box-shadow: 0px 1px 2px rgba(60, 64, 67, 0.3), 0px 1px 3px 1px rgba(60, 64, 67, 0.15);\n",
              "      fill: #174EA6;\n",
              "    }\n",
              "\n",
              "    [theme=dark] .colab-df-convert {\n",
              "      background-color: #3B4455;\n",
              "      fill: #D2E3FC;\n",
              "    }\n",
              "\n",
              "    [theme=dark] .colab-df-convert:hover {\n",
              "      background-color: #434B5C;\n",
              "      box-shadow: 0px 1px 3px 1px rgba(0, 0, 0, 0.15);\n",
              "      filter: drop-shadow(0px 1px 2px rgba(0, 0, 0, 0.3));\n",
              "      fill: #FFFFFF;\n",
              "    }\n",
              "  </style>\n",
              "\n",
              "      <script>\n",
              "        const buttonEl =\n",
              "          document.querySelector('#df-54480722-69bc-4e8a-881b-ff3470e60513 button.colab-df-convert');\n",
              "        buttonEl.style.display =\n",
              "          google.colab.kernel.accessAllowed ? 'block' : 'none';\n",
              "\n",
              "        async function convertToInteractive(key) {\n",
              "          const element = document.querySelector('#df-54480722-69bc-4e8a-881b-ff3470e60513');\n",
              "          const dataTable =\n",
              "            await google.colab.kernel.invokeFunction('convertToInteractive',\n",
              "                                                     [key], {});\n",
              "          if (!dataTable) return;\n",
              "\n",
              "          const docLinkHtml = 'Like what you see? Visit the ' +\n",
              "            '<a target=\"_blank\" href=https://colab.research.google.com/notebooks/data_table.ipynb>data table notebook</a>'\n",
              "            + ' to learn more about interactive tables.';\n",
              "          element.innerHTML = '';\n",
              "          dataTable['output_type'] = 'display_data';\n",
              "          await google.colab.output.renderOutput(dataTable, element);\n",
              "          const docLink = document.createElement('div');\n",
              "          docLink.innerHTML = docLinkHtml;\n",
              "          element.appendChild(docLink);\n",
              "        }\n",
              "      </script>\n",
              "    </div>\n",
              "  </div>\n",
              "  "
            ]
          },
          "metadata": {},
          "execution_count": 188
        }
      ]
    },
    {
      "cell_type": "code",
      "source": [
        "df.columns = ['As_of', 'Rank', 'Year_to_Date_Rank', 'Last_Week_Rank', 'Title', 'Type',\n",
        "       'Netflix_Exclusive', 'Netflix_Release_Date', 'Days_In_Top_10',\n",
        "       'Viewership_Score']\n",
        "df"
      ],
      "metadata": {
        "colab": {
          "base_uri": "https://localhost:8080/",
          "height": 423
        },
        "id": "zzWx0BSv22kz",
        "outputId": "bcbc63be-9e0c-4c43-c929-a9bfee5ec0fc"
      },
      "execution_count": 189,
      "outputs": [
        {
          "output_type": "execute_result",
          "data": {
            "text/plain": [
              "           As_of  Rank Year_to_Date_Rank Last_Week_Rank  \\\n",
              "0     2020-04-01     1                 1              1   \n",
              "1     2020-04-01     2                 2              -   \n",
              "2     2020-04-01     3                 3              2   \n",
              "3     2020-04-01     4                 4              -   \n",
              "4     2020-04-01     5                 5              4   \n",
              "...          ...   ...               ...            ...   \n",
              "7095  2022-03-11     6                 5              1   \n",
              "7096  2022-03-11     7                 7              2   \n",
              "7097  2022-03-11     8                 8              -   \n",
              "7098  2022-03-11     9                 9              7   \n",
              "7099  2022-03-11    10                10              -   \n",
              "\n",
              "                             Title     Type Netflix_Exclusive  \\\n",
              "0     Tiger King: Murder, Mayhem …  TV Show               Yes   \n",
              "1                            Ozark  TV Show               Yes   \n",
              "2                     All American  TV Show               NaN   \n",
              "3                     Blood Father    Movie               NaN   \n",
              "4                     The Platform    Movie               Yes   \n",
              "...                            ...      ...               ...   \n",
              "7095           Worst Roommate Ever  TV Show               Yes   \n",
              "7096             Vikings: Valhalla  TV Show               Yes   \n",
              "7097                       Shooter    Movie               NaN   \n",
              "7098                       Shrek 2    Movie               NaN   \n",
              "7099                         Shrek    Movie               NaN   \n",
              "\n",
              "     Netflix_Release_Date  Days_In_Top_10  Viewership_Score  \n",
              "0            Mar 20, 2020               9                90  \n",
              "1            Jul 21, 2017               5                45  \n",
              "2            Mar 28, 2019               9                76  \n",
              "3            Mar 26, 2020               5                30  \n",
              "4            Mar 20, 2020               9                55  \n",
              "...                   ...             ...               ...  \n",
              "7095          Mar 1, 2022              10                81  \n",
              "7096         Feb 25, 2022              14               100  \n",
              "7097          Aug 1, 2014               3                 7  \n",
              "7098          Mar 1, 2022              10                33  \n",
              "7099          May 1, 2018               7                12  \n",
              "\n",
              "[7100 rows x 10 columns]"
            ],
            "text/html": [
              "\n",
              "  <div id=\"df-5d96ddb5-d557-4855-9606-894d509e4256\">\n",
              "    <div class=\"colab-df-container\">\n",
              "      <div>\n",
              "<style scoped>\n",
              "    .dataframe tbody tr th:only-of-type {\n",
              "        vertical-align: middle;\n",
              "    }\n",
              "\n",
              "    .dataframe tbody tr th {\n",
              "        vertical-align: top;\n",
              "    }\n",
              "\n",
              "    .dataframe thead th {\n",
              "        text-align: right;\n",
              "    }\n",
              "</style>\n",
              "<table border=\"1\" class=\"dataframe\">\n",
              "  <thead>\n",
              "    <tr style=\"text-align: right;\">\n",
              "      <th></th>\n",
              "      <th>As_of</th>\n",
              "      <th>Rank</th>\n",
              "      <th>Year_to_Date_Rank</th>\n",
              "      <th>Last_Week_Rank</th>\n",
              "      <th>Title</th>\n",
              "      <th>Type</th>\n",
              "      <th>Netflix_Exclusive</th>\n",
              "      <th>Netflix_Release_Date</th>\n",
              "      <th>Days_In_Top_10</th>\n",
              "      <th>Viewership_Score</th>\n",
              "    </tr>\n",
              "  </thead>\n",
              "  <tbody>\n",
              "    <tr>\n",
              "      <th>0</th>\n",
              "      <td>2020-04-01</td>\n",
              "      <td>1</td>\n",
              "      <td>1</td>\n",
              "      <td>1</td>\n",
              "      <td>Tiger King: Murder, Mayhem …</td>\n",
              "      <td>TV Show</td>\n",
              "      <td>Yes</td>\n",
              "      <td>Mar 20, 2020</td>\n",
              "      <td>9</td>\n",
              "      <td>90</td>\n",
              "    </tr>\n",
              "    <tr>\n",
              "      <th>1</th>\n",
              "      <td>2020-04-01</td>\n",
              "      <td>2</td>\n",
              "      <td>2</td>\n",
              "      <td>-</td>\n",
              "      <td>Ozark</td>\n",
              "      <td>TV Show</td>\n",
              "      <td>Yes</td>\n",
              "      <td>Jul 21, 2017</td>\n",
              "      <td>5</td>\n",
              "      <td>45</td>\n",
              "    </tr>\n",
              "    <tr>\n",
              "      <th>2</th>\n",
              "      <td>2020-04-01</td>\n",
              "      <td>3</td>\n",
              "      <td>3</td>\n",
              "      <td>2</td>\n",
              "      <td>All American</td>\n",
              "      <td>TV Show</td>\n",
              "      <td>NaN</td>\n",
              "      <td>Mar 28, 2019</td>\n",
              "      <td>9</td>\n",
              "      <td>76</td>\n",
              "    </tr>\n",
              "    <tr>\n",
              "      <th>3</th>\n",
              "      <td>2020-04-01</td>\n",
              "      <td>4</td>\n",
              "      <td>4</td>\n",
              "      <td>-</td>\n",
              "      <td>Blood Father</td>\n",
              "      <td>Movie</td>\n",
              "      <td>NaN</td>\n",
              "      <td>Mar 26, 2020</td>\n",
              "      <td>5</td>\n",
              "      <td>30</td>\n",
              "    </tr>\n",
              "    <tr>\n",
              "      <th>4</th>\n",
              "      <td>2020-04-01</td>\n",
              "      <td>5</td>\n",
              "      <td>5</td>\n",
              "      <td>4</td>\n",
              "      <td>The Platform</td>\n",
              "      <td>Movie</td>\n",
              "      <td>Yes</td>\n",
              "      <td>Mar 20, 2020</td>\n",
              "      <td>9</td>\n",
              "      <td>55</td>\n",
              "    </tr>\n",
              "    <tr>\n",
              "      <th>...</th>\n",
              "      <td>...</td>\n",
              "      <td>...</td>\n",
              "      <td>...</td>\n",
              "      <td>...</td>\n",
              "      <td>...</td>\n",
              "      <td>...</td>\n",
              "      <td>...</td>\n",
              "      <td>...</td>\n",
              "      <td>...</td>\n",
              "      <td>...</td>\n",
              "    </tr>\n",
              "    <tr>\n",
              "      <th>7095</th>\n",
              "      <td>2022-03-11</td>\n",
              "      <td>6</td>\n",
              "      <td>5</td>\n",
              "      <td>1</td>\n",
              "      <td>Worst Roommate Ever</td>\n",
              "      <td>TV Show</td>\n",
              "      <td>Yes</td>\n",
              "      <td>Mar 1, 2022</td>\n",
              "      <td>10</td>\n",
              "      <td>81</td>\n",
              "    </tr>\n",
              "    <tr>\n",
              "      <th>7096</th>\n",
              "      <td>2022-03-11</td>\n",
              "      <td>7</td>\n",
              "      <td>7</td>\n",
              "      <td>2</td>\n",
              "      <td>Vikings: Valhalla</td>\n",
              "      <td>TV Show</td>\n",
              "      <td>Yes</td>\n",
              "      <td>Feb 25, 2022</td>\n",
              "      <td>14</td>\n",
              "      <td>100</td>\n",
              "    </tr>\n",
              "    <tr>\n",
              "      <th>7097</th>\n",
              "      <td>2022-03-11</td>\n",
              "      <td>8</td>\n",
              "      <td>8</td>\n",
              "      <td>-</td>\n",
              "      <td>Shooter</td>\n",
              "      <td>Movie</td>\n",
              "      <td>NaN</td>\n",
              "      <td>Aug 1, 2014</td>\n",
              "      <td>3</td>\n",
              "      <td>7</td>\n",
              "    </tr>\n",
              "    <tr>\n",
              "      <th>7098</th>\n",
              "      <td>2022-03-11</td>\n",
              "      <td>9</td>\n",
              "      <td>9</td>\n",
              "      <td>7</td>\n",
              "      <td>Shrek 2</td>\n",
              "      <td>Movie</td>\n",
              "      <td>NaN</td>\n",
              "      <td>Mar 1, 2022</td>\n",
              "      <td>10</td>\n",
              "      <td>33</td>\n",
              "    </tr>\n",
              "    <tr>\n",
              "      <th>7099</th>\n",
              "      <td>2022-03-11</td>\n",
              "      <td>10</td>\n",
              "      <td>10</td>\n",
              "      <td>-</td>\n",
              "      <td>Shrek</td>\n",
              "      <td>Movie</td>\n",
              "      <td>NaN</td>\n",
              "      <td>May 1, 2018</td>\n",
              "      <td>7</td>\n",
              "      <td>12</td>\n",
              "    </tr>\n",
              "  </tbody>\n",
              "</table>\n",
              "<p>7100 rows × 10 columns</p>\n",
              "</div>\n",
              "      <button class=\"colab-df-convert\" onclick=\"convertToInteractive('df-5d96ddb5-d557-4855-9606-894d509e4256')\"\n",
              "              title=\"Convert this dataframe to an interactive table.\"\n",
              "              style=\"display:none;\">\n",
              "        \n",
              "  <svg xmlns=\"http://www.w3.org/2000/svg\" height=\"24px\"viewBox=\"0 0 24 24\"\n",
              "       width=\"24px\">\n",
              "    <path d=\"M0 0h24v24H0V0z\" fill=\"none\"/>\n",
              "    <path d=\"M18.56 5.44l.94 2.06.94-2.06 2.06-.94-2.06-.94-.94-2.06-.94 2.06-2.06.94zm-11 1L8.5 8.5l.94-2.06 2.06-.94-2.06-.94L8.5 2.5l-.94 2.06-2.06.94zm10 10l.94 2.06.94-2.06 2.06-.94-2.06-.94-.94-2.06-.94 2.06-2.06.94z\"/><path d=\"M17.41 7.96l-1.37-1.37c-.4-.4-.92-.59-1.43-.59-.52 0-1.04.2-1.43.59L10.3 9.45l-7.72 7.72c-.78.78-.78 2.05 0 2.83L4 21.41c.39.39.9.59 1.41.59.51 0 1.02-.2 1.41-.59l7.78-7.78 2.81-2.81c.8-.78.8-2.07 0-2.86zM5.41 20L4 18.59l7.72-7.72 1.47 1.35L5.41 20z\"/>\n",
              "  </svg>\n",
              "      </button>\n",
              "      \n",
              "  <style>\n",
              "    .colab-df-container {\n",
              "      display:flex;\n",
              "      flex-wrap:wrap;\n",
              "      gap: 12px;\n",
              "    }\n",
              "\n",
              "    .colab-df-convert {\n",
              "      background-color: #E8F0FE;\n",
              "      border: none;\n",
              "      border-radius: 50%;\n",
              "      cursor: pointer;\n",
              "      display: none;\n",
              "      fill: #1967D2;\n",
              "      height: 32px;\n",
              "      padding: 0 0 0 0;\n",
              "      width: 32px;\n",
              "    }\n",
              "\n",
              "    .colab-df-convert:hover {\n",
              "      background-color: #E2EBFA;\n",
              "      box-shadow: 0px 1px 2px rgba(60, 64, 67, 0.3), 0px 1px 3px 1px rgba(60, 64, 67, 0.15);\n",
              "      fill: #174EA6;\n",
              "    }\n",
              "\n",
              "    [theme=dark] .colab-df-convert {\n",
              "      background-color: #3B4455;\n",
              "      fill: #D2E3FC;\n",
              "    }\n",
              "\n",
              "    [theme=dark] .colab-df-convert:hover {\n",
              "      background-color: #434B5C;\n",
              "      box-shadow: 0px 1px 3px 1px rgba(0, 0, 0, 0.15);\n",
              "      filter: drop-shadow(0px 1px 2px rgba(0, 0, 0, 0.3));\n",
              "      fill: #FFFFFF;\n",
              "    }\n",
              "  </style>\n",
              "\n",
              "      <script>\n",
              "        const buttonEl =\n",
              "          document.querySelector('#df-5d96ddb5-d557-4855-9606-894d509e4256 button.colab-df-convert');\n",
              "        buttonEl.style.display =\n",
              "          google.colab.kernel.accessAllowed ? 'block' : 'none';\n",
              "\n",
              "        async function convertToInteractive(key) {\n",
              "          const element = document.querySelector('#df-5d96ddb5-d557-4855-9606-894d509e4256');\n",
              "          const dataTable =\n",
              "            await google.colab.kernel.invokeFunction('convertToInteractive',\n",
              "                                                     [key], {});\n",
              "          if (!dataTable) return;\n",
              "\n",
              "          const docLinkHtml = 'Like what you see? Visit the ' +\n",
              "            '<a target=\"_blank\" href=https://colab.research.google.com/notebooks/data_table.ipynb>data table notebook</a>'\n",
              "            + ' to learn more about interactive tables.';\n",
              "          element.innerHTML = '';\n",
              "          dataTable['output_type'] = 'display_data';\n",
              "          await google.colab.output.renderOutput(dataTable, element);\n",
              "          const docLink = document.createElement('div');\n",
              "          docLink.innerHTML = docLinkHtml;\n",
              "          element.appendChild(docLink);\n",
              "        }\n",
              "      </script>\n",
              "    </div>\n",
              "  </div>\n",
              "  "
            ]
          },
          "metadata": {},
          "execution_count": 189
        }
      ]
    },
    {
      "cell_type": "markdown",
      "source": [
        "## **2. 타겟** ##"
      ],
      "metadata": {
        "id": "s1xYZN3jTW88"
      }
    },
    {
      "cell_type": "markdown",
      "source": [
        ": 넷플릭스 독점여부를 나타내는 `Netflix_Exclusive` 컬럼"
      ],
      "metadata": {
        "id": "_-huQ5WlTlVt"
      }
    },
    {
      "cell_type": "markdown",
      "source": [
        "## **3. 가설** ##"
      ],
      "metadata": {
        "id": "ge6FTzyAUJ6B"
      }
    },
    {
      "cell_type": "markdown",
      "source": [
        "1. `Rank` 가 높을수록 넷플릭스 독점일 것이다.\n",
        "\n",
        "2. `Days_In_Top_10` 이 높을수록 넷플릭스 독점일 것이다.\n",
        "\n",
        "3. `Viewership_Score` 가 높을수록 넷플릭스 독점일 것이다."
      ],
      "metadata": {
        "id": "sW_kKXCAUNBO"
      }
    },
    {
      "cell_type": "markdown",
      "source": [
        "# **[ 데이터 전처리 및 EDA ]**"
      ],
      "metadata": {
        "id": "APpQSblmYO-B"
      }
    },
    {
      "cell_type": "markdown",
      "source": [
        "## **1. 데이터 전처리** ##"
      ],
      "metadata": {
        "id": "rRw9K041D4bA"
      }
    },
    {
      "cell_type": "markdown",
      "source": [
        "넷플릭스 독점여부를 나타내는 `Netflix_Exclusive` 컬럼이 Yes와 NaN 값으로 나뉘어져 있으므로 NaN 값을 No로 바꿔준다."
      ],
      "metadata": {
        "id": "koct-VyUDjYe"
      }
    },
    {
      "cell_type": "code",
      "source": [
        "df['Netflix_Exclusive'].isnull().sum()"
      ],
      "metadata": {
        "colab": {
          "base_uri": "https://localhost:8080/"
        },
        "id": "7P77CQrZ2JQd",
        "outputId": "ffdf7393-17c5-487f-d1f3-14ac82fa80e1"
      },
      "execution_count": 190,
      "outputs": [
        {
          "output_type": "execute_result",
          "data": {
            "text/plain": [
              "2501"
            ]
          },
          "metadata": {},
          "execution_count": 190
        }
      ]
    },
    {
      "cell_type": "code",
      "source": [
        "df['Netflix_Exclusive'] = df['Netflix_Exclusive'].fillna('No')\n",
        "df['Netflix_Exclusive'].value_counts()"
      ],
      "metadata": {
        "colab": {
          "base_uri": "https://localhost:8080/"
        },
        "id": "PepGeinA3Fdt",
        "outputId": "74b65aa0-0834-4fb9-eeae-b31fdf41b50b"
      },
      "execution_count": 191,
      "outputs": [
        {
          "output_type": "execute_result",
          "data": {
            "text/plain": [
              "Yes    4599\n",
              "No     2501\n",
              "Name: Netflix_Exclusive, dtype: int64"
            ]
          },
          "metadata": {},
          "execution_count": 191
        }
      ]
    },
    {
      "cell_type": "markdown",
      "source": [
        "`Netflix_Exclusive` 컬럼은 타겟이 될 컬럼이므로 인코딩해준다."
      ],
      "metadata": {
        "id": "ePdVPtOBX5Oj"
      }
    },
    {
      "cell_type": "code",
      "source": [
        "df['Netflix_Exclusive'] = df['Netflix_Exclusive'].replace({'No':0, 'Yes':1})\n",
        "df"
      ],
      "metadata": {
        "colab": {
          "base_uri": "https://localhost:8080/",
          "height": 423
        },
        "id": "5aEox0z1X5_A",
        "outputId": "22cc81c7-4d0f-4da9-b528-234ac3f9f3c0"
      },
      "execution_count": 192,
      "outputs": [
        {
          "output_type": "execute_result",
          "data": {
            "text/plain": [
              "           As_of  Rank Year_to_Date_Rank Last_Week_Rank  \\\n",
              "0     2020-04-01     1                 1              1   \n",
              "1     2020-04-01     2                 2              -   \n",
              "2     2020-04-01     3                 3              2   \n",
              "3     2020-04-01     4                 4              -   \n",
              "4     2020-04-01     5                 5              4   \n",
              "...          ...   ...               ...            ...   \n",
              "7095  2022-03-11     6                 5              1   \n",
              "7096  2022-03-11     7                 7              2   \n",
              "7097  2022-03-11     8                 8              -   \n",
              "7098  2022-03-11     9                 9              7   \n",
              "7099  2022-03-11    10                10              -   \n",
              "\n",
              "                             Title     Type  Netflix_Exclusive  \\\n",
              "0     Tiger King: Murder, Mayhem …  TV Show                  1   \n",
              "1                            Ozark  TV Show                  1   \n",
              "2                     All American  TV Show                  0   \n",
              "3                     Blood Father    Movie                  0   \n",
              "4                     The Platform    Movie                  1   \n",
              "...                            ...      ...                ...   \n",
              "7095           Worst Roommate Ever  TV Show                  1   \n",
              "7096             Vikings: Valhalla  TV Show                  1   \n",
              "7097                       Shooter    Movie                  0   \n",
              "7098                       Shrek 2    Movie                  0   \n",
              "7099                         Shrek    Movie                  0   \n",
              "\n",
              "     Netflix_Release_Date  Days_In_Top_10  Viewership_Score  \n",
              "0            Mar 20, 2020               9                90  \n",
              "1            Jul 21, 2017               5                45  \n",
              "2            Mar 28, 2019               9                76  \n",
              "3            Mar 26, 2020               5                30  \n",
              "4            Mar 20, 2020               9                55  \n",
              "...                   ...             ...               ...  \n",
              "7095          Mar 1, 2022              10                81  \n",
              "7096         Feb 25, 2022              14               100  \n",
              "7097          Aug 1, 2014               3                 7  \n",
              "7098          Mar 1, 2022              10                33  \n",
              "7099          May 1, 2018               7                12  \n",
              "\n",
              "[7100 rows x 10 columns]"
            ],
            "text/html": [
              "\n",
              "  <div id=\"df-e75f24c5-953f-4f6e-ad19-46f226e494fe\">\n",
              "    <div class=\"colab-df-container\">\n",
              "      <div>\n",
              "<style scoped>\n",
              "    .dataframe tbody tr th:only-of-type {\n",
              "        vertical-align: middle;\n",
              "    }\n",
              "\n",
              "    .dataframe tbody tr th {\n",
              "        vertical-align: top;\n",
              "    }\n",
              "\n",
              "    .dataframe thead th {\n",
              "        text-align: right;\n",
              "    }\n",
              "</style>\n",
              "<table border=\"1\" class=\"dataframe\">\n",
              "  <thead>\n",
              "    <tr style=\"text-align: right;\">\n",
              "      <th></th>\n",
              "      <th>As_of</th>\n",
              "      <th>Rank</th>\n",
              "      <th>Year_to_Date_Rank</th>\n",
              "      <th>Last_Week_Rank</th>\n",
              "      <th>Title</th>\n",
              "      <th>Type</th>\n",
              "      <th>Netflix_Exclusive</th>\n",
              "      <th>Netflix_Release_Date</th>\n",
              "      <th>Days_In_Top_10</th>\n",
              "      <th>Viewership_Score</th>\n",
              "    </tr>\n",
              "  </thead>\n",
              "  <tbody>\n",
              "    <tr>\n",
              "      <th>0</th>\n",
              "      <td>2020-04-01</td>\n",
              "      <td>1</td>\n",
              "      <td>1</td>\n",
              "      <td>1</td>\n",
              "      <td>Tiger King: Murder, Mayhem …</td>\n",
              "      <td>TV Show</td>\n",
              "      <td>1</td>\n",
              "      <td>Mar 20, 2020</td>\n",
              "      <td>9</td>\n",
              "      <td>90</td>\n",
              "    </tr>\n",
              "    <tr>\n",
              "      <th>1</th>\n",
              "      <td>2020-04-01</td>\n",
              "      <td>2</td>\n",
              "      <td>2</td>\n",
              "      <td>-</td>\n",
              "      <td>Ozark</td>\n",
              "      <td>TV Show</td>\n",
              "      <td>1</td>\n",
              "      <td>Jul 21, 2017</td>\n",
              "      <td>5</td>\n",
              "      <td>45</td>\n",
              "    </tr>\n",
              "    <tr>\n",
              "      <th>2</th>\n",
              "      <td>2020-04-01</td>\n",
              "      <td>3</td>\n",
              "      <td>3</td>\n",
              "      <td>2</td>\n",
              "      <td>All American</td>\n",
              "      <td>TV Show</td>\n",
              "      <td>0</td>\n",
              "      <td>Mar 28, 2019</td>\n",
              "      <td>9</td>\n",
              "      <td>76</td>\n",
              "    </tr>\n",
              "    <tr>\n",
              "      <th>3</th>\n",
              "      <td>2020-04-01</td>\n",
              "      <td>4</td>\n",
              "      <td>4</td>\n",
              "      <td>-</td>\n",
              "      <td>Blood Father</td>\n",
              "      <td>Movie</td>\n",
              "      <td>0</td>\n",
              "      <td>Mar 26, 2020</td>\n",
              "      <td>5</td>\n",
              "      <td>30</td>\n",
              "    </tr>\n",
              "    <tr>\n",
              "      <th>4</th>\n",
              "      <td>2020-04-01</td>\n",
              "      <td>5</td>\n",
              "      <td>5</td>\n",
              "      <td>4</td>\n",
              "      <td>The Platform</td>\n",
              "      <td>Movie</td>\n",
              "      <td>1</td>\n",
              "      <td>Mar 20, 2020</td>\n",
              "      <td>9</td>\n",
              "      <td>55</td>\n",
              "    </tr>\n",
              "    <tr>\n",
              "      <th>...</th>\n",
              "      <td>...</td>\n",
              "      <td>...</td>\n",
              "      <td>...</td>\n",
              "      <td>...</td>\n",
              "      <td>...</td>\n",
              "      <td>...</td>\n",
              "      <td>...</td>\n",
              "      <td>...</td>\n",
              "      <td>...</td>\n",
              "      <td>...</td>\n",
              "    </tr>\n",
              "    <tr>\n",
              "      <th>7095</th>\n",
              "      <td>2022-03-11</td>\n",
              "      <td>6</td>\n",
              "      <td>5</td>\n",
              "      <td>1</td>\n",
              "      <td>Worst Roommate Ever</td>\n",
              "      <td>TV Show</td>\n",
              "      <td>1</td>\n",
              "      <td>Mar 1, 2022</td>\n",
              "      <td>10</td>\n",
              "      <td>81</td>\n",
              "    </tr>\n",
              "    <tr>\n",
              "      <th>7096</th>\n",
              "      <td>2022-03-11</td>\n",
              "      <td>7</td>\n",
              "      <td>7</td>\n",
              "      <td>2</td>\n",
              "      <td>Vikings: Valhalla</td>\n",
              "      <td>TV Show</td>\n",
              "      <td>1</td>\n",
              "      <td>Feb 25, 2022</td>\n",
              "      <td>14</td>\n",
              "      <td>100</td>\n",
              "    </tr>\n",
              "    <tr>\n",
              "      <th>7097</th>\n",
              "      <td>2022-03-11</td>\n",
              "      <td>8</td>\n",
              "      <td>8</td>\n",
              "      <td>-</td>\n",
              "      <td>Shooter</td>\n",
              "      <td>Movie</td>\n",
              "      <td>0</td>\n",
              "      <td>Aug 1, 2014</td>\n",
              "      <td>3</td>\n",
              "      <td>7</td>\n",
              "    </tr>\n",
              "    <tr>\n",
              "      <th>7098</th>\n",
              "      <td>2022-03-11</td>\n",
              "      <td>9</td>\n",
              "      <td>9</td>\n",
              "      <td>7</td>\n",
              "      <td>Shrek 2</td>\n",
              "      <td>Movie</td>\n",
              "      <td>0</td>\n",
              "      <td>Mar 1, 2022</td>\n",
              "      <td>10</td>\n",
              "      <td>33</td>\n",
              "    </tr>\n",
              "    <tr>\n",
              "      <th>7099</th>\n",
              "      <td>2022-03-11</td>\n",
              "      <td>10</td>\n",
              "      <td>10</td>\n",
              "      <td>-</td>\n",
              "      <td>Shrek</td>\n",
              "      <td>Movie</td>\n",
              "      <td>0</td>\n",
              "      <td>May 1, 2018</td>\n",
              "      <td>7</td>\n",
              "      <td>12</td>\n",
              "    </tr>\n",
              "  </tbody>\n",
              "</table>\n",
              "<p>7100 rows × 10 columns</p>\n",
              "</div>\n",
              "      <button class=\"colab-df-convert\" onclick=\"convertToInteractive('df-e75f24c5-953f-4f6e-ad19-46f226e494fe')\"\n",
              "              title=\"Convert this dataframe to an interactive table.\"\n",
              "              style=\"display:none;\">\n",
              "        \n",
              "  <svg xmlns=\"http://www.w3.org/2000/svg\" height=\"24px\"viewBox=\"0 0 24 24\"\n",
              "       width=\"24px\">\n",
              "    <path d=\"M0 0h24v24H0V0z\" fill=\"none\"/>\n",
              "    <path d=\"M18.56 5.44l.94 2.06.94-2.06 2.06-.94-2.06-.94-.94-2.06-.94 2.06-2.06.94zm-11 1L8.5 8.5l.94-2.06 2.06-.94-2.06-.94L8.5 2.5l-.94 2.06-2.06.94zm10 10l.94 2.06.94-2.06 2.06-.94-2.06-.94-.94-2.06-.94 2.06-2.06.94z\"/><path d=\"M17.41 7.96l-1.37-1.37c-.4-.4-.92-.59-1.43-.59-.52 0-1.04.2-1.43.59L10.3 9.45l-7.72 7.72c-.78.78-.78 2.05 0 2.83L4 21.41c.39.39.9.59 1.41.59.51 0 1.02-.2 1.41-.59l7.78-7.78 2.81-2.81c.8-.78.8-2.07 0-2.86zM5.41 20L4 18.59l7.72-7.72 1.47 1.35L5.41 20z\"/>\n",
              "  </svg>\n",
              "      </button>\n",
              "      \n",
              "  <style>\n",
              "    .colab-df-container {\n",
              "      display:flex;\n",
              "      flex-wrap:wrap;\n",
              "      gap: 12px;\n",
              "    }\n",
              "\n",
              "    .colab-df-convert {\n",
              "      background-color: #E8F0FE;\n",
              "      border: none;\n",
              "      border-radius: 50%;\n",
              "      cursor: pointer;\n",
              "      display: none;\n",
              "      fill: #1967D2;\n",
              "      height: 32px;\n",
              "      padding: 0 0 0 0;\n",
              "      width: 32px;\n",
              "    }\n",
              "\n",
              "    .colab-df-convert:hover {\n",
              "      background-color: #E2EBFA;\n",
              "      box-shadow: 0px 1px 2px rgba(60, 64, 67, 0.3), 0px 1px 3px 1px rgba(60, 64, 67, 0.15);\n",
              "      fill: #174EA6;\n",
              "    }\n",
              "\n",
              "    [theme=dark] .colab-df-convert {\n",
              "      background-color: #3B4455;\n",
              "      fill: #D2E3FC;\n",
              "    }\n",
              "\n",
              "    [theme=dark] .colab-df-convert:hover {\n",
              "      background-color: #434B5C;\n",
              "      box-shadow: 0px 1px 3px 1px rgba(0, 0, 0, 0.15);\n",
              "      filter: drop-shadow(0px 1px 2px rgba(0, 0, 0, 0.3));\n",
              "      fill: #FFFFFF;\n",
              "    }\n",
              "  </style>\n",
              "\n",
              "      <script>\n",
              "        const buttonEl =\n",
              "          document.querySelector('#df-e75f24c5-953f-4f6e-ad19-46f226e494fe button.colab-df-convert');\n",
              "        buttonEl.style.display =\n",
              "          google.colab.kernel.accessAllowed ? 'block' : 'none';\n",
              "\n",
              "        async function convertToInteractive(key) {\n",
              "          const element = document.querySelector('#df-e75f24c5-953f-4f6e-ad19-46f226e494fe');\n",
              "          const dataTable =\n",
              "            await google.colab.kernel.invokeFunction('convertToInteractive',\n",
              "                                                     [key], {});\n",
              "          if (!dataTable) return;\n",
              "\n",
              "          const docLinkHtml = 'Like what you see? Visit the ' +\n",
              "            '<a target=\"_blank\" href=https://colab.research.google.com/notebooks/data_table.ipynb>data table notebook</a>'\n",
              "            + ' to learn more about interactive tables.';\n",
              "          element.innerHTML = '';\n",
              "          dataTable['output_type'] = 'display_data';\n",
              "          await google.colab.output.renderOutput(dataTable, element);\n",
              "          const docLink = document.createElement('div');\n",
              "          docLink.innerHTML = docLinkHtml;\n",
              "          element.appendChild(docLink);\n",
              "        }\n",
              "      </script>\n",
              "    </div>\n",
              "  </div>\n",
              "  "
            ]
          },
          "metadata": {},
          "execution_count": 192
        }
      ]
    },
    {
      "cell_type": "markdown",
      "source": [
        "### **1. 결측치 확인** ###"
      ],
      "metadata": {
        "id": "PubYrM72NlB7"
      }
    },
    {
      "cell_type": "code",
      "source": [
        "df.isnull().sum()"
      ],
      "metadata": {
        "colab": {
          "base_uri": "https://localhost:8080/"
        },
        "id": "bI8bdpVcDMtb",
        "outputId": "9af57a59-c11b-41eb-dfb5-cb37c07efde8"
      },
      "execution_count": 193,
      "outputs": [
        {
          "output_type": "execute_result",
          "data": {
            "text/plain": [
              "As_of                   0\n",
              "Rank                    0\n",
              "Year_to_Date_Rank       0\n",
              "Last_Week_Rank          0\n",
              "Title                   0\n",
              "Type                    0\n",
              "Netflix_Exclusive       0\n",
              "Netflix_Release_Date    0\n",
              "Days_In_Top_10          0\n",
              "Viewership_Score        0\n",
              "dtype: int64"
            ]
          },
          "metadata": {},
          "execution_count": 193
        }
      ]
    },
    {
      "cell_type": "markdown",
      "source": [
        "### **2. 중복값 확인** ###"
      ],
      "metadata": {
        "id": "P8Lp5AmyNxO0"
      }
    },
    {
      "cell_type": "code",
      "source": [
        "df.duplicated().sum()"
      ],
      "metadata": {
        "colab": {
          "base_uri": "https://localhost:8080/"
        },
        "id": "i5J2etVceEa_",
        "outputId": "b2ded5cb-bfbb-4629-f6c5-04a68d58d435"
      },
      "execution_count": 194,
      "outputs": [
        {
          "output_type": "execute_result",
          "data": {
            "text/plain": [
              "0"
            ]
          },
          "metadata": {},
          "execution_count": 194
        }
      ]
    },
    {
      "cell_type": "markdown",
      "source": [
        "### **3. 이상치 확인** ###"
      ],
      "metadata": {
        "id": "NMiLALdzNzmO"
      }
    },
    {
      "cell_type": "code",
      "source": [
        "df.describe()"
      ],
      "metadata": {
        "id": "zDP-d6z-eEXC",
        "colab": {
          "base_uri": "https://localhost:8080/",
          "height": 300
        },
        "outputId": "6d286a13-6fe5-4668-9155-398b5f6ab703"
      },
      "execution_count": 195,
      "outputs": [
        {
          "output_type": "execute_result",
          "data": {
            "text/plain": [
              "              Rank  Netflix_Exclusive  Days_In_Top_10  Viewership_Score\n",
              "count  7100.000000        7100.000000     7100.000000       7100.000000\n",
              "mean      5.500000           0.647746       24.123662        122.790141\n",
              "std       2.872484           0.477706       58.473789        213.861642\n",
              "min       1.000000           0.000000        1.000000          1.000000\n",
              "25%       3.000000           0.000000        3.000000         19.000000\n",
              "50%       5.500000           1.000000        7.000000         50.000000\n",
              "75%       8.000000           1.000000       18.000000        128.000000\n",
              "max      10.000000           1.000000      428.000000       1474.000000"
            ],
            "text/html": [
              "\n",
              "  <div id=\"df-d77ff75f-b69d-4770-b16f-ae354c7392e8\">\n",
              "    <div class=\"colab-df-container\">\n",
              "      <div>\n",
              "<style scoped>\n",
              "    .dataframe tbody tr th:only-of-type {\n",
              "        vertical-align: middle;\n",
              "    }\n",
              "\n",
              "    .dataframe tbody tr th {\n",
              "        vertical-align: top;\n",
              "    }\n",
              "\n",
              "    .dataframe thead th {\n",
              "        text-align: right;\n",
              "    }\n",
              "</style>\n",
              "<table border=\"1\" class=\"dataframe\">\n",
              "  <thead>\n",
              "    <tr style=\"text-align: right;\">\n",
              "      <th></th>\n",
              "      <th>Rank</th>\n",
              "      <th>Netflix_Exclusive</th>\n",
              "      <th>Days_In_Top_10</th>\n",
              "      <th>Viewership_Score</th>\n",
              "    </tr>\n",
              "  </thead>\n",
              "  <tbody>\n",
              "    <tr>\n",
              "      <th>count</th>\n",
              "      <td>7100.000000</td>\n",
              "      <td>7100.000000</td>\n",
              "      <td>7100.000000</td>\n",
              "      <td>7100.000000</td>\n",
              "    </tr>\n",
              "    <tr>\n",
              "      <th>mean</th>\n",
              "      <td>5.500000</td>\n",
              "      <td>0.647746</td>\n",
              "      <td>24.123662</td>\n",
              "      <td>122.790141</td>\n",
              "    </tr>\n",
              "    <tr>\n",
              "      <th>std</th>\n",
              "      <td>2.872484</td>\n",
              "      <td>0.477706</td>\n",
              "      <td>58.473789</td>\n",
              "      <td>213.861642</td>\n",
              "    </tr>\n",
              "    <tr>\n",
              "      <th>min</th>\n",
              "      <td>1.000000</td>\n",
              "      <td>0.000000</td>\n",
              "      <td>1.000000</td>\n",
              "      <td>1.000000</td>\n",
              "    </tr>\n",
              "    <tr>\n",
              "      <th>25%</th>\n",
              "      <td>3.000000</td>\n",
              "      <td>0.000000</td>\n",
              "      <td>3.000000</td>\n",
              "      <td>19.000000</td>\n",
              "    </tr>\n",
              "    <tr>\n",
              "      <th>50%</th>\n",
              "      <td>5.500000</td>\n",
              "      <td>1.000000</td>\n",
              "      <td>7.000000</td>\n",
              "      <td>50.000000</td>\n",
              "    </tr>\n",
              "    <tr>\n",
              "      <th>75%</th>\n",
              "      <td>8.000000</td>\n",
              "      <td>1.000000</td>\n",
              "      <td>18.000000</td>\n",
              "      <td>128.000000</td>\n",
              "    </tr>\n",
              "    <tr>\n",
              "      <th>max</th>\n",
              "      <td>10.000000</td>\n",
              "      <td>1.000000</td>\n",
              "      <td>428.000000</td>\n",
              "      <td>1474.000000</td>\n",
              "    </tr>\n",
              "  </tbody>\n",
              "</table>\n",
              "</div>\n",
              "      <button class=\"colab-df-convert\" onclick=\"convertToInteractive('df-d77ff75f-b69d-4770-b16f-ae354c7392e8')\"\n",
              "              title=\"Convert this dataframe to an interactive table.\"\n",
              "              style=\"display:none;\">\n",
              "        \n",
              "  <svg xmlns=\"http://www.w3.org/2000/svg\" height=\"24px\"viewBox=\"0 0 24 24\"\n",
              "       width=\"24px\">\n",
              "    <path d=\"M0 0h24v24H0V0z\" fill=\"none\"/>\n",
              "    <path d=\"M18.56 5.44l.94 2.06.94-2.06 2.06-.94-2.06-.94-.94-2.06-.94 2.06-2.06.94zm-11 1L8.5 8.5l.94-2.06 2.06-.94-2.06-.94L8.5 2.5l-.94 2.06-2.06.94zm10 10l.94 2.06.94-2.06 2.06-.94-2.06-.94-.94-2.06-.94 2.06-2.06.94z\"/><path d=\"M17.41 7.96l-1.37-1.37c-.4-.4-.92-.59-1.43-.59-.52 0-1.04.2-1.43.59L10.3 9.45l-7.72 7.72c-.78.78-.78 2.05 0 2.83L4 21.41c.39.39.9.59 1.41.59.51 0 1.02-.2 1.41-.59l7.78-7.78 2.81-2.81c.8-.78.8-2.07 0-2.86zM5.41 20L4 18.59l7.72-7.72 1.47 1.35L5.41 20z\"/>\n",
              "  </svg>\n",
              "      </button>\n",
              "      \n",
              "  <style>\n",
              "    .colab-df-container {\n",
              "      display:flex;\n",
              "      flex-wrap:wrap;\n",
              "      gap: 12px;\n",
              "    }\n",
              "\n",
              "    .colab-df-convert {\n",
              "      background-color: #E8F0FE;\n",
              "      border: none;\n",
              "      border-radius: 50%;\n",
              "      cursor: pointer;\n",
              "      display: none;\n",
              "      fill: #1967D2;\n",
              "      height: 32px;\n",
              "      padding: 0 0 0 0;\n",
              "      width: 32px;\n",
              "    }\n",
              "\n",
              "    .colab-df-convert:hover {\n",
              "      background-color: #E2EBFA;\n",
              "      box-shadow: 0px 1px 2px rgba(60, 64, 67, 0.3), 0px 1px 3px 1px rgba(60, 64, 67, 0.15);\n",
              "      fill: #174EA6;\n",
              "    }\n",
              "\n",
              "    [theme=dark] .colab-df-convert {\n",
              "      background-color: #3B4455;\n",
              "      fill: #D2E3FC;\n",
              "    }\n",
              "\n",
              "    [theme=dark] .colab-df-convert:hover {\n",
              "      background-color: #434B5C;\n",
              "      box-shadow: 0px 1px 3px 1px rgba(0, 0, 0, 0.15);\n",
              "      filter: drop-shadow(0px 1px 2px rgba(0, 0, 0, 0.3));\n",
              "      fill: #FFFFFF;\n",
              "    }\n",
              "  </style>\n",
              "\n",
              "      <script>\n",
              "        const buttonEl =\n",
              "          document.querySelector('#df-d77ff75f-b69d-4770-b16f-ae354c7392e8 button.colab-df-convert');\n",
              "        buttonEl.style.display =\n",
              "          google.colab.kernel.accessAllowed ? 'block' : 'none';\n",
              "\n",
              "        async function convertToInteractive(key) {\n",
              "          const element = document.querySelector('#df-d77ff75f-b69d-4770-b16f-ae354c7392e8');\n",
              "          const dataTable =\n",
              "            await google.colab.kernel.invokeFunction('convertToInteractive',\n",
              "                                                     [key], {});\n",
              "          if (!dataTable) return;\n",
              "\n",
              "          const docLinkHtml = 'Like what you see? Visit the ' +\n",
              "            '<a target=\"_blank\" href=https://colab.research.google.com/notebooks/data_table.ipynb>data table notebook</a>'\n",
              "            + ' to learn more about interactive tables.';\n",
              "          element.innerHTML = '';\n",
              "          dataTable['output_type'] = 'display_data';\n",
              "          await google.colab.output.renderOutput(dataTable, element);\n",
              "          const docLink = document.createElement('div');\n",
              "          docLink.innerHTML = docLinkHtml;\n",
              "          element.appendChild(docLink);\n",
              "        }\n",
              "      </script>\n",
              "    </div>\n",
              "  </div>\n",
              "  "
            ]
          },
          "metadata": {},
          "execution_count": 195
        }
      ]
    },
    {
      "cell_type": "code",
      "source": [
        "# Viewership_Score가 100 이상인 값이 있음을 확인 >> 이상치인지 확인 필요"
      ],
      "metadata": {
        "id": "crp8-1CLK9p_"
      },
      "execution_count": 196,
      "outputs": []
    },
    {
      "cell_type": "code",
      "source": [
        "# Viewership_Score가 100 이상인 값의 비율 확인\n",
        "df.query('Viewership_Score > 100').shape[0] / df.shape[0]"
      ],
      "metadata": {
        "colab": {
          "base_uri": "https://localhost:8080/"
        },
        "id": "aAzc1-mQdEyZ",
        "outputId": "d1aee061-6abd-4ae7-bd61-082c60d8b164"
      },
      "execution_count": 197,
      "outputs": [
        {
          "output_type": "execute_result",
          "data": {
            "text/plain": [
              "0.3066197183098592"
            ]
          },
          "metadata": {},
          "execution_count": 197
        }
      ]
    },
    {
      "cell_type": "code",
      "source": [
        "# Viewership_Score가 100 이상인 값 : 총 데이터의 30% 정도를 차지 >> 이상치가 아닌 것으로 판단"
      ],
      "metadata": {
        "id": "fBncf99zdMrt"
      },
      "execution_count": 198,
      "outputs": []
    },
    {
      "cell_type": "code",
      "source": [
        "# Nailed It! 를 예시로 사용\n",
        "df.query('Title == \"Nailed It!\"').sort_values(by='As_of')"
      ],
      "metadata": {
        "colab": {
          "base_uri": "https://localhost:8080/",
          "height": 519
        },
        "id": "P9D1wL7350PO",
        "outputId": "a1aa04aa-c683-483a-e167-e433f1a6a0a6"
      },
      "execution_count": 199,
      "outputs": [
        {
          "output_type": "execute_result",
          "data": {
            "text/plain": [
              "           As_of  Rank Year_to_Date_Rank Last_Week_Rank       Title     Type  \\\n",
              "13    2020-04-02     4                 -              -  Nailed It!  TV Show   \n",
              "24    2020-04-03     5                 4              -  Nailed It!  TV Show   \n",
              "37    2020-04-04     8                 5              -  Nailed It!  TV Show   \n",
              "46    2020-04-05     7                 8              -  Nailed It!  TV Show   \n",
              "57    2020-04-06     8                 7              -  Nailed It!  TV Show   \n",
              "67    2020-04-07     8                 8              -  Nailed It!  TV Show   \n",
              "78    2020-04-08     9                 8              -  Nailed It!  TV Show   \n",
              "88    2020-04-09     9                 9              4  Nailed It!  TV Show   \n",
              "98    2020-04-10     9                 9              5  Nailed It!  TV Show   \n",
              "109   2020-04-11    10                 9              8  Nailed It!  TV Show   \n",
              "3608  2021-03-27     9                 -              -  Nailed It!  TV Show   \n",
              "3626  2021-03-29     7                 -              -  Nailed It!  TV Show   \n",
              "3637  2021-03-30     8                 7              -  Nailed It!  TV Show   \n",
              "3647  2021-03-31     8                 8              -  Nailed It!  TV Show   \n",
              "3658  2021-04-01     9                 8              -  Nailed It!  TV Show   \n",
              "\n",
              "      Netflix_Exclusive Netflix_Release_Date  Days_In_Top_10  Viewership_Score  \n",
              "13                    1          Mar 9, 2018               1                 7  \n",
              "24                    1          Mar 9, 2018               2                13  \n",
              "37                    1          Mar 9, 2018               3                16  \n",
              "46                    1          Mar 9, 2018               4                20  \n",
              "57                    1          Mar 9, 2018               5                23  \n",
              "67                    1          Mar 9, 2018               6                26  \n",
              "78                    1          Mar 9, 2018               7                28  \n",
              "88                    1          Mar 9, 2018               8                30  \n",
              "98                    1          Mar 9, 2018               9                32  \n",
              "109                   1          Mar 9, 2018              10                33  \n",
              "3608                  1          Mar 9, 2018              11                35  \n",
              "3626                  1          Mar 9, 2018              12                39  \n",
              "3637                  1          Mar 9, 2018              13                42  \n",
              "3647                  1          Mar 9, 2018              14                45  \n",
              "3658                  1          Mar 9, 2018              15                47  "
            ],
            "text/html": [
              "\n",
              "  <div id=\"df-5aa4b42a-91c1-4c90-90a8-fa8ef0a29b6d\">\n",
              "    <div class=\"colab-df-container\">\n",
              "      <div>\n",
              "<style scoped>\n",
              "    .dataframe tbody tr th:only-of-type {\n",
              "        vertical-align: middle;\n",
              "    }\n",
              "\n",
              "    .dataframe tbody tr th {\n",
              "        vertical-align: top;\n",
              "    }\n",
              "\n",
              "    .dataframe thead th {\n",
              "        text-align: right;\n",
              "    }\n",
              "</style>\n",
              "<table border=\"1\" class=\"dataframe\">\n",
              "  <thead>\n",
              "    <tr style=\"text-align: right;\">\n",
              "      <th></th>\n",
              "      <th>As_of</th>\n",
              "      <th>Rank</th>\n",
              "      <th>Year_to_Date_Rank</th>\n",
              "      <th>Last_Week_Rank</th>\n",
              "      <th>Title</th>\n",
              "      <th>Type</th>\n",
              "      <th>Netflix_Exclusive</th>\n",
              "      <th>Netflix_Release_Date</th>\n",
              "      <th>Days_In_Top_10</th>\n",
              "      <th>Viewership_Score</th>\n",
              "    </tr>\n",
              "  </thead>\n",
              "  <tbody>\n",
              "    <tr>\n",
              "      <th>13</th>\n",
              "      <td>2020-04-02</td>\n",
              "      <td>4</td>\n",
              "      <td>-</td>\n",
              "      <td>-</td>\n",
              "      <td>Nailed It!</td>\n",
              "      <td>TV Show</td>\n",
              "      <td>1</td>\n",
              "      <td>Mar 9, 2018</td>\n",
              "      <td>1</td>\n",
              "      <td>7</td>\n",
              "    </tr>\n",
              "    <tr>\n",
              "      <th>24</th>\n",
              "      <td>2020-04-03</td>\n",
              "      <td>5</td>\n",
              "      <td>4</td>\n",
              "      <td>-</td>\n",
              "      <td>Nailed It!</td>\n",
              "      <td>TV Show</td>\n",
              "      <td>1</td>\n",
              "      <td>Mar 9, 2018</td>\n",
              "      <td>2</td>\n",
              "      <td>13</td>\n",
              "    </tr>\n",
              "    <tr>\n",
              "      <th>37</th>\n",
              "      <td>2020-04-04</td>\n",
              "      <td>8</td>\n",
              "      <td>5</td>\n",
              "      <td>-</td>\n",
              "      <td>Nailed It!</td>\n",
              "      <td>TV Show</td>\n",
              "      <td>1</td>\n",
              "      <td>Mar 9, 2018</td>\n",
              "      <td>3</td>\n",
              "      <td>16</td>\n",
              "    </tr>\n",
              "    <tr>\n",
              "      <th>46</th>\n",
              "      <td>2020-04-05</td>\n",
              "      <td>7</td>\n",
              "      <td>8</td>\n",
              "      <td>-</td>\n",
              "      <td>Nailed It!</td>\n",
              "      <td>TV Show</td>\n",
              "      <td>1</td>\n",
              "      <td>Mar 9, 2018</td>\n",
              "      <td>4</td>\n",
              "      <td>20</td>\n",
              "    </tr>\n",
              "    <tr>\n",
              "      <th>57</th>\n",
              "      <td>2020-04-06</td>\n",
              "      <td>8</td>\n",
              "      <td>7</td>\n",
              "      <td>-</td>\n",
              "      <td>Nailed It!</td>\n",
              "      <td>TV Show</td>\n",
              "      <td>1</td>\n",
              "      <td>Mar 9, 2018</td>\n",
              "      <td>5</td>\n",
              "      <td>23</td>\n",
              "    </tr>\n",
              "    <tr>\n",
              "      <th>67</th>\n",
              "      <td>2020-04-07</td>\n",
              "      <td>8</td>\n",
              "      <td>8</td>\n",
              "      <td>-</td>\n",
              "      <td>Nailed It!</td>\n",
              "      <td>TV Show</td>\n",
              "      <td>1</td>\n",
              "      <td>Mar 9, 2018</td>\n",
              "      <td>6</td>\n",
              "      <td>26</td>\n",
              "    </tr>\n",
              "    <tr>\n",
              "      <th>78</th>\n",
              "      <td>2020-04-08</td>\n",
              "      <td>9</td>\n",
              "      <td>8</td>\n",
              "      <td>-</td>\n",
              "      <td>Nailed It!</td>\n",
              "      <td>TV Show</td>\n",
              "      <td>1</td>\n",
              "      <td>Mar 9, 2018</td>\n",
              "      <td>7</td>\n",
              "      <td>28</td>\n",
              "    </tr>\n",
              "    <tr>\n",
              "      <th>88</th>\n",
              "      <td>2020-04-09</td>\n",
              "      <td>9</td>\n",
              "      <td>9</td>\n",
              "      <td>4</td>\n",
              "      <td>Nailed It!</td>\n",
              "      <td>TV Show</td>\n",
              "      <td>1</td>\n",
              "      <td>Mar 9, 2018</td>\n",
              "      <td>8</td>\n",
              "      <td>30</td>\n",
              "    </tr>\n",
              "    <tr>\n",
              "      <th>98</th>\n",
              "      <td>2020-04-10</td>\n",
              "      <td>9</td>\n",
              "      <td>9</td>\n",
              "      <td>5</td>\n",
              "      <td>Nailed It!</td>\n",
              "      <td>TV Show</td>\n",
              "      <td>1</td>\n",
              "      <td>Mar 9, 2018</td>\n",
              "      <td>9</td>\n",
              "      <td>32</td>\n",
              "    </tr>\n",
              "    <tr>\n",
              "      <th>109</th>\n",
              "      <td>2020-04-11</td>\n",
              "      <td>10</td>\n",
              "      <td>9</td>\n",
              "      <td>8</td>\n",
              "      <td>Nailed It!</td>\n",
              "      <td>TV Show</td>\n",
              "      <td>1</td>\n",
              "      <td>Mar 9, 2018</td>\n",
              "      <td>10</td>\n",
              "      <td>33</td>\n",
              "    </tr>\n",
              "    <tr>\n",
              "      <th>3608</th>\n",
              "      <td>2021-03-27</td>\n",
              "      <td>9</td>\n",
              "      <td>-</td>\n",
              "      <td>-</td>\n",
              "      <td>Nailed It!</td>\n",
              "      <td>TV Show</td>\n",
              "      <td>1</td>\n",
              "      <td>Mar 9, 2018</td>\n",
              "      <td>11</td>\n",
              "      <td>35</td>\n",
              "    </tr>\n",
              "    <tr>\n",
              "      <th>3626</th>\n",
              "      <td>2021-03-29</td>\n",
              "      <td>7</td>\n",
              "      <td>-</td>\n",
              "      <td>-</td>\n",
              "      <td>Nailed It!</td>\n",
              "      <td>TV Show</td>\n",
              "      <td>1</td>\n",
              "      <td>Mar 9, 2018</td>\n",
              "      <td>12</td>\n",
              "      <td>39</td>\n",
              "    </tr>\n",
              "    <tr>\n",
              "      <th>3637</th>\n",
              "      <td>2021-03-30</td>\n",
              "      <td>8</td>\n",
              "      <td>7</td>\n",
              "      <td>-</td>\n",
              "      <td>Nailed It!</td>\n",
              "      <td>TV Show</td>\n",
              "      <td>1</td>\n",
              "      <td>Mar 9, 2018</td>\n",
              "      <td>13</td>\n",
              "      <td>42</td>\n",
              "    </tr>\n",
              "    <tr>\n",
              "      <th>3647</th>\n",
              "      <td>2021-03-31</td>\n",
              "      <td>8</td>\n",
              "      <td>8</td>\n",
              "      <td>-</td>\n",
              "      <td>Nailed It!</td>\n",
              "      <td>TV Show</td>\n",
              "      <td>1</td>\n",
              "      <td>Mar 9, 2018</td>\n",
              "      <td>14</td>\n",
              "      <td>45</td>\n",
              "    </tr>\n",
              "    <tr>\n",
              "      <th>3658</th>\n",
              "      <td>2021-04-01</td>\n",
              "      <td>9</td>\n",
              "      <td>8</td>\n",
              "      <td>-</td>\n",
              "      <td>Nailed It!</td>\n",
              "      <td>TV Show</td>\n",
              "      <td>1</td>\n",
              "      <td>Mar 9, 2018</td>\n",
              "      <td>15</td>\n",
              "      <td>47</td>\n",
              "    </tr>\n",
              "  </tbody>\n",
              "</table>\n",
              "</div>\n",
              "      <button class=\"colab-df-convert\" onclick=\"convertToInteractive('df-5aa4b42a-91c1-4c90-90a8-fa8ef0a29b6d')\"\n",
              "              title=\"Convert this dataframe to an interactive table.\"\n",
              "              style=\"display:none;\">\n",
              "        \n",
              "  <svg xmlns=\"http://www.w3.org/2000/svg\" height=\"24px\"viewBox=\"0 0 24 24\"\n",
              "       width=\"24px\">\n",
              "    <path d=\"M0 0h24v24H0V0z\" fill=\"none\"/>\n",
              "    <path d=\"M18.56 5.44l.94 2.06.94-2.06 2.06-.94-2.06-.94-.94-2.06-.94 2.06-2.06.94zm-11 1L8.5 8.5l.94-2.06 2.06-.94-2.06-.94L8.5 2.5l-.94 2.06-2.06.94zm10 10l.94 2.06.94-2.06 2.06-.94-2.06-.94-.94-2.06-.94 2.06-2.06.94z\"/><path d=\"M17.41 7.96l-1.37-1.37c-.4-.4-.92-.59-1.43-.59-.52 0-1.04.2-1.43.59L10.3 9.45l-7.72 7.72c-.78.78-.78 2.05 0 2.83L4 21.41c.39.39.9.59 1.41.59.51 0 1.02-.2 1.41-.59l7.78-7.78 2.81-2.81c.8-.78.8-2.07 0-2.86zM5.41 20L4 18.59l7.72-7.72 1.47 1.35L5.41 20z\"/>\n",
              "  </svg>\n",
              "      </button>\n",
              "      \n",
              "  <style>\n",
              "    .colab-df-container {\n",
              "      display:flex;\n",
              "      flex-wrap:wrap;\n",
              "      gap: 12px;\n",
              "    }\n",
              "\n",
              "    .colab-df-convert {\n",
              "      background-color: #E8F0FE;\n",
              "      border: none;\n",
              "      border-radius: 50%;\n",
              "      cursor: pointer;\n",
              "      display: none;\n",
              "      fill: #1967D2;\n",
              "      height: 32px;\n",
              "      padding: 0 0 0 0;\n",
              "      width: 32px;\n",
              "    }\n",
              "\n",
              "    .colab-df-convert:hover {\n",
              "      background-color: #E2EBFA;\n",
              "      box-shadow: 0px 1px 2px rgba(60, 64, 67, 0.3), 0px 1px 3px 1px rgba(60, 64, 67, 0.15);\n",
              "      fill: #174EA6;\n",
              "    }\n",
              "\n",
              "    [theme=dark] .colab-df-convert {\n",
              "      background-color: #3B4455;\n",
              "      fill: #D2E3FC;\n",
              "    }\n",
              "\n",
              "    [theme=dark] .colab-df-convert:hover {\n",
              "      background-color: #434B5C;\n",
              "      box-shadow: 0px 1px 3px 1px rgba(0, 0, 0, 0.15);\n",
              "      filter: drop-shadow(0px 1px 2px rgba(0, 0, 0, 0.3));\n",
              "      fill: #FFFFFF;\n",
              "    }\n",
              "  </style>\n",
              "\n",
              "      <script>\n",
              "        const buttonEl =\n",
              "          document.querySelector('#df-5aa4b42a-91c1-4c90-90a8-fa8ef0a29b6d button.colab-df-convert');\n",
              "        buttonEl.style.display =\n",
              "          google.colab.kernel.accessAllowed ? 'block' : 'none';\n",
              "\n",
              "        async function convertToInteractive(key) {\n",
              "          const element = document.querySelector('#df-5aa4b42a-91c1-4c90-90a8-fa8ef0a29b6d');\n",
              "          const dataTable =\n",
              "            await google.colab.kernel.invokeFunction('convertToInteractive',\n",
              "                                                     [key], {});\n",
              "          if (!dataTable) return;\n",
              "\n",
              "          const docLinkHtml = 'Like what you see? Visit the ' +\n",
              "            '<a target=\"_blank\" href=https://colab.research.google.com/notebooks/data_table.ipynb>data table notebook</a>'\n",
              "            + ' to learn more about interactive tables.';\n",
              "          element.innerHTML = '';\n",
              "          dataTable['output_type'] = 'display_data';\n",
              "          await google.colab.output.renderOutput(dataTable, element);\n",
              "          const docLink = document.createElement('div');\n",
              "          docLink.innerHTML = docLinkHtml;\n",
              "          element.appendChild(docLink);\n",
              "        }\n",
              "      </script>\n",
              "    </div>\n",
              "  </div>\n",
              "  "
            ]
          },
          "metadata": {},
          "execution_count": 199
        }
      ]
    },
    {
      "cell_type": "code",
      "source": [
        "# Nailed It! 의 예시를 살폈을 때, Viewership_Score는 감소하지 않고 계속 증가함\n",
        "\n",
        "# >> Viewership_Score : 평균점수가 아닌, 총 점수임을 확인"
      ],
      "metadata": {
        "id": "03Sq7cI26O8C"
      },
      "execution_count": 200,
      "outputs": []
    },
    {
      "cell_type": "markdown",
      "source": [
        "### **4. 데이터 타입 확인** ###"
      ],
      "metadata": {
        "id": "NU3cN_V0N2_Y"
      }
    },
    {
      "cell_type": "code",
      "source": [
        "df.info()"
      ],
      "metadata": {
        "id": "oSkaRM2reETx",
        "colab": {
          "base_uri": "https://localhost:8080/"
        },
        "outputId": "9131cf76-f2c4-49ce-8c8e-92cd3d20b518"
      },
      "execution_count": 201,
      "outputs": [
        {
          "output_type": "stream",
          "name": "stdout",
          "text": [
            "<class 'pandas.core.frame.DataFrame'>\n",
            "RangeIndex: 7100 entries, 0 to 7099\n",
            "Data columns (total 10 columns):\n",
            " #   Column                Non-Null Count  Dtype \n",
            "---  ------                --------------  ----- \n",
            " 0   As_of                 7100 non-null   object\n",
            " 1   Rank                  7100 non-null   int64 \n",
            " 2   Year_to_Date_Rank     7100 non-null   object\n",
            " 3   Last_Week_Rank        7100 non-null   object\n",
            " 4   Title                 7100 non-null   object\n",
            " 5   Type                  7100 non-null   object\n",
            " 6   Netflix_Exclusive     7100 non-null   int64 \n",
            " 7   Netflix_Release_Date  7100 non-null   object\n",
            " 8   Days_In_Top_10        7100 non-null   int64 \n",
            " 9   Viewership_Score      7100 non-null   int64 \n",
            "dtypes: int64(4), object(6)\n",
            "memory usage: 554.8+ KB\n"
          ]
        }
      ]
    },
    {
      "cell_type": "markdown",
      "source": [
        "#### **1. As_of** ####"
      ],
      "metadata": {
        "id": "8hVbi4J4k_eu"
      }
    },
    {
      "cell_type": "code",
      "source": [
        "# 기준 일자인 As_of 컬럼 : int로 데이터타입 변경\n",
        "df['As_of'] = df['As_of'].str.replace('-', '').astype('int')\n",
        "df['As_of']"
      ],
      "metadata": {
        "colab": {
          "base_uri": "https://localhost:8080/"
        },
        "id": "QJ9yEcQUM6ne",
        "outputId": "3007c0ea-9407-4af4-ffd2-a2b119380c93"
      },
      "execution_count": 202,
      "outputs": [
        {
          "output_type": "execute_result",
          "data": {
            "text/plain": [
              "0       20200401\n",
              "1       20200401\n",
              "2       20200401\n",
              "3       20200401\n",
              "4       20200401\n",
              "          ...   \n",
              "7095    20220311\n",
              "7096    20220311\n",
              "7097    20220311\n",
              "7098    20220311\n",
              "7099    20220311\n",
              "Name: As_of, Length: 7100, dtype: int64"
            ]
          },
          "metadata": {},
          "execution_count": 202
        }
      ]
    },
    {
      "cell_type": "markdown",
      "source": [
        "#### **2. Year_to_Date_Rank** ####"
      ],
      "metadata": {
        "id": "VoakLqa8lFRd"
      }
    },
    {
      "cell_type": "code",
      "source": [
        "df.query('Title == \"Nailed It!\"').sort_values(by='As_of')  # Nailed It! 를 예시로 사용"
      ],
      "metadata": {
        "colab": {
          "base_uri": "https://localhost:8080/",
          "height": 519
        },
        "id": "qDpJnPBmwroF",
        "outputId": "e0f222cd-753b-4f66-9243-f324f61f0c6c"
      },
      "execution_count": 203,
      "outputs": [
        {
          "output_type": "execute_result",
          "data": {
            "text/plain": [
              "         As_of  Rank Year_to_Date_Rank Last_Week_Rank       Title     Type  \\\n",
              "13    20200402     4                 -              -  Nailed It!  TV Show   \n",
              "24    20200403     5                 4              -  Nailed It!  TV Show   \n",
              "37    20200404     8                 5              -  Nailed It!  TV Show   \n",
              "46    20200405     7                 8              -  Nailed It!  TV Show   \n",
              "57    20200406     8                 7              -  Nailed It!  TV Show   \n",
              "67    20200407     8                 8              -  Nailed It!  TV Show   \n",
              "78    20200408     9                 8              -  Nailed It!  TV Show   \n",
              "88    20200409     9                 9              4  Nailed It!  TV Show   \n",
              "98    20200410     9                 9              5  Nailed It!  TV Show   \n",
              "109   20200411    10                 9              8  Nailed It!  TV Show   \n",
              "3608  20210327     9                 -              -  Nailed It!  TV Show   \n",
              "3626  20210329     7                 -              -  Nailed It!  TV Show   \n",
              "3637  20210330     8                 7              -  Nailed It!  TV Show   \n",
              "3647  20210331     8                 8              -  Nailed It!  TV Show   \n",
              "3658  20210401     9                 8              -  Nailed It!  TV Show   \n",
              "\n",
              "      Netflix_Exclusive Netflix_Release_Date  Days_In_Top_10  Viewership_Score  \n",
              "13                    1          Mar 9, 2018               1                 7  \n",
              "24                    1          Mar 9, 2018               2                13  \n",
              "37                    1          Mar 9, 2018               3                16  \n",
              "46                    1          Mar 9, 2018               4                20  \n",
              "57                    1          Mar 9, 2018               5                23  \n",
              "67                    1          Mar 9, 2018               6                26  \n",
              "78                    1          Mar 9, 2018               7                28  \n",
              "88                    1          Mar 9, 2018               8                30  \n",
              "98                    1          Mar 9, 2018               9                32  \n",
              "109                   1          Mar 9, 2018              10                33  \n",
              "3608                  1          Mar 9, 2018              11                35  \n",
              "3626                  1          Mar 9, 2018              12                39  \n",
              "3637                  1          Mar 9, 2018              13                42  \n",
              "3647                  1          Mar 9, 2018              14                45  \n",
              "3658                  1          Mar 9, 2018              15                47  "
            ],
            "text/html": [
              "\n",
              "  <div id=\"df-b4b036ba-9883-4995-bb52-25f26e70a0a6\">\n",
              "    <div class=\"colab-df-container\">\n",
              "      <div>\n",
              "<style scoped>\n",
              "    .dataframe tbody tr th:only-of-type {\n",
              "        vertical-align: middle;\n",
              "    }\n",
              "\n",
              "    .dataframe tbody tr th {\n",
              "        vertical-align: top;\n",
              "    }\n",
              "\n",
              "    .dataframe thead th {\n",
              "        text-align: right;\n",
              "    }\n",
              "</style>\n",
              "<table border=\"1\" class=\"dataframe\">\n",
              "  <thead>\n",
              "    <tr style=\"text-align: right;\">\n",
              "      <th></th>\n",
              "      <th>As_of</th>\n",
              "      <th>Rank</th>\n",
              "      <th>Year_to_Date_Rank</th>\n",
              "      <th>Last_Week_Rank</th>\n",
              "      <th>Title</th>\n",
              "      <th>Type</th>\n",
              "      <th>Netflix_Exclusive</th>\n",
              "      <th>Netflix_Release_Date</th>\n",
              "      <th>Days_In_Top_10</th>\n",
              "      <th>Viewership_Score</th>\n",
              "    </tr>\n",
              "  </thead>\n",
              "  <tbody>\n",
              "    <tr>\n",
              "      <th>13</th>\n",
              "      <td>20200402</td>\n",
              "      <td>4</td>\n",
              "      <td>-</td>\n",
              "      <td>-</td>\n",
              "      <td>Nailed It!</td>\n",
              "      <td>TV Show</td>\n",
              "      <td>1</td>\n",
              "      <td>Mar 9, 2018</td>\n",
              "      <td>1</td>\n",
              "      <td>7</td>\n",
              "    </tr>\n",
              "    <tr>\n",
              "      <th>24</th>\n",
              "      <td>20200403</td>\n",
              "      <td>5</td>\n",
              "      <td>4</td>\n",
              "      <td>-</td>\n",
              "      <td>Nailed It!</td>\n",
              "      <td>TV Show</td>\n",
              "      <td>1</td>\n",
              "      <td>Mar 9, 2018</td>\n",
              "      <td>2</td>\n",
              "      <td>13</td>\n",
              "    </tr>\n",
              "    <tr>\n",
              "      <th>37</th>\n",
              "      <td>20200404</td>\n",
              "      <td>8</td>\n",
              "      <td>5</td>\n",
              "      <td>-</td>\n",
              "      <td>Nailed It!</td>\n",
              "      <td>TV Show</td>\n",
              "      <td>1</td>\n",
              "      <td>Mar 9, 2018</td>\n",
              "      <td>3</td>\n",
              "      <td>16</td>\n",
              "    </tr>\n",
              "    <tr>\n",
              "      <th>46</th>\n",
              "      <td>20200405</td>\n",
              "      <td>7</td>\n",
              "      <td>8</td>\n",
              "      <td>-</td>\n",
              "      <td>Nailed It!</td>\n",
              "      <td>TV Show</td>\n",
              "      <td>1</td>\n",
              "      <td>Mar 9, 2018</td>\n",
              "      <td>4</td>\n",
              "      <td>20</td>\n",
              "    </tr>\n",
              "    <tr>\n",
              "      <th>57</th>\n",
              "      <td>20200406</td>\n",
              "      <td>8</td>\n",
              "      <td>7</td>\n",
              "      <td>-</td>\n",
              "      <td>Nailed It!</td>\n",
              "      <td>TV Show</td>\n",
              "      <td>1</td>\n",
              "      <td>Mar 9, 2018</td>\n",
              "      <td>5</td>\n",
              "      <td>23</td>\n",
              "    </tr>\n",
              "    <tr>\n",
              "      <th>67</th>\n",
              "      <td>20200407</td>\n",
              "      <td>8</td>\n",
              "      <td>8</td>\n",
              "      <td>-</td>\n",
              "      <td>Nailed It!</td>\n",
              "      <td>TV Show</td>\n",
              "      <td>1</td>\n",
              "      <td>Mar 9, 2018</td>\n",
              "      <td>6</td>\n",
              "      <td>26</td>\n",
              "    </tr>\n",
              "    <tr>\n",
              "      <th>78</th>\n",
              "      <td>20200408</td>\n",
              "      <td>9</td>\n",
              "      <td>8</td>\n",
              "      <td>-</td>\n",
              "      <td>Nailed It!</td>\n",
              "      <td>TV Show</td>\n",
              "      <td>1</td>\n",
              "      <td>Mar 9, 2018</td>\n",
              "      <td>7</td>\n",
              "      <td>28</td>\n",
              "    </tr>\n",
              "    <tr>\n",
              "      <th>88</th>\n",
              "      <td>20200409</td>\n",
              "      <td>9</td>\n",
              "      <td>9</td>\n",
              "      <td>4</td>\n",
              "      <td>Nailed It!</td>\n",
              "      <td>TV Show</td>\n",
              "      <td>1</td>\n",
              "      <td>Mar 9, 2018</td>\n",
              "      <td>8</td>\n",
              "      <td>30</td>\n",
              "    </tr>\n",
              "    <tr>\n",
              "      <th>98</th>\n",
              "      <td>20200410</td>\n",
              "      <td>9</td>\n",
              "      <td>9</td>\n",
              "      <td>5</td>\n",
              "      <td>Nailed It!</td>\n",
              "      <td>TV Show</td>\n",
              "      <td>1</td>\n",
              "      <td>Mar 9, 2018</td>\n",
              "      <td>9</td>\n",
              "      <td>32</td>\n",
              "    </tr>\n",
              "    <tr>\n",
              "      <th>109</th>\n",
              "      <td>20200411</td>\n",
              "      <td>10</td>\n",
              "      <td>9</td>\n",
              "      <td>8</td>\n",
              "      <td>Nailed It!</td>\n",
              "      <td>TV Show</td>\n",
              "      <td>1</td>\n",
              "      <td>Mar 9, 2018</td>\n",
              "      <td>10</td>\n",
              "      <td>33</td>\n",
              "    </tr>\n",
              "    <tr>\n",
              "      <th>3608</th>\n",
              "      <td>20210327</td>\n",
              "      <td>9</td>\n",
              "      <td>-</td>\n",
              "      <td>-</td>\n",
              "      <td>Nailed It!</td>\n",
              "      <td>TV Show</td>\n",
              "      <td>1</td>\n",
              "      <td>Mar 9, 2018</td>\n",
              "      <td>11</td>\n",
              "      <td>35</td>\n",
              "    </tr>\n",
              "    <tr>\n",
              "      <th>3626</th>\n",
              "      <td>20210329</td>\n",
              "      <td>7</td>\n",
              "      <td>-</td>\n",
              "      <td>-</td>\n",
              "      <td>Nailed It!</td>\n",
              "      <td>TV Show</td>\n",
              "      <td>1</td>\n",
              "      <td>Mar 9, 2018</td>\n",
              "      <td>12</td>\n",
              "      <td>39</td>\n",
              "    </tr>\n",
              "    <tr>\n",
              "      <th>3637</th>\n",
              "      <td>20210330</td>\n",
              "      <td>8</td>\n",
              "      <td>7</td>\n",
              "      <td>-</td>\n",
              "      <td>Nailed It!</td>\n",
              "      <td>TV Show</td>\n",
              "      <td>1</td>\n",
              "      <td>Mar 9, 2018</td>\n",
              "      <td>13</td>\n",
              "      <td>42</td>\n",
              "    </tr>\n",
              "    <tr>\n",
              "      <th>3647</th>\n",
              "      <td>20210331</td>\n",
              "      <td>8</td>\n",
              "      <td>8</td>\n",
              "      <td>-</td>\n",
              "      <td>Nailed It!</td>\n",
              "      <td>TV Show</td>\n",
              "      <td>1</td>\n",
              "      <td>Mar 9, 2018</td>\n",
              "      <td>14</td>\n",
              "      <td>45</td>\n",
              "    </tr>\n",
              "    <tr>\n",
              "      <th>3658</th>\n",
              "      <td>20210401</td>\n",
              "      <td>9</td>\n",
              "      <td>8</td>\n",
              "      <td>-</td>\n",
              "      <td>Nailed It!</td>\n",
              "      <td>TV Show</td>\n",
              "      <td>1</td>\n",
              "      <td>Mar 9, 2018</td>\n",
              "      <td>15</td>\n",
              "      <td>47</td>\n",
              "    </tr>\n",
              "  </tbody>\n",
              "</table>\n",
              "</div>\n",
              "      <button class=\"colab-df-convert\" onclick=\"convertToInteractive('df-b4b036ba-9883-4995-bb52-25f26e70a0a6')\"\n",
              "              title=\"Convert this dataframe to an interactive table.\"\n",
              "              style=\"display:none;\">\n",
              "        \n",
              "  <svg xmlns=\"http://www.w3.org/2000/svg\" height=\"24px\"viewBox=\"0 0 24 24\"\n",
              "       width=\"24px\">\n",
              "    <path d=\"M0 0h24v24H0V0z\" fill=\"none\"/>\n",
              "    <path d=\"M18.56 5.44l.94 2.06.94-2.06 2.06-.94-2.06-.94-.94-2.06-.94 2.06-2.06.94zm-11 1L8.5 8.5l.94-2.06 2.06-.94-2.06-.94L8.5 2.5l-.94 2.06-2.06.94zm10 10l.94 2.06.94-2.06 2.06-.94-2.06-.94-.94-2.06-.94 2.06-2.06.94z\"/><path d=\"M17.41 7.96l-1.37-1.37c-.4-.4-.92-.59-1.43-.59-.52 0-1.04.2-1.43.59L10.3 9.45l-7.72 7.72c-.78.78-.78 2.05 0 2.83L4 21.41c.39.39.9.59 1.41.59.51 0 1.02-.2 1.41-.59l7.78-7.78 2.81-2.81c.8-.78.8-2.07 0-2.86zM5.41 20L4 18.59l7.72-7.72 1.47 1.35L5.41 20z\"/>\n",
              "  </svg>\n",
              "      </button>\n",
              "      \n",
              "  <style>\n",
              "    .colab-df-container {\n",
              "      display:flex;\n",
              "      flex-wrap:wrap;\n",
              "      gap: 12px;\n",
              "    }\n",
              "\n",
              "    .colab-df-convert {\n",
              "      background-color: #E8F0FE;\n",
              "      border: none;\n",
              "      border-radius: 50%;\n",
              "      cursor: pointer;\n",
              "      display: none;\n",
              "      fill: #1967D2;\n",
              "      height: 32px;\n",
              "      padding: 0 0 0 0;\n",
              "      width: 32px;\n",
              "    }\n",
              "\n",
              "    .colab-df-convert:hover {\n",
              "      background-color: #E2EBFA;\n",
              "      box-shadow: 0px 1px 2px rgba(60, 64, 67, 0.3), 0px 1px 3px 1px rgba(60, 64, 67, 0.15);\n",
              "      fill: #174EA6;\n",
              "    }\n",
              "\n",
              "    [theme=dark] .colab-df-convert {\n",
              "      background-color: #3B4455;\n",
              "      fill: #D2E3FC;\n",
              "    }\n",
              "\n",
              "    [theme=dark] .colab-df-convert:hover {\n",
              "      background-color: #434B5C;\n",
              "      box-shadow: 0px 1px 3px 1px rgba(0, 0, 0, 0.15);\n",
              "      filter: drop-shadow(0px 1px 2px rgba(0, 0, 0, 0.3));\n",
              "      fill: #FFFFFF;\n",
              "    }\n",
              "  </style>\n",
              "\n",
              "      <script>\n",
              "        const buttonEl =\n",
              "          document.querySelector('#df-b4b036ba-9883-4995-bb52-25f26e70a0a6 button.colab-df-convert');\n",
              "        buttonEl.style.display =\n",
              "          google.colab.kernel.accessAllowed ? 'block' : 'none';\n",
              "\n",
              "        async function convertToInteractive(key) {\n",
              "          const element = document.querySelector('#df-b4b036ba-9883-4995-bb52-25f26e70a0a6');\n",
              "          const dataTable =\n",
              "            await google.colab.kernel.invokeFunction('convertToInteractive',\n",
              "                                                     [key], {});\n",
              "          if (!dataTable) return;\n",
              "\n",
              "          const docLinkHtml = 'Like what you see? Visit the ' +\n",
              "            '<a target=\"_blank\" href=https://colab.research.google.com/notebooks/data_table.ipynb>data table notebook</a>'\n",
              "            + ' to learn more about interactive tables.';\n",
              "          element.innerHTML = '';\n",
              "          dataTable['output_type'] = 'display_data';\n",
              "          await google.colab.output.renderOutput(dataTable, element);\n",
              "          const docLink = document.createElement('div');\n",
              "          docLink.innerHTML = docLinkHtml;\n",
              "          element.appendChild(docLink);\n",
              "        }\n",
              "      </script>\n",
              "    </div>\n",
              "  </div>\n",
              "  "
            ]
          },
          "metadata": {},
          "execution_count": 203
        }
      ]
    },
    {
      "cell_type": "code",
      "source": [
        "# Nailed It! 의 예시를 살폈을 때, 전 날의 데이터가 없는 날은 '-'으로 표시됨 >> 필요 없는 행으로 판단"
      ],
      "metadata": {
        "id": "X3YYqttTw9Pa"
      },
      "execution_count": 204,
      "outputs": []
    },
    {
      "cell_type": "code",
      "source": [
        "df.drop(['Year_to_Date_Rank'], axis=1, inplace=True)"
      ],
      "metadata": {
        "id": "-jPqBU7D5VIr"
      },
      "execution_count": 205,
      "outputs": []
    },
    {
      "cell_type": "markdown",
      "source": [
        "#### **3. Last_Week_Rank** ####"
      ],
      "metadata": {
        "id": "UpXEELOj2PRk"
      }
    },
    {
      "cell_type": "code",
      "source": [
        "df.query('Title == \"Nailed It!\"').sort_values(by='As_of')  # Nailed It! 를 예시로 사용"
      ],
      "metadata": {
        "id": "wx5RZ_JSeEP2",
        "colab": {
          "base_uri": "https://localhost:8080/",
          "height": 519
        },
        "outputId": "cf83d9f9-ba79-4287-aef1-5dfb64fff99b"
      },
      "execution_count": 206,
      "outputs": [
        {
          "output_type": "execute_result",
          "data": {
            "text/plain": [
              "         As_of  Rank Last_Week_Rank       Title     Type  Netflix_Exclusive  \\\n",
              "13    20200402     4              -  Nailed It!  TV Show                  1   \n",
              "24    20200403     5              -  Nailed It!  TV Show                  1   \n",
              "37    20200404     8              -  Nailed It!  TV Show                  1   \n",
              "46    20200405     7              -  Nailed It!  TV Show                  1   \n",
              "57    20200406     8              -  Nailed It!  TV Show                  1   \n",
              "67    20200407     8              -  Nailed It!  TV Show                  1   \n",
              "78    20200408     9              -  Nailed It!  TV Show                  1   \n",
              "88    20200409     9              4  Nailed It!  TV Show                  1   \n",
              "98    20200410     9              5  Nailed It!  TV Show                  1   \n",
              "109   20200411    10              8  Nailed It!  TV Show                  1   \n",
              "3608  20210327     9              -  Nailed It!  TV Show                  1   \n",
              "3626  20210329     7              -  Nailed It!  TV Show                  1   \n",
              "3637  20210330     8              -  Nailed It!  TV Show                  1   \n",
              "3647  20210331     8              -  Nailed It!  TV Show                  1   \n",
              "3658  20210401     9              -  Nailed It!  TV Show                  1   \n",
              "\n",
              "     Netflix_Release_Date  Days_In_Top_10  Viewership_Score  \n",
              "13            Mar 9, 2018               1                 7  \n",
              "24            Mar 9, 2018               2                13  \n",
              "37            Mar 9, 2018               3                16  \n",
              "46            Mar 9, 2018               4                20  \n",
              "57            Mar 9, 2018               5                23  \n",
              "67            Mar 9, 2018               6                26  \n",
              "78            Mar 9, 2018               7                28  \n",
              "88            Mar 9, 2018               8                30  \n",
              "98            Mar 9, 2018               9                32  \n",
              "109           Mar 9, 2018              10                33  \n",
              "3608          Mar 9, 2018              11                35  \n",
              "3626          Mar 9, 2018              12                39  \n",
              "3637          Mar 9, 2018              13                42  \n",
              "3647          Mar 9, 2018              14                45  \n",
              "3658          Mar 9, 2018              15                47  "
            ],
            "text/html": [
              "\n",
              "  <div id=\"df-18719723-a438-4e84-8622-21cb73a26076\">\n",
              "    <div class=\"colab-df-container\">\n",
              "      <div>\n",
              "<style scoped>\n",
              "    .dataframe tbody tr th:only-of-type {\n",
              "        vertical-align: middle;\n",
              "    }\n",
              "\n",
              "    .dataframe tbody tr th {\n",
              "        vertical-align: top;\n",
              "    }\n",
              "\n",
              "    .dataframe thead th {\n",
              "        text-align: right;\n",
              "    }\n",
              "</style>\n",
              "<table border=\"1\" class=\"dataframe\">\n",
              "  <thead>\n",
              "    <tr style=\"text-align: right;\">\n",
              "      <th></th>\n",
              "      <th>As_of</th>\n",
              "      <th>Rank</th>\n",
              "      <th>Last_Week_Rank</th>\n",
              "      <th>Title</th>\n",
              "      <th>Type</th>\n",
              "      <th>Netflix_Exclusive</th>\n",
              "      <th>Netflix_Release_Date</th>\n",
              "      <th>Days_In_Top_10</th>\n",
              "      <th>Viewership_Score</th>\n",
              "    </tr>\n",
              "  </thead>\n",
              "  <tbody>\n",
              "    <tr>\n",
              "      <th>13</th>\n",
              "      <td>20200402</td>\n",
              "      <td>4</td>\n",
              "      <td>-</td>\n",
              "      <td>Nailed It!</td>\n",
              "      <td>TV Show</td>\n",
              "      <td>1</td>\n",
              "      <td>Mar 9, 2018</td>\n",
              "      <td>1</td>\n",
              "      <td>7</td>\n",
              "    </tr>\n",
              "    <tr>\n",
              "      <th>24</th>\n",
              "      <td>20200403</td>\n",
              "      <td>5</td>\n",
              "      <td>-</td>\n",
              "      <td>Nailed It!</td>\n",
              "      <td>TV Show</td>\n",
              "      <td>1</td>\n",
              "      <td>Mar 9, 2018</td>\n",
              "      <td>2</td>\n",
              "      <td>13</td>\n",
              "    </tr>\n",
              "    <tr>\n",
              "      <th>37</th>\n",
              "      <td>20200404</td>\n",
              "      <td>8</td>\n",
              "      <td>-</td>\n",
              "      <td>Nailed It!</td>\n",
              "      <td>TV Show</td>\n",
              "      <td>1</td>\n",
              "      <td>Mar 9, 2018</td>\n",
              "      <td>3</td>\n",
              "      <td>16</td>\n",
              "    </tr>\n",
              "    <tr>\n",
              "      <th>46</th>\n",
              "      <td>20200405</td>\n",
              "      <td>7</td>\n",
              "      <td>-</td>\n",
              "      <td>Nailed It!</td>\n",
              "      <td>TV Show</td>\n",
              "      <td>1</td>\n",
              "      <td>Mar 9, 2018</td>\n",
              "      <td>4</td>\n",
              "      <td>20</td>\n",
              "    </tr>\n",
              "    <tr>\n",
              "      <th>57</th>\n",
              "      <td>20200406</td>\n",
              "      <td>8</td>\n",
              "      <td>-</td>\n",
              "      <td>Nailed It!</td>\n",
              "      <td>TV Show</td>\n",
              "      <td>1</td>\n",
              "      <td>Mar 9, 2018</td>\n",
              "      <td>5</td>\n",
              "      <td>23</td>\n",
              "    </tr>\n",
              "    <tr>\n",
              "      <th>67</th>\n",
              "      <td>20200407</td>\n",
              "      <td>8</td>\n",
              "      <td>-</td>\n",
              "      <td>Nailed It!</td>\n",
              "      <td>TV Show</td>\n",
              "      <td>1</td>\n",
              "      <td>Mar 9, 2018</td>\n",
              "      <td>6</td>\n",
              "      <td>26</td>\n",
              "    </tr>\n",
              "    <tr>\n",
              "      <th>78</th>\n",
              "      <td>20200408</td>\n",
              "      <td>9</td>\n",
              "      <td>-</td>\n",
              "      <td>Nailed It!</td>\n",
              "      <td>TV Show</td>\n",
              "      <td>1</td>\n",
              "      <td>Mar 9, 2018</td>\n",
              "      <td>7</td>\n",
              "      <td>28</td>\n",
              "    </tr>\n",
              "    <tr>\n",
              "      <th>88</th>\n",
              "      <td>20200409</td>\n",
              "      <td>9</td>\n",
              "      <td>4</td>\n",
              "      <td>Nailed It!</td>\n",
              "      <td>TV Show</td>\n",
              "      <td>1</td>\n",
              "      <td>Mar 9, 2018</td>\n",
              "      <td>8</td>\n",
              "      <td>30</td>\n",
              "    </tr>\n",
              "    <tr>\n",
              "      <th>98</th>\n",
              "      <td>20200410</td>\n",
              "      <td>9</td>\n",
              "      <td>5</td>\n",
              "      <td>Nailed It!</td>\n",
              "      <td>TV Show</td>\n",
              "      <td>1</td>\n",
              "      <td>Mar 9, 2018</td>\n",
              "      <td>9</td>\n",
              "      <td>32</td>\n",
              "    </tr>\n",
              "    <tr>\n",
              "      <th>109</th>\n",
              "      <td>20200411</td>\n",
              "      <td>10</td>\n",
              "      <td>8</td>\n",
              "      <td>Nailed It!</td>\n",
              "      <td>TV Show</td>\n",
              "      <td>1</td>\n",
              "      <td>Mar 9, 2018</td>\n",
              "      <td>10</td>\n",
              "      <td>33</td>\n",
              "    </tr>\n",
              "    <tr>\n",
              "      <th>3608</th>\n",
              "      <td>20210327</td>\n",
              "      <td>9</td>\n",
              "      <td>-</td>\n",
              "      <td>Nailed It!</td>\n",
              "      <td>TV Show</td>\n",
              "      <td>1</td>\n",
              "      <td>Mar 9, 2018</td>\n",
              "      <td>11</td>\n",
              "      <td>35</td>\n",
              "    </tr>\n",
              "    <tr>\n",
              "      <th>3626</th>\n",
              "      <td>20210329</td>\n",
              "      <td>7</td>\n",
              "      <td>-</td>\n",
              "      <td>Nailed It!</td>\n",
              "      <td>TV Show</td>\n",
              "      <td>1</td>\n",
              "      <td>Mar 9, 2018</td>\n",
              "      <td>12</td>\n",
              "      <td>39</td>\n",
              "    </tr>\n",
              "    <tr>\n",
              "      <th>3637</th>\n",
              "      <td>20210330</td>\n",
              "      <td>8</td>\n",
              "      <td>-</td>\n",
              "      <td>Nailed It!</td>\n",
              "      <td>TV Show</td>\n",
              "      <td>1</td>\n",
              "      <td>Mar 9, 2018</td>\n",
              "      <td>13</td>\n",
              "      <td>42</td>\n",
              "    </tr>\n",
              "    <tr>\n",
              "      <th>3647</th>\n",
              "      <td>20210331</td>\n",
              "      <td>8</td>\n",
              "      <td>-</td>\n",
              "      <td>Nailed It!</td>\n",
              "      <td>TV Show</td>\n",
              "      <td>1</td>\n",
              "      <td>Mar 9, 2018</td>\n",
              "      <td>14</td>\n",
              "      <td>45</td>\n",
              "    </tr>\n",
              "    <tr>\n",
              "      <th>3658</th>\n",
              "      <td>20210401</td>\n",
              "      <td>9</td>\n",
              "      <td>-</td>\n",
              "      <td>Nailed It!</td>\n",
              "      <td>TV Show</td>\n",
              "      <td>1</td>\n",
              "      <td>Mar 9, 2018</td>\n",
              "      <td>15</td>\n",
              "      <td>47</td>\n",
              "    </tr>\n",
              "  </tbody>\n",
              "</table>\n",
              "</div>\n",
              "      <button class=\"colab-df-convert\" onclick=\"convertToInteractive('df-18719723-a438-4e84-8622-21cb73a26076')\"\n",
              "              title=\"Convert this dataframe to an interactive table.\"\n",
              "              style=\"display:none;\">\n",
              "        \n",
              "  <svg xmlns=\"http://www.w3.org/2000/svg\" height=\"24px\"viewBox=\"0 0 24 24\"\n",
              "       width=\"24px\">\n",
              "    <path d=\"M0 0h24v24H0V0z\" fill=\"none\"/>\n",
              "    <path d=\"M18.56 5.44l.94 2.06.94-2.06 2.06-.94-2.06-.94-.94-2.06-.94 2.06-2.06.94zm-11 1L8.5 8.5l.94-2.06 2.06-.94-2.06-.94L8.5 2.5l-.94 2.06-2.06.94zm10 10l.94 2.06.94-2.06 2.06-.94-2.06-.94-.94-2.06-.94 2.06-2.06.94z\"/><path d=\"M17.41 7.96l-1.37-1.37c-.4-.4-.92-.59-1.43-.59-.52 0-1.04.2-1.43.59L10.3 9.45l-7.72 7.72c-.78.78-.78 2.05 0 2.83L4 21.41c.39.39.9.59 1.41.59.51 0 1.02-.2 1.41-.59l7.78-7.78 2.81-2.81c.8-.78.8-2.07 0-2.86zM5.41 20L4 18.59l7.72-7.72 1.47 1.35L5.41 20z\"/>\n",
              "  </svg>\n",
              "      </button>\n",
              "      \n",
              "  <style>\n",
              "    .colab-df-container {\n",
              "      display:flex;\n",
              "      flex-wrap:wrap;\n",
              "      gap: 12px;\n",
              "    }\n",
              "\n",
              "    .colab-df-convert {\n",
              "      background-color: #E8F0FE;\n",
              "      border: none;\n",
              "      border-radius: 50%;\n",
              "      cursor: pointer;\n",
              "      display: none;\n",
              "      fill: #1967D2;\n",
              "      height: 32px;\n",
              "      padding: 0 0 0 0;\n",
              "      width: 32px;\n",
              "    }\n",
              "\n",
              "    .colab-df-convert:hover {\n",
              "      background-color: #E2EBFA;\n",
              "      box-shadow: 0px 1px 2px rgba(60, 64, 67, 0.3), 0px 1px 3px 1px rgba(60, 64, 67, 0.15);\n",
              "      fill: #174EA6;\n",
              "    }\n",
              "\n",
              "    [theme=dark] .colab-df-convert {\n",
              "      background-color: #3B4455;\n",
              "      fill: #D2E3FC;\n",
              "    }\n",
              "\n",
              "    [theme=dark] .colab-df-convert:hover {\n",
              "      background-color: #434B5C;\n",
              "      box-shadow: 0px 1px 3px 1px rgba(0, 0, 0, 0.15);\n",
              "      filter: drop-shadow(0px 1px 2px rgba(0, 0, 0, 0.3));\n",
              "      fill: #FFFFFF;\n",
              "    }\n",
              "  </style>\n",
              "\n",
              "      <script>\n",
              "        const buttonEl =\n",
              "          document.querySelector('#df-18719723-a438-4e84-8622-21cb73a26076 button.colab-df-convert');\n",
              "        buttonEl.style.display =\n",
              "          google.colab.kernel.accessAllowed ? 'block' : 'none';\n",
              "\n",
              "        async function convertToInteractive(key) {\n",
              "          const element = document.querySelector('#df-18719723-a438-4e84-8622-21cb73a26076');\n",
              "          const dataTable =\n",
              "            await google.colab.kernel.invokeFunction('convertToInteractive',\n",
              "                                                     [key], {});\n",
              "          if (!dataTable) return;\n",
              "\n",
              "          const docLinkHtml = 'Like what you see? Visit the ' +\n",
              "            '<a target=\"_blank\" href=https://colab.research.google.com/notebooks/data_table.ipynb>data table notebook</a>'\n",
              "            + ' to learn more about interactive tables.';\n",
              "          element.innerHTML = '';\n",
              "          dataTable['output_type'] = 'display_data';\n",
              "          await google.colab.output.renderOutput(dataTable, element);\n",
              "          const docLink = document.createElement('div');\n",
              "          docLink.innerHTML = docLinkHtml;\n",
              "          element.appendChild(docLink);\n",
              "        }\n",
              "      </script>\n",
              "    </div>\n",
              "  </div>\n",
              "  "
            ]
          },
          "metadata": {},
          "execution_count": 206
        }
      ]
    },
    {
      "cell_type": "code",
      "source": [
        "# Nailed It! 의 예시를 살폈을 때, 전 주의 데이터가 없는 날은 '-'으로 표시됨 >> 필요 없는 행으로 판단"
      ],
      "metadata": {
        "id": "aVHP_HTA2lBw"
      },
      "execution_count": 207,
      "outputs": []
    },
    {
      "cell_type": "code",
      "source": [
        "df.drop(['Last_Week_Rank'], axis=1, inplace=True)"
      ],
      "metadata": {
        "id": "XwoJGU2_5f-Z"
      },
      "execution_count": 208,
      "outputs": []
    },
    {
      "cell_type": "markdown",
      "source": [
        "#### **4. Netflix_Release_Date** ####"
      ],
      "metadata": {
        "id": "_pZyET7v3Z4U"
      }
    },
    {
      "cell_type": "code",
      "source": [
        "# 연도 : 새로운 컬럼(\"year\")에 저장\n",
        "df['year'] = df['Netflix_Release_Date'].str.extract(r'(\\d\\d\\d\\d)')"
      ],
      "metadata": {
        "id": "YVwS-3F72leO"
      },
      "execution_count": 209,
      "outputs": []
    },
    {
      "cell_type": "code",
      "source": [
        "df['year'].sort_values()"
      ],
      "metadata": {
        "colab": {
          "base_uri": "https://localhost:8080/"
        },
        "id": "KA52MEUj7sxG",
        "outputId": "76f09e95-2b77-4e16-cca2-5b6a1eaa04df"
      },
      "execution_count": 210,
      "outputs": [
        {
          "output_type": "execute_result",
          "data": {
            "text/plain": [
              "1059    2007\n",
              "4078    2013\n",
              "4089    2013\n",
              "4066    2013\n",
              "4053    2013\n",
              "        ... \n",
              "6837    2022\n",
              "6836    2022\n",
              "6834    2022\n",
              "6661    2022\n",
              "6513    2022\n",
              "Name: year, Length: 7100, dtype: object"
            ]
          },
          "metadata": {},
          "execution_count": 210
        }
      ]
    },
    {
      "cell_type": "code",
      "source": [
        "# 일 : 새로운 컬럼(\"date\")에 저장\n",
        "df['date'] = df['Netflix_Release_Date'].str.extract(r'(\\d|\\d\\d)')"
      ],
      "metadata": {
        "id": "D0mDz3rf977Z"
      },
      "execution_count": 211,
      "outputs": []
    },
    {
      "cell_type": "code",
      "source": [
        "df['date'].sort_values()"
      ],
      "metadata": {
        "colab": {
          "base_uri": "https://localhost:8080/"
        },
        "id": "DIWH04AM-O-b",
        "outputId": "4392311c-625c-4aeb-c944-2ad0442b33d9"
      },
      "execution_count": 212,
      "outputs": [
        {
          "output_type": "execute_result",
          "data": {
            "text/plain": [
              "3549    1\n",
              "3928    1\n",
              "3931    1\n",
              "3933    1\n",
              "3935    1\n",
              "       ..\n",
              "1674    9\n",
              "6348    9\n",
              "1921    9\n",
              "2031    9\n",
              "3608    9\n",
              "Name: date, Length: 7100, dtype: object"
            ]
          },
          "metadata": {},
          "execution_count": 212
        }
      ]
    },
    {
      "cell_type": "code",
      "source": [
        "# 두 자리수로 변경\n",
        "df['date'] = df['date'].str.pad(2, fillchar='0')\n",
        "df['date'].sort_values()"
      ],
      "metadata": {
        "colab": {
          "base_uri": "https://localhost:8080/"
        },
        "id": "B5qAeE5DA2XT",
        "outputId": "5d474f74-fe07-45eb-909c-3859e8276343"
      },
      "execution_count": 213,
      "outputs": [
        {
          "output_type": "execute_result",
          "data": {
            "text/plain": [
              "3549    01\n",
              "3928    01\n",
              "3931    01\n",
              "3933    01\n",
              "3935    01\n",
              "        ..\n",
              "1674    09\n",
              "6348    09\n",
              "1921    09\n",
              "2031    09\n",
              "3608    09\n",
              "Name: date, Length: 7100, dtype: object"
            ]
          },
          "metadata": {},
          "execution_count": 213
        }
      ]
    },
    {
      "cell_type": "code",
      "source": [
        "# 월 : 새로운 컬럼(\"month\")에 저장\n",
        "df['month'] = df['Netflix_Release_Date'].str.replace(r'[^a-zA-Z]', '', regex=True)"
      ],
      "metadata": {
        "id": "_IDTtA4n2lcQ"
      },
      "execution_count": 214,
      "outputs": []
    },
    {
      "cell_type": "code",
      "source": [
        "df['month'].value_counts()"
      ],
      "metadata": {
        "colab": {
          "base_uri": "https://localhost:8080/"
        },
        "id": "OAm97ogG2lac",
        "outputId": "4bd3b613-f430-4770-af7b-6d9a51fc13a8"
      },
      "execution_count": 215,
      "outputs": [
        {
          "output_type": "execute_result",
          "data": {
            "text/plain": [
              "Jun    876\n",
              "Dec    665\n",
              "Apr    622\n",
              "Jul    611\n",
              "Sep    584\n",
              "Jan    570\n",
              "May    570\n",
              "Oct    567\n",
              "Feb    531\n",
              "Aug    520\n",
              "Mar    494\n",
              "Nov    490\n",
              "Name: month, dtype: int64"
            ]
          },
          "metadata": {},
          "execution_count": 215
        }
      ]
    },
    {
      "cell_type": "code",
      "source": [
        "def month_to_num(x):\n",
        "  if 'Jan' in x:\n",
        "    return x.replace('Jan', '01')\n",
        "  elif 'Feb' in x:\n",
        "    return x.replace('Feb', '02')\n",
        "  elif 'Mar' in x:\n",
        "    return x.replace('Mar', '03')\n",
        "  elif 'Apr' in x:\n",
        "    return x.replace('Apr', '04')\n",
        "  elif 'May' in x:\n",
        "    return x.replace('May', '05')\n",
        "  elif 'Jun' in x:\n",
        "    return x.replace('Jun', '06')\n",
        "  elif 'Jul' in x:\n",
        "    return x.replace('Jul', '07')\n",
        "  elif 'Aug' in x:\n",
        "    return x.replace('Aug', '08')\n",
        "  elif 'Sep' in x:\n",
        "    return x.replace('Sep', '09')\n",
        "  elif 'Oct' in x:\n",
        "    return x.replace('Oct', '10')\n",
        "  elif 'Nov' in x:\n",
        "    return x.replace('Nov', '11')\n",
        "  elif 'Dec' in x:\n",
        "    return x.replace('Dec', '12')"
      ],
      "metadata": {
        "id": "AtSsZatg2lYq"
      },
      "execution_count": 216,
      "outputs": []
    },
    {
      "cell_type": "code",
      "source": [
        "df['month'] = df['month'].apply(month_to_num)\n",
        "df['month']"
      ],
      "metadata": {
        "colab": {
          "base_uri": "https://localhost:8080/"
        },
        "id": "aBvhASBs2lWy",
        "outputId": "e248b34b-343c-4993-9467-95238be9f414"
      },
      "execution_count": 217,
      "outputs": [
        {
          "output_type": "execute_result",
          "data": {
            "text/plain": [
              "0       03\n",
              "1       07\n",
              "2       03\n",
              "3       03\n",
              "4       03\n",
              "        ..\n",
              "7095    03\n",
              "7096    02\n",
              "7097    08\n",
              "7098    03\n",
              "7099    05\n",
              "Name: month, Length: 7100, dtype: object"
            ]
          },
          "metadata": {},
          "execution_count": 217
        }
      ]
    },
    {
      "cell_type": "code",
      "source": [
        "# 열 합친 후, 데이터타입 변경 및 열 삭제\n",
        "df['Netflix_Release_Date'] = df['year'] + df['month'] + df['date']\n",
        "df['Netflix_Release_Date'] = df['Netflix_Release_Date'].astype('int')\n",
        "df.drop(['year', 'month', 'date'], axis=1, inplace=True)\n",
        "df['Netflix_Release_Date']"
      ],
      "metadata": {
        "colab": {
          "base_uri": "https://localhost:8080/"
        },
        "id": "r49N_PTvDJey",
        "outputId": "28ed6c37-29ef-49b8-d299-c531ebd40b6a"
      },
      "execution_count": 218,
      "outputs": [
        {
          "output_type": "execute_result",
          "data": {
            "text/plain": [
              "0       20200302\n",
              "1       20170702\n",
              "2       20190302\n",
              "3       20200302\n",
              "4       20200302\n",
              "          ...   \n",
              "7095    20220301\n",
              "7096    20220202\n",
              "7097    20140801\n",
              "7098    20220301\n",
              "7099    20180501\n",
              "Name: Netflix_Release_Date, Length: 7100, dtype: int64"
            ]
          },
          "metadata": {},
          "execution_count": 218
        }
      ]
    },
    {
      "cell_type": "code",
      "source": [
        "df.info()"
      ],
      "metadata": {
        "colab": {
          "base_uri": "https://localhost:8080/"
        },
        "id": "PTRTC9GjEmLq",
        "outputId": "b3863185-c1f9-4998-eae7-5fb5f9e82839"
      },
      "execution_count": 219,
      "outputs": [
        {
          "output_type": "stream",
          "name": "stdout",
          "text": [
            "<class 'pandas.core.frame.DataFrame'>\n",
            "RangeIndex: 7100 entries, 0 to 7099\n",
            "Data columns (total 8 columns):\n",
            " #   Column                Non-Null Count  Dtype \n",
            "---  ------                --------------  ----- \n",
            " 0   As_of                 7100 non-null   int64 \n",
            " 1   Rank                  7100 non-null   int64 \n",
            " 2   Title                 7100 non-null   object\n",
            " 3   Type                  7100 non-null   object\n",
            " 4   Netflix_Exclusive     7100 non-null   int64 \n",
            " 5   Netflix_Release_Date  7100 non-null   int64 \n",
            " 6   Days_In_Top_10        7100 non-null   int64 \n",
            " 7   Viewership_Score      7100 non-null   int64 \n",
            "dtypes: int64(6), object(2)\n",
            "memory usage: 443.9+ KB\n"
          ]
        }
      ]
    },
    {
      "cell_type": "markdown",
      "source": [
        "## **2. EDA** ##"
      ],
      "metadata": {
        "id": "0tWm5tdeYxT1"
      }
    },
    {
      "cell_type": "markdown",
      "source": [
        "# **[ 시각화 ]** #"
      ],
      "metadata": {
        "id": "lwOYwfByYKex"
      }
    },
    {
      "cell_type": "markdown",
      "source": [
        "### **가설 1** ###"
      ],
      "metadata": {
        "id": "OLBpOeXGVtlK"
      }
    },
    {
      "cell_type": "markdown",
      "source": [
        ": `Rank` 가 높을수록 넷플릭스 독점일 것이다.\n",
        "\n",
        "→ `Rank` 에 따른 넷플릭스 독점 여부 확인"
      ],
      "metadata": {
        "id": "rRa20m01V9zl"
      }
    },
    {
      "cell_type": "code",
      "source": [
        "sns.countplot(x = df.Rank, hue = df.Netflix_Exclusive)\n",
        "\n",
        "plt.show()"
      ],
      "metadata": {
        "colab": {
          "base_uri": "https://localhost:8080/",
          "height": 449
        },
        "id": "Sx2tg-pfV6PH",
        "outputId": "9985a241-3cce-4d59-aa68-43c55ca29399"
      },
      "execution_count": 220,
      "outputs": [
        {
          "output_type": "display_data",
          "data": {
            "text/plain": [
              "<Figure size 640x480 with 1 Axes>"
            ],
            "image/png": "[encoded data removed]"
          },
          "metadata": {}
        }
      ]
    },
    {
      "cell_type": "code",
      "source": [
        "# 작품이 높은 순위일 수록, 넷플릭스 독점인 비율이 크다."
      ],
      "metadata": {
        "id": "f3eX-7ZPX8fm"
      },
      "execution_count": 221,
      "outputs": []
    },
    {
      "cell_type": "markdown",
      "source": [
        "### **가설 2** ###"
      ],
      "metadata": {
        "id": "8iy3Ua4YZI7_"
      }
    },
    {
      "cell_type": "markdown",
      "source": [
        ": `Days_In_Top_10` 이 높을수록 넷플릭스 독점일 것이다.\n",
        "\n",
        "→ `Days_In_Top_10` 에 따른 넷플릭스 독점 여부 확인"
      ],
      "metadata": {
        "id": "BY9NNbKIZKFr"
      }
    },
    {
      "cell_type": "code",
      "source": [
        "df.Days_In_Top_10.sort_values()"
      ],
      "metadata": {
        "colab": {
          "base_uri": "https://localhost:8080/"
        },
        "id": "OB0ypbQUZ2_q",
        "outputId": "5624e735-1645-4890-878f-36bc07713844"
      },
      "execution_count": 222,
      "outputs": [
        {
          "output_type": "execute_result",
          "data": {
            "text/plain": [
              "1687      1\n",
              "1436      1\n",
              "1439      1\n",
              "1448      1\n",
              "1467      1\n",
              "       ... \n",
              "6674    424\n",
              "6687    425\n",
              "6718    426\n",
              "6959    427\n",
              "6998    428\n",
              "Name: Days_In_Top_10, Length: 7100, dtype: int64"
            ]
          },
          "metadata": {},
          "execution_count": 222
        }
      ]
    },
    {
      "cell_type": "code",
      "source": [
        "a = []\n",
        "\n",
        "for i in range(len(df.Days_In_Top_10)):\n",
        "  if df['Days_In_Top_10'].iloc[i] < 10:\n",
        "    a.append(5)\n",
        "  elif 10 <= df['Days_In_Top_10'].iloc[i] < 20:\n",
        "    a.append(15)\n",
        "  elif 20 <= df['Days_In_Top_10'].iloc[i] < 30:\n",
        "    a.append(25)\n",
        "  elif 30 <= df['Days_In_Top_10'].iloc[i] < 40:\n",
        "    a.append(35)\n",
        "  elif 40 <= df['Days_In_Top_10'].iloc[i] < 50:\n",
        "    a.append(45)\n",
        "  elif 50 <= df['Days_In_Top_10'].iloc[i] < 60:\n",
        "    a.append(55)\n",
        "  elif 60 <= df['Days_In_Top_10'].iloc[i] < 70:\n",
        "    a.append(65)\n",
        "  elif 70 <= df['Days_In_Top_10'].iloc[i] < 80:\n",
        "    a.append(75)\n",
        "  elif 80 <= df['Days_In_Top_10'].iloc[i] < 90:\n",
        "    a.append(85)\n",
        "  elif 90 <= df['Days_In_Top_10'].iloc[i] < 100:\n",
        "    a.append(95)\n",
        "  elif 100 <= df['Days_In_Top_10'].iloc[i] < 150:\n",
        "    a.append(125)\n",
        "  elif 150 <= df['Days_In_Top_10'].iloc[i] < 200:\n",
        "    a.append(175)\n",
        "  elif 200 <= df['Days_In_Top_10'].iloc[i] < 250:\n",
        "    a.append(225)\n",
        "  elif 250 <= df['Days_In_Top_10'].iloc[i] < 300:\n",
        "    a.append(275)\n",
        "  elif 300 <= df['Days_In_Top_10'].iloc[i] < 350:\n",
        "    a.append(325)\n",
        "  elif 350 <= df['Days_In_Top_10'].iloc[i] < 400:\n",
        "    a.append(375)\n",
        "  else:\n",
        "    a.append(400)\n",
        "\n",
        "df2 = df.copy()\n",
        "df2['Days_In_Top_10_'] = a"
      ],
      "metadata": {
        "id": "Gh_jbwjycLXf"
      },
      "execution_count": 223,
      "outputs": []
    },
    {
      "cell_type": "code",
      "source": [
        "sns.countplot(x = df2.Days_In_Top_10_, hue = df.Netflix_Exclusive)\n",
        "\n",
        "plt.show()"
      ],
      "metadata": {
        "colab": {
          "base_uri": "https://localhost:8080/",
          "height": 449
        },
        "id": "TmB_2s7QW40M",
        "outputId": "028d4830-7e98-4880-f2a3-8a76cd2d6fc7"
      },
      "execution_count": 224,
      "outputs": [
        {
          "output_type": "display_data",
          "data": {
            "text/plain": [
              "<Figure size 640x480 with 1 Axes>"
            ],
            "image/png": "[encoded data removed]"
          },
          "metadata": {}
        }
      ]
    },
    {
      "cell_type": "code",
      "source": [
        "# Days_In_Top_10 가 높으면 넷플릭스 독점확률이 높지만, Days_In_Top_10 이 50을 넘기면 넷플릭스 독점여부에 큰 차이가 있지 않다.\n",
        "\n",
        "# >> 일정 일수까진 의미있지만, 일정 일수를 넘어가면 의미x"
      ],
      "metadata": {
        "id": "-TYneBlMXslH"
      },
      "execution_count": 225,
      "outputs": []
    },
    {
      "cell_type": "markdown",
      "source": [
        "### **가설 3** ###"
      ],
      "metadata": {
        "id": "AKZASPb-gVSD"
      }
    },
    {
      "cell_type": "markdown",
      "source": [
        ": `Viewership_Score` 가 높을수록 넷플릭스 독점일 것이다.\n",
        "\n",
        "→ `Viewership_Score` 에 따른 넷플릭스 독점 여부 확인"
      ],
      "metadata": {
        "id": "BquvHCBsgVC7"
      }
    },
    {
      "cell_type": "code",
      "source": [
        "df.Viewership_Score .sort_values()"
      ],
      "metadata": {
        "colab": {
          "base_uri": "https://localhost:8080/"
        },
        "id": "X9YoIooigkgR",
        "outputId": "21bbeb30-770b-4f5c-eb66-53c12dcf25a4"
      },
      "execution_count": 226,
      "outputs": [
        {
          "output_type": "execute_result",
          "data": {
            "text/plain": [
              "69         1\n",
              "4099       1\n",
              "2399       1\n",
              "5269       1\n",
              "5639       1\n",
              "        ... \n",
              "6674    1466\n",
              "6687    1469\n",
              "6718    1471\n",
              "6959    1472\n",
              "6998    1474\n",
              "Name: Viewership_Score, Length: 7100, dtype: int64"
            ]
          },
          "metadata": {},
          "execution_count": 226
        }
      ]
    },
    {
      "cell_type": "code",
      "source": [
        "a = []\n",
        "\n",
        "for i in range(len(df.Viewership_Score)):\n",
        "  if df['Viewership_Score'].iloc[i] < 25:\n",
        "    a.append(25)\n",
        "  elif 25 <= df['Viewership_Score'].iloc[i] < 50:\n",
        "    a.append(50)\n",
        "  elif 50 <= df['Viewership_Score'].iloc[i] < 75:\n",
        "    a.append(75)\n",
        "  elif 75 <= df['Viewership_Score'].iloc[i] < 100:\n",
        "    a.append(100)\n",
        "  elif 100 <= df['Viewership_Score'].iloc[i] < 125:\n",
        "    a.append(125)\n",
        "  elif 125 <= df['Viewership_Score'].iloc[i] < 150:\n",
        "    a.append(150)\n",
        "  elif 150 <= df['Viewership_Score'].iloc[i] < 175:\n",
        "    a.append(175)\n",
        "  elif 175 <= df['Viewership_Score'].iloc[i] < 200:\n",
        "    a.append(200)\n",
        "  elif 200 <= df['Viewership_Score'].iloc[i] < 225:\n",
        "    a.append(225)\n",
        "  elif 225 <= df['Viewership_Score'].iloc[i] < 250:\n",
        "    a.append(250)\n",
        "  elif 250 <= df['Viewership_Score'].iloc[i] < 275:\n",
        "    a.append(275)\n",
        "  elif 275 <= df['Viewership_Score'].iloc[i] < 300:\n",
        "    a.append(300)\n",
        "  elif 300 <= df['Viewership_Score'].iloc[i] < 400:\n",
        "    a.append(400)\n",
        "  elif 400 <= df['Viewership_Score'].iloc[i] < 500:\n",
        "    a.append(500)\n",
        "  elif 500 <= df['Viewership_Score'].iloc[i] < 600:\n",
        "    a.append(600)\n",
        "  elif 600 <= df['Viewership_Score'].iloc[i] < 700:\n",
        "    a.append(700)\n",
        "  elif 700 <= df['Viewership_Score'].iloc[i] < 800:\n",
        "    a.append(800)\n",
        "  elif 800 <= df['Viewership_Score'].iloc[i] < 900:\n",
        "    a.append(900)\n",
        "  elif 900 <= df['Viewership_Score'].iloc[i] < 1000:\n",
        "    a.append(1000)\n",
        "  elif 1000 <= df['Viewership_Score'].iloc[i] < 1100:\n",
        "    a.append(1100)\n",
        "  elif 1100 <= df['Viewership_Score'].iloc[i] < 1200:\n",
        "    a.append(1200)\n",
        "  elif 1200 <= df['Viewership_Score'].iloc[i] < 1300:\n",
        "    a.append(1300)\n",
        "  elif 1300 <= df['Viewership_Score'].iloc[i] < 1400:\n",
        "    a.append(1400)\n",
        "  else:\n",
        "    a.append(1450)\n",
        "\n",
        "df2['Viewership_Score_'] = a"
      ],
      "metadata": {
        "id": "8WiD9kbagkej"
      },
      "execution_count": 227,
      "outputs": []
    },
    {
      "cell_type": "code",
      "source": [
        "plt.figure(figsize=(12, 5))\n",
        "sns.countplot(x = df2.Viewership_Score_, hue = df.Netflix_Exclusive)\n",
        "\n",
        "plt.show()"
      ],
      "metadata": {
        "colab": {
          "base_uri": "https://localhost:8080/",
          "height": 465
        },
        "id": "YAG-BNpsgkcv",
        "outputId": "c1245f99-852d-4afe-c750-52ede6893da5"
      },
      "execution_count": 228,
      "outputs": [
        {
          "output_type": "display_data",
          "data": {
            "text/plain": [
              "<Figure size 1200x500 with 1 Axes>"
            ],
            "image/png": "[encoded data removed]"
          },
          "metadata": {}
        }
      ]
    },
    {
      "cell_type": "code",
      "source": [
        "# Viewership_Score 가 높으면 넷플릭스 독점확률이 높지만, Viewership_Score 이 300을 넘기면 넷플릭스 독점확률이 낮아지며, 일정 점수를 넘어가면 넷플릭스 독점 작품이 존재하지 않음\n",
        "\n",
        "# >> 일정 점수까진 의미있지만, 일정 점수를 넘어가면 의미x"
      ],
      "metadata": {
        "id": "Fkdk9QC1gka-"
      },
      "execution_count": 229,
      "outputs": []
    },
    {
      "cell_type": "markdown",
      "source": [
        "### **각 컬럼의 상관관계 확인** ###"
      ],
      "metadata": {
        "id": "9BMfzaLsYwEx"
      }
    },
    {
      "cell_type": "markdown",
      "source": [
        "각 컬럼간의 상관관계를 알기 위해 상관계수 이용"
      ],
      "metadata": {
        "id": "m3EFesNPZqCz"
      }
    },
    {
      "cell_type": "code",
      "source": [
        "corr = df.corr()\n",
        "sns.heatmap(corr, annot=True)"
      ],
      "metadata": {
        "colab": {
          "base_uri": "https://localhost:8080/",
          "height": 586
        },
        "id": "HAiyKa0AYOVq",
        "outputId": "00c7b170-6b0c-4f21-8751-a61f8aec6854"
      },
      "execution_count": 230,
      "outputs": [
        {
          "output_type": "execute_result",
          "data": {
            "text/plain": [
              "<Axes: >"
            ]
          },
          "metadata": {},
          "execution_count": 230
        },
        {
          "output_type": "display_data",
          "data": {
            "text/plain": [
              "<Figure size 640x480 with 2 Axes>"
            ],
            "image/png": "[encoded data removed]"
          },
          "metadata": {}
        }
      ]
    },
    {
      "cell_type": "code",
      "source": [
        "# 높은 상관관계를 나타내는 컬럼 : Days_In_Top_10, Viewership_Score\n",
        "\n",
        "# 타겟인 Netflix_Exclusive와 높은 상관관계를 가지는 컬럼은 없는 것으로 판단\n",
        "# >> 정보의 누수(Data Leakage)가 일어나지 않음"
      ],
      "metadata": {
        "id": "WMmtcUW_Z_kM"
      },
      "execution_count": 231,
      "outputs": []
    },
    {
      "cell_type": "markdown",
      "source": [
        "#### **상관관계에 있는 컬럼** ####"
      ],
      "metadata": {
        "id": "aVScCJrddmOD"
      }
    },
    {
      "cell_type": "markdown",
      "source": [
        "위에서 높은 상관관계를 나타내는 컬럼인 `Viewership_Score`에 따른 `Days_In_Top_10`의 데이터 분포 확인"
      ],
      "metadata": {
        "id": "ziPYXGurdvNV"
      }
    },
    {
      "cell_type": "code",
      "source": [
        "sns.scatterplot(x = df.Viewership_Score, y = df.Days_In_Top_10, hue = df.Netflix_Exclusive)\n",
        "\n",
        "plt.show()"
      ],
      "metadata": {
        "colab": {
          "base_uri": "https://localhost:8080/",
          "height": 450
        },
        "id": "BoforI7LaSNC",
        "outputId": "7676ba65-850d-459b-f20b-079d88117c18"
      },
      "execution_count": 232,
      "outputs": [
        {
          "output_type": "display_data",
          "data": {
            "text/plain": [
              "<Figure size 640x480 with 1 Axes>"
            ],
            "image/png": "[encoded data removed]"
          },
          "metadata": {}
        }
      ]
    },
    {
      "cell_type": "code",
      "source": [
        "# 시청자 점수가 높을수록 Top 10에 든 날이 많지만,\n",
        "# 넷플릭스 독점일 경우, 시청자 점수와 Top 10에 한계가 있음을 알 수 있다.\n",
        "\n",
        "\n",
        "# 예상 1) 데이터가 넷플릭스 오리지널이 아닌 경우,\n",
        "# 높은 인기를 가진 작품은 가격 문제로 독점하지 못한 것으로 예상\n",
        "\n",
        "# 예상 2) 데이터가 넷플릭스 오리지널인 경우,\n",
        "# >> 넷플릭스 사용자만 볼 수 있기 때문에, 시청자 점수 및 Top 10에 한계가 있을 것으로 예상\n"
      ],
      "metadata": {
        "id": "1QJusCNXeFTl"
      },
      "execution_count": 233,
      "outputs": []
    },
    {
      "cell_type": "markdown",
      "source": [
        "# **[ 모델링 ]** #"
      ],
      "metadata": {
        "id": "nfVLnNDIIilR"
      }
    },
    {
      "cell_type": "markdown",
      "source": [
        "## **1. 데이터 분할** ##"
      ],
      "metadata": {
        "id": "HaHlEBNODHXq"
      }
    },
    {
      "cell_type": "markdown",
      "source": [
        "타겟은 넷플릭스 독점여부를 나타내는 컬럼으로 선정\n",
        "\n",
        "훈련데이터는 2020.04.01 ~ 2021.08.31, 테스트데이터는 2021.09.01 ~ 2022.03.31로 정했으며,\n",
        "\n",
        "넷플릭스 독점여부 비율을 그대로 유지하며 분할"
      ],
      "metadata": {
        "id": "IjN3rFxqQ45l"
      }
    },
    {
      "cell_type": "code",
      "source": [
        "df['As_of'].sort_values()"
      ],
      "metadata": {
        "colab": {
          "base_uri": "https://localhost:8080/"
        },
        "id": "Np4mR0gWVFV4",
        "outputId": "1b61e37c-1b19-42b5-f03a-c784b3f73be7"
      },
      "execution_count": 234,
      "outputs": [
        {
          "output_type": "execute_result",
          "data": {
            "text/plain": [
              "0       20200401\n",
              "1       20200401\n",
              "2       20200401\n",
              "3       20200401\n",
              "4       20200401\n",
              "          ...   \n",
              "7094    20220311\n",
              "7095    20220311\n",
              "7096    20220311\n",
              "7097    20220311\n",
              "7099    20220311\n",
              "Name: As_of, Length: 7100, dtype: int64"
            ]
          },
          "metadata": {},
          "execution_count": 234
        }
      ]
    },
    {
      "cell_type": "code",
      "source": [
        "target = \"Netflix_Exclusive\""
      ],
      "metadata": {
        "id": "FP1AmS133of2"
      },
      "execution_count": 235,
      "outputs": []
    },
    {
      "cell_type": "code",
      "source": [
        "train = df.query('As_of < 20210900')\n",
        "test = df.query('As_of > 20210900')"
      ],
      "metadata": {
        "id": "8hlf2MQPU-tG"
      },
      "execution_count": 236,
      "outputs": []
    },
    {
      "cell_type": "code",
      "source": [
        "def X_y_split(df):\n",
        "  \n",
        "    X = df.drop(target, axis=1)\n",
        "    y = df[target]\n",
        "\n",
        "    return X, y"
      ],
      "metadata": {
        "id": "n6pzOf4lInT2"
      },
      "execution_count": 237,
      "outputs": []
    },
    {
      "cell_type": "code",
      "source": [
        "X_train, y_train = X_y_split(train.copy())\n",
        "X_test, y_test = X_y_split(test.copy())\n",
        "\n",
        "X_train.shape, X_test.shape"
      ],
      "metadata": {
        "colab": {
          "base_uri": "https://localhost:8080/"
        },
        "id": "lqOKFzW85I7M",
        "outputId": "daea8408-c946-456d-e22e-db2f198f2b5c"
      },
      "execution_count": 238,
      "outputs": [
        {
          "output_type": "execute_result",
          "data": {
            "text/plain": [
              "((5180, 7), (1920, 7))"
            ]
          },
          "metadata": {},
          "execution_count": 238
        }
      ]
    },
    {
      "cell_type": "code",
      "source": [
        "df.shape[0] == X_train.shape[0] + X_test.shape[0]"
      ],
      "metadata": {
        "id": "sbobOwv8InQQ",
        "colab": {
          "base_uri": "https://localhost:8080/"
        },
        "outputId": "10bd84cc-d439-4c98-ced7-c00fb1b38585"
      },
      "execution_count": 239,
      "outputs": [
        {
          "output_type": "execute_result",
          "data": {
            "text/plain": [
              "True"
            ]
          },
          "metadata": {},
          "execution_count": 239
        }
      ]
    },
    {
      "cell_type": "markdown",
      "source": [
        "## **2. 기준 모델** ##"
      ],
      "metadata": {
        "id": "IIcee0dNPdRZ"
      }
    },
    {
      "cell_type": "markdown",
      "source": [
        "넷플릭스 독점여부를 판단하는 **분류**문제이기 때문에 XGBClassifier를 이용하여 기준모델 생성"
      ],
      "metadata": {
        "id": "ddTZR4KbQvaN"
      }
    },
    {
      "cell_type": "code",
      "source": [
        "# 기준모델(XGBClassifier 이용)\n",
        "pipe = make_pipeline(OrdinalEncoder(),\n",
        "                     XGBClassifier(random_state=42,\n",
        "                                   max_depth=3,\n",
        "                                   learning_rate=0.05))"
      ],
      "metadata": {
        "id": "eQv8XkMpPc1r"
      },
      "execution_count": 240,
      "outputs": []
    },
    {
      "cell_type": "code",
      "source": [
        "# 모델 학습\n",
        "pipe.fit(X_train, y_train)\n",
        "\n",
        "# 기준 모델 학습 성능\n",
        "y_pred_base = pipe.predict(X_train)\n",
        "print(f1_score(y_train, y_pred_base))"
      ],
      "metadata": {
        "colab": {
          "base_uri": "https://localhost:8080/"
        },
        "id": "Ww0mGCp6Pcwi",
        "outputId": "6964cf8c-d31b-4e75-df29-d3bdfe26131f"
      },
      "execution_count": 241,
      "outputs": [
        {
          "output_type": "stream",
          "name": "stdout",
          "text": [
            "0.8612180858650691\n"
          ]
        }
      ]
    },
    {
      "cell_type": "markdown",
      "source": [
        "## **3. Grid Search** ##"
      ],
      "metadata": {
        "id": "b9NvXG-dw5Zm"
      }
    },
    {
      "cell_type": "markdown",
      "source": [
        "Grid Search는 시간이 오래걸리지만, 모든 요소를 체크할 수 있는 장점이 있기 때문에,\n",
        "\n",
        "XGBClassifier에서 중요한 하이퍼파라미터인 max_depth와 learning_rate, n_estimators만 우선적으로 조정하였다.\n",
        "\n",
        "아래의 파라미터를 모두 수행하였지만, 시간관계상 다른 파라미터를 생성하여 진행하였다."
      ],
      "metadata": {
        "id": "jaYbV1spRRSQ"
      }
    },
    {
      "cell_type": "code",
      "source": [
        "# params = {\n",
        "#     \"xgbclassifier__max_depth\": [3, 4, 5, 6, 7, 8, 9],\n",
        "#     \"xgbclassifier__learning_rate\": [0.05, 0.1, 0.15, 0.2, 0.25, 0.3],\n",
        "#     \"xgbclassifier__n_estimators\": [50, 100, 150, 200, 250, 300]\n",
        "# }"
      ],
      "metadata": {
        "id": "cLnLCBPzw8zM"
      },
      "execution_count": 242,
      "outputs": []
    },
    {
      "cell_type": "code",
      "source": [
        "params = {\n",
        "    \"xgbclassifier__max_depth\": [3, 4, 5],\n",
        "    \"xgbclassifier__learning_rate\": [0.05, 0.1],\n",
        "    \"xgbclassifier__n_estimators\": [50, 100]\n",
        "}"
      ],
      "metadata": {
        "id": "WpkXH5UHjkrw"
      },
      "execution_count": 243,
      "outputs": []
    },
    {
      "cell_type": "code",
      "source": [
        "grid_search = GridSearchCV(pipe, param_grid=params, scoring=\"f1\", cv=3, verbose=3)\n",
        "grid_search.fit(X_train, y_train)"
      ],
      "metadata": {
        "colab": {
          "base_uri": "https://localhost:8080/",
          "height": 836
        },
        "id": "y9nfa2U5zmM1",
        "outputId": "c7861138-6575-4f19-809b-61181d565da4"
      },
      "execution_count": 244,
      "outputs": [
        {
          "output_type": "stream",
          "name": "stdout",
          "text": [
            "Fitting 3 folds for each of 12 candidates, totalling 36 fits\n",
            "[CV 1/3] END xgbclassifier__learning_rate=0.05, xgbclassifier__max_depth=3, xgbclassifier__n_estimators=50;, score=0.759 total time=   0.1s\n",
            "[CV 2/3] END xgbclassifier__learning_rate=0.05, xgbclassifier__max_depth=3, xgbclassifier__n_estimators=50;, score=0.737 total time=   0.1s\n",
            "[CV 3/3] END xgbclassifier__learning_rate=0.05, xgbclassifier__max_depth=3, xgbclassifier__n_estimators=50;, score=0.832 total time=   0.1s\n",
            "[CV 1/3] END xgbclassifier__learning_rate=0.05, xgbclassifier__max_depth=3, xgbclassifier__n_estimators=100;, score=0.765 total time=   0.2s\n",
            "[CV 2/3] END xgbclassifier__learning_rate=0.05, xgbclassifier__max_depth=3, xgbclassifier__n_estimators=100;, score=0.731 total time=   0.2s\n",
            "[CV 3/3] END xgbclassifier__learning_rate=0.05, xgbclassifier__max_depth=3, xgbclassifier__n_estimators=100;, score=0.800 total time=   0.2s\n",
            "[CV 1/3] END xgbclassifier__learning_rate=0.05, xgbclassifier__max_depth=4, xgbclassifier__n_estimators=50;, score=0.763 total time=   0.1s\n",
            "[CV 2/3] END xgbclassifier__learning_rate=0.05, xgbclassifier__max_depth=4, xgbclassifier__n_estimators=50;, score=0.726 total time=   0.2s\n",
            "[CV 3/3] END xgbclassifier__learning_rate=0.05, xgbclassifier__max_depth=4, xgbclassifier__n_estimators=50;, score=0.820 total time=   0.3s\n",
            "[CV 1/3] END xgbclassifier__learning_rate=0.05, xgbclassifier__max_depth=4, xgbclassifier__n_estimators=100;, score=0.777 total time=   0.8s\n",
            "[CV 2/3] END xgbclassifier__learning_rate=0.05, xgbclassifier__max_depth=4, xgbclassifier__n_estimators=100;, score=0.688 total time=   0.8s\n",
            "[CV 3/3] END xgbclassifier__learning_rate=0.05, xgbclassifier__max_depth=4, xgbclassifier__n_estimators=100;, score=0.807 total time=   0.7s\n",
            "[CV 1/3] END xgbclassifier__learning_rate=0.05, xgbclassifier__max_depth=5, xgbclassifier__n_estimators=50;, score=0.735 total time=   0.1s\n",
            "[CV 2/3] END xgbclassifier__learning_rate=0.05, xgbclassifier__max_depth=5, xgbclassifier__n_estimators=50;, score=0.708 total time=   0.1s\n",
            "[CV 3/3] END xgbclassifier__learning_rate=0.05, xgbclassifier__max_depth=5, xgbclassifier__n_estimators=50;, score=0.809 total time=   0.1s\n",
            "[CV 1/3] END xgbclassifier__learning_rate=0.05, xgbclassifier__max_depth=5, xgbclassifier__n_estimators=100;, score=0.788 total time=   0.3s\n",
            "[CV 2/3] END xgbclassifier__learning_rate=0.05, xgbclassifier__max_depth=5, xgbclassifier__n_estimators=100;, score=0.672 total time=   0.2s\n",
            "[CV 3/3] END xgbclassifier__learning_rate=0.05, xgbclassifier__max_depth=5, xgbclassifier__n_estimators=100;, score=0.793 total time=   0.2s\n",
            "[CV 1/3] END xgbclassifier__learning_rate=0.1, xgbclassifier__max_depth=3, xgbclassifier__n_estimators=50;, score=0.767 total time=   0.1s\n",
            "[CV 2/3] END xgbclassifier__learning_rate=0.1, xgbclassifier__max_depth=3, xgbclassifier__n_estimators=50;, score=0.721 total time=   0.1s\n",
            "[CV 3/3] END xgbclassifier__learning_rate=0.1, xgbclassifier__max_depth=3, xgbclassifier__n_estimators=50;, score=0.787 total time=   0.1s\n",
            "[CV 1/3] END xgbclassifier__learning_rate=0.1, xgbclassifier__max_depth=3, xgbclassifier__n_estimators=100;, score=0.765 total time=   0.2s\n",
            "[CV 2/3] END xgbclassifier__learning_rate=0.1, xgbclassifier__max_depth=3, xgbclassifier__n_estimators=100;, score=0.647 total time=   0.2s\n",
            "[CV 3/3] END xgbclassifier__learning_rate=0.1, xgbclassifier__max_depth=3, xgbclassifier__n_estimators=100;, score=0.767 total time=   0.2s\n",
            "[CV 1/3] END xgbclassifier__learning_rate=0.1, xgbclassifier__max_depth=4, xgbclassifier__n_estimators=50;, score=0.770 total time=   0.1s\n",
            "[CV 2/3] END xgbclassifier__learning_rate=0.1, xgbclassifier__max_depth=4, xgbclassifier__n_estimators=50;, score=0.646 total time=   0.1s\n",
            "[CV 3/3] END xgbclassifier__learning_rate=0.1, xgbclassifier__max_depth=4, xgbclassifier__n_estimators=50;, score=0.784 total time=   0.1s\n",
            "[CV 1/3] END xgbclassifier__learning_rate=0.1, xgbclassifier__max_depth=4, xgbclassifier__n_estimators=100;, score=0.765 total time=   0.2s\n",
            "[CV 2/3] END xgbclassifier__learning_rate=0.1, xgbclassifier__max_depth=4, xgbclassifier__n_estimators=100;, score=0.579 total time=   0.2s\n",
            "[CV 3/3] END xgbclassifier__learning_rate=0.1, xgbclassifier__max_depth=4, xgbclassifier__n_estimators=100;, score=0.792 total time=   0.2s\n",
            "[CV 1/3] END xgbclassifier__learning_rate=0.1, xgbclassifier__max_depth=5, xgbclassifier__n_estimators=50;, score=0.775 total time=   0.1s\n",
            "[CV 2/3] END xgbclassifier__learning_rate=0.1, xgbclassifier__max_depth=5, xgbclassifier__n_estimators=50;, score=0.705 total time=   0.1s\n",
            "[CV 3/3] END xgbclassifier__learning_rate=0.1, xgbclassifier__max_depth=5, xgbclassifier__n_estimators=50;, score=0.798 total time=   0.1s\n",
            "[CV 1/3] END xgbclassifier__learning_rate=0.1, xgbclassifier__max_depth=5, xgbclassifier__n_estimators=100;, score=0.770 total time=   0.2s\n",
            "[CV 2/3] END xgbclassifier__learning_rate=0.1, xgbclassifier__max_depth=5, xgbclassifier__n_estimators=100;, score=0.606 total time=   0.2s\n",
            "[CV 3/3] END xgbclassifier__learning_rate=0.1, xgbclassifier__max_depth=5, xgbclassifier__n_estimators=100;, score=0.775 total time=   0.2s\n"
          ]
        },
        {
          "output_type": "execute_result",
          "data": {
            "text/plain": [
              "GridSearchCV(cv=3,\n",
              "             estimator=Pipeline(steps=[('ordinalencoder',\n",
              "                                        OrdinalEncoder(cols=['Title', 'Type'],\n",
              "                                                       mapping=[{'col': 'Title',\n",
              "                                                                 'data_type': dtype('O'),\n",
              "                                                                 'mapping': Tiger King: Murder, Mayhem …      1\n",
              "Ozark                             2\n",
              "All American                      3\n",
              "Blood Father                      4\n",
              "The Platform                      5\n",
              "                               ... \n",
              "Clickbait                       498\n",
              "Bob Ross: Happy Accidents, …    499\n",
              "Heâs All That                 500\n",
              "SAS: Red Notice                 501\n",
              "NaN                              -2\n",
              "Length: 502, dtype: int64},\n",
              "                                                                {'col': 'Type',\n",
              "                                                                 'data_type...\n",
              "                                                      max_cat_to_onehot=4,\n",
              "                                                      max_delta_step=0,\n",
              "                                                      max_depth=3, max_leaves=0,\n",
              "                                                      min_child_weight=1,\n",
              "                                                      missing=nan,\n",
              "                                                      monotone_constraints='()',\n",
              "                                                      n_estimators=100,\n",
              "                                                      n_jobs=0,\n",
              "                                                      num_parallel_tree=1,\n",
              "                                                      predictor='auto',\n",
              "                                                      random_state=42, ...))]),\n",
              "             param_grid={'xgbclassifier__learning_rate': [0.05, 0.1],\n",
              "                         'xgbclassifier__max_depth': [3, 4, 5],\n",
              "                         'xgbclassifier__n_estimators': [50, 100]},\n",
              "             scoring='f1', verbose=3)"
            ],
            "text/html": [
              "<style>#sk-container-id-3 {color: black;background-color: white;}#sk-container-id-3 pre{padding: 0;}#sk-container-id-3 div.sk-toggleable {background-color: white;}#sk-container-id-3 label.sk-toggleable__label {cursor: pointer;display: block;width: 100%;margin-bottom: 0;padding: 0.3em;box-sizing: border-box;text-align: center;}#sk-container-id-3 label.sk-toggleable__label-arrow:before {content: \"▸\";float: left;margin-right: 0.25em;color: #696969;}#sk-container-id-3 label.sk-toggleable__label-arrow:hover:before {color: black;}#sk-container-id-3 div.sk-estimator:hover label.sk-toggleable__label-arrow:before {color: black;}#sk-container-id-3 div.sk-toggleable__content {max-height: 0;max-width: 0;overflow: hidden;text-align: left;background-color: #f0f8ff;}#sk-container-id-3 div.sk-toggleable__content pre {margin: 0.2em;color: black;border-radius: 0.25em;background-color: #f0f8ff;}#sk-container-id-3 input.sk-toggleable__control:checked~div.sk-toggleable__content {max-height: 200px;max-width: 100%;overflow: auto;}#sk-container-id-3 input.sk-toggleable__control:checked~label.sk-toggleable__label-arrow:before {content: \"▾\";}#sk-container-id-3 div.sk-estimator input.sk-toggleable__control:checked~label.sk-toggleable__label {background-color: #d4ebff;}#sk-container-id-3 div.sk-label input.sk-toggleable__control:checked~label.sk-toggleable__label {background-color: #d4ebff;}#sk-container-id-3 input.sk-hidden--visually {border: 0;clip: rect(1px 1px 1px 1px);clip: rect(1px, 1px, 1px, 1px);height: 1px;margin: -1px;overflow: hidden;padding: 0;position: absolute;width: 1px;}#sk-container-id-3 div.sk-estimator {font-family: monospace;background-color: #f0f8ff;border: 1px dotted black;border-radius: 0.25em;box-sizing: border-box;margin-bottom: 0.5em;}#sk-container-id-3 div.sk-estimator:hover {background-color: #d4ebff;}#sk-container-id-3 div.sk-parallel-item::after {content: \"\";width: 100%;border-bottom: 1px solid gray;flex-grow: 1;}#sk-container-id-3 div.sk-label:hover label.sk-toggleable__label {background-color: #d4ebff;}#sk-container-id-3 div.sk-serial::before {content: \"\";position: absolute;border-left: 1px solid gray;box-sizing: border-box;top: 0;bottom: 0;left: 50%;z-index: 0;}#sk-container-id-3 div.sk-serial {display: flex;flex-direction: column;align-items: center;background-color: white;padding-right: 0.2em;padding-left: 0.2em;position: relative;}#sk-container-id-3 div.sk-item {position: relative;z-index: 1;}#sk-container-id-3 div.sk-parallel {display: flex;align-items: stretch;justify-content: center;background-color: white;position: relative;}#sk-container-id-3 div.sk-item::before, #sk-container-id-3 div.sk-parallel-item::before {content: \"\";position: absolute;border-left: 1px solid gray;box-sizing: border-box;top: 0;bottom: 0;left: 50%;z-index: -1;}#sk-container-id-3 div.sk-parallel-item {display: flex;flex-direction: column;z-index: 1;position: relative;background-color: white;}#sk-container-id-3 div.sk-parallel-item:first-child::after {align-self: flex-end;width: 50%;}#sk-container-id-3 div.sk-parallel-item:last-child::after {align-self: flex-start;width: 50%;}#sk-container-id-3 div.sk-parallel-item:only-child::after {width: 0;}#sk-container-id-3 div.sk-dashed-wrapped {border: 1px dashed gray;margin: 0 0.4em 0.5em 0.4em;box-sizing: border-box;padding-bottom: 0.4em;background-color: white;}#sk-container-id-3 div.sk-label label {font-family: monospace;font-weight: bold;display: inline-block;line-height: 1.2em;}#sk-container-id-3 div.sk-label-container {text-align: center;}#sk-container-id-3 div.sk-container {/* jupyter's `normalize.less` sets `[hidden] { display: none; }` but bootstrap.min.css set `[hidden] { display: none !important; }` so we also need the `!important` here to be able to override the default hidden behavior on the sphinx rendered scikit-learn.org. See: https://github.com/scikit-learn/scikit-learn/issues/21755 */display: inline-block !important;position: relative;}#sk-container-id-3 div.sk-text-repr-fallback {display: none;}</style><div id=\"sk-container-id-3\" class=\"sk-top-container\"><div class=\"sk-text-repr-fallback\"><pre>GridSearchCV(cv=3,\n",
              "             estimator=Pipeline(steps=[(&#x27;ordinalencoder&#x27;,\n",
              "                                        OrdinalEncoder(cols=[&#x27;Title&#x27;, &#x27;Type&#x27;],\n",
              "                                                       mapping=[{&#x27;col&#x27;: &#x27;Title&#x27;,\n",
              "                                                                 &#x27;data_type&#x27;: dtype(&#x27;O&#x27;),\n",
              "                                                                 &#x27;mapping&#x27;: Tiger King: Murder, Mayhem …      1\n",
              "Ozark                             2\n",
              "All American                      3\n",
              "Blood Father                      4\n",
              "The Platform                      5\n",
              "                               ... \n",
              "Clickbait                       498\n",
              "Bob Ross: Happy Accidents, …    499\n",
              "Heâs All That                 500\n",
              "SAS: Red Notice                 501\n",
              "NaN                              -2\n",
              "Length: 502, dtype: int64},\n",
              "                                                                {&#x27;col&#x27;: &#x27;Type&#x27;,\n",
              "                                                                 &#x27;data_type...\n",
              "                                                      max_cat_to_onehot=4,\n",
              "                                                      max_delta_step=0,\n",
              "                                                      max_depth=3, max_leaves=0,\n",
              "                                                      min_child_weight=1,\n",
              "                                                      missing=nan,\n",
              "                                                      monotone_constraints=&#x27;()&#x27;,\n",
              "                                                      n_estimators=100,\n",
              "                                                      n_jobs=0,\n",
              "                                                      num_parallel_tree=1,\n",
              "                                                      predictor=&#x27;auto&#x27;,\n",
              "                                                      random_state=42, ...))]),\n",
              "             param_grid={&#x27;xgbclassifier__learning_rate&#x27;: [0.05, 0.1],\n",
              "                         &#x27;xgbclassifier__max_depth&#x27;: [3, 4, 5],\n",
              "                         &#x27;xgbclassifier__n_estimators&#x27;: [50, 100]},\n",
              "             scoring=&#x27;f1&#x27;, verbose=3)</pre><b>In a Jupyter environment, please rerun this cell to show the HTML representation or trust the notebook. <br />On GitHub, the HTML representation is unable to render, please try loading this page with nbviewer.org.</b></div><div class=\"sk-container\" hidden><div class=\"sk-item sk-dashed-wrapped\"><div class=\"sk-label-container\"><div class=\"sk-label sk-toggleable\"><input class=\"sk-toggleable__control sk-hidden--visually\" id=\"sk-estimator-id-9\" type=\"checkbox\" ><label for=\"sk-estimator-id-9\" class=\"sk-toggleable__label sk-toggleable__label-arrow\">GridSearchCV</label><div class=\"sk-toggleable__content\"><pre>GridSearchCV(cv=3,\n",
              "             estimator=Pipeline(steps=[(&#x27;ordinalencoder&#x27;,\n",
              "                                        OrdinalEncoder(cols=[&#x27;Title&#x27;, &#x27;Type&#x27;],\n",
              "                                                       mapping=[{&#x27;col&#x27;: &#x27;Title&#x27;,\n",
              "                                                                 &#x27;data_type&#x27;: dtype(&#x27;O&#x27;),\n",
              "                                                                 &#x27;mapping&#x27;: Tiger King: Murder, Mayhem …      1\n",
              "Ozark                             2\n",
              "All American                      3\n",
              "Blood Father                      4\n",
              "The Platform                      5\n",
              "                               ... \n",
              "Clickbait                       498\n",
              "Bob Ross: Happy Accidents, …    499\n",
              "Heâs All That                 500\n",
              "SAS: Red Notice                 501\n",
              "NaN                              -2\n",
              "Length: 502, dtype: int64},\n",
              "                                                                {&#x27;col&#x27;: &#x27;Type&#x27;,\n",
              "                                                                 &#x27;data_type...\n",
              "                                                      max_cat_to_onehot=4,\n",
              "                                                      max_delta_step=0,\n",
              "                                                      max_depth=3, max_leaves=0,\n",
              "                                                      min_child_weight=1,\n",
              "                                                      missing=nan,\n",
              "                                                      monotone_constraints=&#x27;()&#x27;,\n",
              "                                                      n_estimators=100,\n",
              "                                                      n_jobs=0,\n",
              "                                                      num_parallel_tree=1,\n",
              "                                                      predictor=&#x27;auto&#x27;,\n",
              "                                                      random_state=42, ...))]),\n",
              "             param_grid={&#x27;xgbclassifier__learning_rate&#x27;: [0.05, 0.1],\n",
              "                         &#x27;xgbclassifier__max_depth&#x27;: [3, 4, 5],\n",
              "                         &#x27;xgbclassifier__n_estimators&#x27;: [50, 100]},\n",
              "             scoring=&#x27;f1&#x27;, verbose=3)</pre></div></div></div><div class=\"sk-parallel\"><div class=\"sk-parallel-item\"><div class=\"sk-item\"><div class=\"sk-label-container\"><div class=\"sk-label sk-toggleable\"><input class=\"sk-toggleable__control sk-hidden--visually\" id=\"sk-estimator-id-10\" type=\"checkbox\" ><label for=\"sk-estimator-id-10\" class=\"sk-toggleable__label sk-toggleable__label-arrow\">estimator: Pipeline</label><div class=\"sk-toggleable__content\"><pre>Pipeline(steps=[(&#x27;ordinalencoder&#x27;,\n",
              "                 OrdinalEncoder(cols=[&#x27;Title&#x27;, &#x27;Type&#x27;],\n",
              "                                mapping=[{&#x27;col&#x27;: &#x27;Title&#x27;,\n",
              "                                          &#x27;data_type&#x27;: dtype(&#x27;O&#x27;),\n",
              "                                          &#x27;mapping&#x27;: Tiger King: Murder, Mayhem …      1\n",
              "Ozark                             2\n",
              "All American                      3\n",
              "Blood Father                      4\n",
              "The Platform                      5\n",
              "                               ... \n",
              "Clickbait                       498\n",
              "Bob Ross: Happy Accidents, …    499\n",
              "Heâs All That                 500\n",
              "SAS: Red Notice                 501\n",
              "NaN                              -2\n",
              "Length: 502, dtype: int64},\n",
              "                                         {&#x27;col&#x27;: &#x27;Type&#x27;,\n",
              "                                          &#x27;data_type&#x27;: dtype(&#x27;O&#x27;),\n",
              "                                          &#x27;mapping&#x27;: TV Sho...\n",
              "                               feature_types=None, gamma=0, gpu_id=-1,\n",
              "                               grow_policy=&#x27;depthwise&#x27;, importance_type=None,\n",
              "                               interaction_constraints=&#x27;&#x27;, learning_rate=0.05,\n",
              "                               max_bin=256, max_cat_threshold=64,\n",
              "                               max_cat_to_onehot=4, max_delta_step=0,\n",
              "                               max_depth=3, max_leaves=0, min_child_weight=1,\n",
              "                               missing=nan, monotone_constraints=&#x27;()&#x27;,\n",
              "                               n_estimators=100, n_jobs=0, num_parallel_tree=1,\n",
              "                               predictor=&#x27;auto&#x27;, random_state=42, ...))])</pre></div></div></div><div class=\"sk-serial\"><div class=\"sk-item\"><div class=\"sk-serial\"><div class=\"sk-item\"><div class=\"sk-estimator sk-toggleable\"><input class=\"sk-toggleable__control sk-hidden--visually\" id=\"sk-estimator-id-11\" type=\"checkbox\" ><label for=\"sk-estimator-id-11\" class=\"sk-toggleable__label sk-toggleable__label-arrow\">OrdinalEncoder</label><div class=\"sk-toggleable__content\"><pre>OrdinalEncoder(cols=[&#x27;Title&#x27;, &#x27;Type&#x27;],\n",
              "               mapping=[{&#x27;col&#x27;: &#x27;Title&#x27;, &#x27;data_type&#x27;: dtype(&#x27;O&#x27;),\n",
              "                         &#x27;mapping&#x27;: Tiger King: Murder, Mayhem …      1\n",
              "Ozark                             2\n",
              "All American                      3\n",
              "Blood Father                      4\n",
              "The Platform                      5\n",
              "                               ... \n",
              "Clickbait                       498\n",
              "Bob Ross: Happy Accidents, …    499\n",
              "Heâs All That                 500\n",
              "SAS: Red Notice                 501\n",
              "NaN                              -2\n",
              "Length: 502, dtype: int64},\n",
              "                        {&#x27;col&#x27;: &#x27;Type&#x27;, &#x27;data_type&#x27;: dtype(&#x27;O&#x27;),\n",
              "                         &#x27;mapping&#x27;: TV Show            1\n",
              "Movie              2\n",
              "Stand-Up Comedy    3\n",
              "Concert/Perf…      4\n",
              "NaN               -2\n",
              "dtype: int64}])</pre></div></div></div><div class=\"sk-item\"><div class=\"sk-estimator sk-toggleable\"><input class=\"sk-toggleable__control sk-hidden--visually\" id=\"sk-estimator-id-12\" type=\"checkbox\" ><label for=\"sk-estimator-id-12\" class=\"sk-toggleable__label sk-toggleable__label-arrow\">XGBClassifier</label><div class=\"sk-toggleable__content\"><pre>XGBClassifier(base_score=0.5, booster=&#x27;gbtree&#x27;, callbacks=None,\n",
              "              colsample_bylevel=1, colsample_bynode=1, colsample_bytree=1,\n",
              "              early_stopping_rounds=None, enable_categorical=False,\n",
              "              eval_metric=None, feature_types=None, gamma=0, gpu_id=-1,\n",
              "              grow_policy=&#x27;depthwise&#x27;, importance_type=None,\n",
              "              interaction_constraints=&#x27;&#x27;, learning_rate=0.05, max_bin=256,\n",
              "              max_cat_threshold=64, max_cat_to_onehot=4, max_delta_step=0,\n",
              "              max_depth=3, max_leaves=0, min_child_weight=1, missing=nan,\n",
              "              monotone_constraints=&#x27;()&#x27;, n_estimators=100, n_jobs=0,\n",
              "              num_parallel_tree=1, predictor=&#x27;auto&#x27;, random_state=42, ...)</pre></div></div></div></div></div></div></div></div></div></div></div></div>"
            ]
          },
          "metadata": {},
          "execution_count": 244
        }
      ]
    },
    {
      "cell_type": "code",
      "source": [
        "print(\"최적 하이퍼파라미터: \", grid_search.best_params_)\n",
        "print(\"최적 f1: \", grid_search.best_score_)"
      ],
      "metadata": {
        "colab": {
          "base_uri": "https://localhost:8080/"
        },
        "id": "07yNmQl10lzT",
        "outputId": "87b34c79-8d22-4177-a13b-cfb937b4c9c3"
      },
      "execution_count": 245,
      "outputs": [
        {
          "output_type": "stream",
          "name": "stdout",
          "text": [
            "최적 하이퍼파라미터:  {'xgbclassifier__learning_rate': 0.05, 'xgbclassifier__max_depth': 3, 'xgbclassifier__n_estimators': 50}\n",
            "최적 f1:  0.7759798615225334\n"
          ]
        }
      ]
    },
    {
      "cell_type": "code",
      "source": [
        "pipe_grid = make_pipeline(OrdinalEncoder(),\n",
        "                          XGBClassifier(random_state=42,\n",
        "                                        n_estimators=50,\n",
        "                                        max_depth=3,\n",
        "                                        learning_rate=0.05))"
      ],
      "metadata": {
        "id": "RQHNPTmIh44r"
      },
      "execution_count": 246,
      "outputs": []
    },
    {
      "cell_type": "code",
      "source": [
        "# 모델 학습\n",
        "pipe_grid.fit(X_train, y_train)\n",
        "\n",
        "# 기준 모델 학습 성능\n",
        "y_pred_grid = pipe_grid.predict(X_train)\n",
        "print(f1_score(y_train, y_pred_grid))"
      ],
      "metadata": {
        "colab": {
          "base_uri": "https://localhost:8080/"
        },
        "id": "n7F1vpnnpPrK",
        "outputId": "89839ea5-aab0-4b37-cbac-dc72cea710eb"
      },
      "execution_count": 247,
      "outputs": [
        {
          "output_type": "stream",
          "name": "stdout",
          "text": [
            "0.8308203070964171\n"
          ]
        }
      ]
    },
    {
      "cell_type": "markdown",
      "source": [
        "## **4. Bayesian Search** ##"
      ],
      "metadata": {
        "id": "FTUooql2PIIA"
      }
    },
    {
      "cell_type": "markdown",
      "source": [
        "검증하고자 하는 하이퍼파라미터의 범위 내에서, 이전에 탐색한 조합들의 성능을 기반으로 성능이 잘 나오는 조합을 중심으로 확률적으로 탐색하는 방법\n",
        "\n",
        "위의 Grid Search의 하이퍼파라미터 조합에 부가적으로 다른 하이퍼파라미터를 추가하였다."
      ],
      "metadata": {
        "id": "vsSMfykz7WtN"
      }
    },
    {
      "cell_type": "code",
      "source": [
        "params = {\n",
        "    \"xgbclassifier__max_depth\": hp.quniform(\"max_depth\", 3, 9, 1),\n",
        "    \"xgbclassifier__learning_rate\": hp.quniform(\"learning_rate\", 0.05, 0.3, 0.05),\n",
        "    \"xgbclassifier__n_estimators\": hp.quniform(\"n_estimators\", 50, 300, 50),\n",
        "    \"xgbclassifier__min_child_weight\": hp.quniform(\"min_child_weight\", 2, 10, 2),\n",
        "    \"xgbclassifier__colsample_bytree\": hp.uniform(\"colsample_bytree\", 0.5, 1.0),\n",
        "}"
      ],
      "metadata": {
        "id": "vqOOqShUYNtb"
      },
      "execution_count": 248,
      "outputs": []
    },
    {
      "cell_type": "code",
      "source": [
        "def get_pipe(params):\n",
        "    params[\"xgbclassifier__max_depth\"] = int(params[\"xgbclassifier__max_depth\"])\n",
        "    params[\"xgbclassifier__n_estimators\"] = int(params[\"xgbclassifier__n_estimators\"])\n",
        "    pipe = make_pipeline(OrdinalEncoder(),\n",
        "                         XGBClassifier(objective=\"binary:logistic\",\n",
        "                                       eval_metric=\"auc\",\n",
        "                                       random_state=42,\n",
        "                                       n_jobs=-1,\n",
        "                                       use_label_encoder=False))\n",
        "    \n",
        "    pipe = pipe.set_params(**params)\n",
        "    return pipe\n",
        "\n",
        "\n",
        "def fit_and_eval(params):\n",
        "    pipe = get_pipe(params)\n",
        "    score = cross_val_score(pipe, X_train, y_train, cv=3, scoring=\"f1\")\n",
        "    avg_cv_score = np.mean(score)\n",
        "    # f1은 클수록 좋은 metric >> -부호를 붙여 반환\n",
        "    return {\"loss\": -avg_cv_score, \"status\": STATUS_OK}\n",
        "\n",
        "\n",
        "trials = (\n",
        "    Trials()\n",
        ")  # 실행되는 매 fit의 학습 정보 및 학습 결과가 저장\n",
        "\n",
        "best_params = fmin(\n",
        "    fn=fit_and_eval, trials=trials, space=params, algo=tpe.suggest, max_evals=30,\n",
        "    rstate = np.random.default_rng(2023)\n",
        ")  # max_evals 횟수만큼 하이퍼파라미터 조합을 탐색"
      ],
      "metadata": {
        "colab": {
          "base_uri": "https://localhost:8080/"
        },
        "id": "8xKeOcAwYeg_",
        "outputId": "6d0a5166-510d-44e5-bec4-f9112bca0fd2"
      },
      "execution_count": 249,
      "outputs": [
        {
          "output_type": "stream",
          "name": "stdout",
          "text": [
            "100%|██████████| 30/30 [00:33<00:00,  1.13s/trial, best loss: -0.8137922672012486]\n"
          ]
        }
      ]
    },
    {
      "cell_type": "code",
      "source": [
        "print(\"최적 하이퍼파라미터: \", trials.best_trial[\"misc\"][\"vals\"])\n",
        "print(\"최적 f1: \", -trials.best_trial[\"result\"][\"loss\"])"
      ],
      "metadata": {
        "colab": {
          "base_uri": "https://localhost:8080/"
        },
        "id": "qn05Ihm8Z1cf",
        "outputId": "c17f831f-9f74-43fe-a9ab-852f873946b7"
      },
      "execution_count": 250,
      "outputs": [
        {
          "output_type": "stream",
          "name": "stdout",
          "text": [
            "최적 하이퍼파라미터:  {'colsample_bytree': [0.821525929288221], 'learning_rate': [0.05], 'max_depth': [4.0], 'min_child_weight': [4.0], 'n_estimators': [100.0]}\n",
            "최적 f1:  0.8137922672012486\n"
          ]
        }
      ]
    },
    {
      "cell_type": "code",
      "source": [
        "pipe_bayesian = make_pipeline(OrdinalEncoder(),\n",
        "                              XGBClassifier(random_state=42,\n",
        "                                            max_depth=4,\n",
        "                                            learning_rate=0.05,\n",
        "                                            n_estimators=100,\n",
        "                                            min_child_weight=4,\n",
        "                                            colsample_bytree=0.821525929288221))"
      ],
      "metadata": {
        "id": "pnprU47SjAE7"
      },
      "execution_count": 251,
      "outputs": []
    },
    {
      "cell_type": "code",
      "source": [
        "# 모델 학습\n",
        "pipe_bayesian.fit(X_train, y_train)\n",
        "\n",
        "# 기준 모델 학습 성능\n",
        "y_pred_bayesian = pipe_bayesian.predict(X_train)\n",
        "print(f1_score(y_train, y_pred_bayesian))"
      ],
      "metadata": {
        "colab": {
          "base_uri": "https://localhost:8080/"
        },
        "id": "l_Rqo94MhFrX",
        "outputId": "1472e5ef-01d1-4fec-fcdf-342bdc17c444"
      },
      "execution_count": 252,
      "outputs": [
        {
          "output_type": "stream",
          "name": "stdout",
          "text": [
            "0.8789604321798803\n"
          ]
        }
      ]
    },
    {
      "cell_type": "markdown",
      "source": [
        "## **5. 모델 선택** ##"
      ],
      "metadata": {
        "id": "VPP87oCl8B1p"
      }
    },
    {
      "cell_type": "markdown",
      "source": [
        "실제로 넷플릭스 독점이 아닌 것을 아니라고 예측하는 것이 중요하다고 판단\n",
        "\n",
        "따라서, 0의 recall값에 주목"
      ],
      "metadata": {
        "id": "icQWomIs8jPY"
      }
    },
    {
      "cell_type": "code",
      "source": [
        "# 기준 모델\n",
        "print(classification_report(y_train, y_pred_base))"
      ],
      "metadata": {
        "colab": {
          "base_uri": "https://localhost:8080/"
        },
        "id": "a6_5Bk698FdC",
        "outputId": "d13cfda6-c42b-465e-d272-7b10239eb82f"
      },
      "execution_count": 253,
      "outputs": [
        {
          "output_type": "stream",
          "name": "stdout",
          "text": [
            "              precision    recall  f1-score   support\n",
            "\n",
            "           0       0.87      0.60      0.71      1979\n",
            "           1       0.79      0.94      0.86      3201\n",
            "\n",
            "    accuracy                           0.81      5180\n",
            "   macro avg       0.83      0.77      0.79      5180\n",
            "weighted avg       0.82      0.81      0.80      5180\n",
            "\n"
          ]
        }
      ]
    },
    {
      "cell_type": "code",
      "source": [
        "# Grid Search\n",
        "print(classification_report(y_train, y_pred_grid))"
      ],
      "metadata": {
        "colab": {
          "base_uri": "https://localhost:8080/"
        },
        "id": "RQmCxFMh8FVJ",
        "outputId": "2bacdaac-d7cb-40a0-fc3a-20602ad37528"
      },
      "execution_count": 254,
      "outputs": [
        {
          "output_type": "stream",
          "name": "stdout",
          "text": [
            "              precision    recall  f1-score   support\n",
            "\n",
            "           0       0.83      0.48      0.61      1979\n",
            "           1       0.75      0.94      0.83      3201\n",
            "\n",
            "    accuracy                           0.76      5180\n",
            "   macro avg       0.79      0.71      0.72      5180\n",
            "weighted avg       0.78      0.76      0.75      5180\n",
            "\n"
          ]
        }
      ]
    },
    {
      "cell_type": "code",
      "source": [
        "# Bayesian Search\n",
        "print(classification_report(y_train, y_pred_bayesian))"
      ],
      "metadata": {
        "colab": {
          "base_uri": "https://localhost:8080/"
        },
        "id": "S2OL-yXq8FTW",
        "outputId": "f29ee118-3093-4b19-c239-bbcfae9ccdfb"
      },
      "execution_count": 255,
      "outputs": [
        {
          "output_type": "stream",
          "name": "stdout",
          "text": [
            "              precision    recall  f1-score   support\n",
            "\n",
            "           0       0.88      0.68      0.76      1979\n",
            "           1       0.83      0.94      0.88      3201\n",
            "\n",
            "    accuracy                           0.84      5180\n",
            "   macro avg       0.85      0.81      0.82      5180\n",
            "weighted avg       0.84      0.84      0.83      5180\n",
            "\n"
          ]
        }
      ]
    },
    {
      "cell_type": "code",
      "source": [
        "# 시행한 모델들 중 Bayesian Search를 이용한 모델이 종합적으로 괜찮은 모델이라고 판단\n",
        "# >> Bayesian Search을 이용한 모델을 최종 모델로 선택"
      ],
      "metadata": {
        "id": "6nmgrsUU6WHB"
      },
      "execution_count": 256,
      "outputs": []
    },
    {
      "cell_type": "markdown",
      "source": [
        "## **6. 모델 재학습** ##"
      ],
      "metadata": {
        "id": "XYbyMWXjFvJm"
      }
    },
    {
      "cell_type": "markdown",
      "source": [
        "0의 recall값을 올리기 위해 Class Weight를 사용해 모델을 재학습"
      ],
      "metadata": {
        "id": "TdVIjF3KF1J3"
      }
    },
    {
      "cell_type": "markdown",
      "source": [
        "### **1. Class Weight 사용** ###"
      ],
      "metadata": {
        "id": "_ALA2J8vRYuG"
      }
    },
    {
      "cell_type": "code",
      "source": [
        "pipe_bayesian_cw = make_pipeline(OrdinalEncoder(),\n",
        "                                 XGBClassifier(random_state=42,\n",
        "                                               max_depth=4,\n",
        "                                               learning_rate=0.05,\n",
        "                                               n_estimators=100,\n",
        "                                               min_child_weight=4,\n",
        "                                               colsample_bytree=0.821525929288221,\n",
        "                                               scale_pos_weight=(y_train == 0).sum() / (y_train == 1).sum()))"
      ],
      "metadata": {
        "id": "eo4hKIwOF52m"
      },
      "execution_count": 257,
      "outputs": []
    },
    {
      "cell_type": "code",
      "source": [
        "# 모델 학습\n",
        "pipe_bayesian_cw.fit(X_train, y_train)\n",
        "\n",
        "# 기준 모델 학습 성능\n",
        "y_pred_bayesian_cw = pipe_bayesian_cw.predict(X_train)\n",
        "print(classification_report(y_train, y_pred_bayesian_cw))"
      ],
      "metadata": {
        "colab": {
          "base_uri": "https://localhost:8080/"
        },
        "id": "HHQOHTJgO_3Y",
        "outputId": "a6b4df40-1b71-4812-e906-fc393564c89e"
      },
      "execution_count": 258,
      "outputs": [
        {
          "output_type": "stream",
          "name": "stdout",
          "text": [
            "              precision    recall  f1-score   support\n",
            "\n",
            "           0       0.76      0.82      0.79      1979\n",
            "           1       0.88      0.84      0.86      3201\n",
            "\n",
            "    accuracy                           0.83      5180\n",
            "   macro avg       0.82      0.83      0.82      5180\n",
            "weighted avg       0.84      0.83      0.83      5180\n",
            "\n"
          ]
        }
      ]
    },
    {
      "cell_type": "markdown",
      "source": [
        "### **2. Oversampling + Undersapmling** ###"
      ],
      "metadata": {
        "id": "kLP_mEE3Tb61"
      }
    },
    {
      "cell_type": "code",
      "source": [
        "def ordinal_encoding(df):\n",
        "\n",
        "  encoder = OrdinalEncoder()\n",
        "  encoded = encoder.fit_transform(df)\n",
        "\n",
        "  return encoded"
      ],
      "metadata": {
        "id": "jn521PswQBbK"
      },
      "execution_count": 259,
      "outputs": []
    },
    {
      "cell_type": "code",
      "source": [
        "X_train_encoded = ordinal_encoding(X_train.copy())\n",
        "X_test_encoded = ordinal_encoding(X_test.copy())"
      ],
      "metadata": {
        "id": "sasRCg9HQOfA"
      },
      "execution_count": 260,
      "outputs": []
    },
    {
      "cell_type": "code",
      "source": [
        "from imblearn.combine import SMOTEENN\n",
        "\n",
        "X_train_sampled, y_train_sampled = SMOTEENN(random_state=42).fit_resample(X_train_encoded, y_train)\n",
        "\n",
        "pipe_bayesian_ou = make_pipeline(XGBClassifier(random_state=42,\n",
        "                                               max_depth=4,\n",
        "                                               learning_rate=0.05,\n",
        "                                               n_estimators=100,\n",
        "                                               min_child_weight=4,\n",
        "                                               colsample_bytree=0.821525929288221,\n",
        "                                               scale_pos_weight=(y_train_sampled == 0).sum() / (y_train_sampled == 1).sum()))"
      ],
      "metadata": {
        "id": "d2EjpjozPmwR"
      },
      "execution_count": 261,
      "outputs": []
    },
    {
      "cell_type": "code",
      "source": [
        "# 모델 학습\n",
        "pipe_bayesian_ou.fit(X_train_sampled, y_train_sampled)\n",
        "\n",
        "# 기준 모델 학습 성능\n",
        "y_pred_bayesian_ou = pipe_bayesian_ou.predict(X_train_sampled)\n",
        "print(classification_report(y_train_sampled, y_pred_bayesian_ou))"
      ],
      "metadata": {
        "colab": {
          "base_uri": "https://localhost:8080/"
        },
        "id": "LD3YjoELPmuU",
        "outputId": "d04ce032-b19a-401f-de39-2ffa1da859d4"
      },
      "execution_count": 262,
      "outputs": [
        {
          "output_type": "stream",
          "name": "stdout",
          "text": [
            "              precision    recall  f1-score   support\n",
            "\n",
            "           0       0.90      0.90      0.90      2541\n",
            "           1       0.89      0.90      0.89      2298\n",
            "\n",
            "    accuracy                           0.90      4839\n",
            "   macro avg       0.90      0.90      0.90      4839\n",
            "weighted avg       0.90      0.90      0.90      4839\n",
            "\n"
          ]
        }
      ]
    },
    {
      "cell_type": "code",
      "source": [
        "# 두 가지 모두 성능이 크게 향상되었지만, 후자가 더 많이 향상됨 >> 최종모델로 선택"
      ],
      "metadata": {
        "id": "LkDC50AaT7Y7"
      },
      "execution_count": 263,
      "outputs": []
    },
    {
      "cell_type": "markdown",
      "source": [
        "## **7. Test** ##"
      ],
      "metadata": {
        "id": "AMbXe9AyUKm4"
      }
    },
    {
      "cell_type": "markdown",
      "source": [
        "Oversampling + Undersapmling으로 재학습한 모델으로 평가"
      ],
      "metadata": {
        "id": "0pCwzzRaUbPN"
      }
    },
    {
      "cell_type": "code",
      "source": [
        "pipe_bayesian_ou_test = pipe_bayesian_ou.predict(X_test_encoded)\n",
        "print(classification_report(y_test, pipe_bayesian_ou_test))"
      ],
      "metadata": {
        "colab": {
          "base_uri": "https://localhost:8080/"
        },
        "id": "GiShzmNMUWCG",
        "outputId": "af95831e-d89c-4eab-d850-b46ef553e85d"
      },
      "execution_count": 264,
      "outputs": [
        {
          "output_type": "stream",
          "name": "stdout",
          "text": [
            "              precision    recall  f1-score   support\n",
            "\n",
            "           0       0.52      0.87      0.65       522\n",
            "           1       0.93      0.71      0.80      1398\n",
            "\n",
            "    accuracy                           0.75      1920\n",
            "   macro avg       0.73      0.79      0.73      1920\n",
            "weighted avg       0.82      0.75      0.76      1920\n",
            "\n"
          ]
        }
      ]
    },
    {
      "cell_type": "code",
      "source": [
        "# 정확도는 생각보다 낮았지만, 0의 recall 값이 낮지 않음을 확인"
      ],
      "metadata": {
        "id": "lATsWtoUVCW-"
      },
      "execution_count": 265,
      "outputs": []
    },
    {
      "cell_type": "markdown",
      "source": [
        "## **8. 모델 시각화** ##"
      ],
      "metadata": {
        "id": "FAj1C_-22Jnu"
      }
    },
    {
      "cell_type": "code",
      "source": [
        "import graphviz\n",
        "import xgboost as xgb\n",
        "\n",
        "graph = xgb.to_graphviz(pipe_bayesian_ou.named_steps['xgbclassifier'])\n",
        "graph"
      ],
      "metadata": {
        "colab": {
          "base_uri": "https://localhost:8080/",
          "height": 563
        },
        "id": "c440_hCQ5Wgp",
        "outputId": "22354b95-c289-4696-e01b-8c2ebbdedd31"
      },
      "execution_count": 266,
      "outputs": [
        {
          "output_type": "execute_result",
          "data": {
            "image/svg+xml": "<?xml version=\"1.0\" encoding=\"UTF-8\" standalone=\"no\"?>\n<!DOCTYPE svg PUBLIC \"-//W3C//DTD SVG 1.1//EN\"\n \"http://www.w3.org/Graphics/SVG/1.1/DTD/svg11.dtd\">\n<!-- Generated by graphviz version 2.43.0 (0)\n -->\n<!-- Title: %3 Pages: 1 -->\n<svg width=\"1432pt\" height=\"392pt\"\n viewBox=\"0.00 0.00 1431.89 392.00\" xmlns=\"http://www.w3.org/2000/svg\" xmlns:xlink=\"http://www.w3.org/1999/xlink\">\n<g id=\"graph0\" class=\"graph\" transform=\"scale(1 1) rotate(0) translate(4 388)\">\n<title>%3</title>\n<polygon fill=\"white\" stroke=\"transparent\" points=\"-4,4 -4,-388 1427.89,-388 1427.89,4 -4,4\"/>\n<!-- 0 -->\n<g id=\"node1\" class=\"node\">\n<title>0</title>\n<ellipse fill=\"none\" stroke=\"black\" cx=\"771.94\" cy=\"-366\" rx=\"92.88\" ry=\"18\"/>\n<text text-anchor=\"middle\" x=\"771.94\" y=\"-362.3\" font-family=\"Times,serif\" font-size=\"14.00\">Days_In_Top_10&lt;73.5</text>\n</g>\n<!-- 1 -->\n<g id=\"node2\" class=\"node\">\n<title>1</title>\n<ellipse fill=\"none\" stroke=\"black\" cx=\"697.94\" cy=\"-279\" rx=\"46.29\" ry=\"18\"/>\n<text text-anchor=\"middle\" x=\"697.94\" y=\"-275.3\" font-family=\"Times,serif\" font-size=\"14.00\">Rank&lt;4.5</text>\n</g>\n<!-- 0&#45;&gt;1 -->\n<g id=\"edge1\" class=\"edge\">\n<title>0&#45;&gt;1</title>\n<path fill=\"none\" stroke=\"#0000ff\" d=\"M750.66,-348.14C744.32,-342.66 737.57,-336.36 731.94,-330 725.3,-322.5 718.88,-313.64 713.45,-305.47\"/>\n<polygon fill=\"#0000ff\" stroke=\"#0000ff\" points=\"716.33,-303.49 707.97,-296.99 710.45,-307.29 716.33,-303.49\"/>\n<text text-anchor=\"middle\" x=\"766.44\" y=\"-318.8\" font-family=\"Times,serif\" font-size=\"14.00\">yes, missing</text>\n</g>\n<!-- 2 -->\n<g id=\"node3\" class=\"node\">\n<title>2</title>\n<ellipse fill=\"none\" stroke=\"black\" cx=\"844.94\" cy=\"-279\" rx=\"83.39\" ry=\"18\"/>\n<text text-anchor=\"middle\" x=\"844.94\" y=\"-275.3\" font-family=\"Times,serif\" font-size=\"14.00\">leaf=&#45;0.0989873409</text>\n</g>\n<!-- 0&#45;&gt;2 -->\n<g id=\"edge2\" class=\"edge\">\n<title>0&#45;&gt;2</title>\n<path fill=\"none\" stroke=\"#ff0000\" d=\"M786.37,-348.21C797.06,-335.75 811.82,-318.57 823.84,-304.57\"/>\n<polygon fill=\"#ff0000\" stroke=\"#ff0000\" points=\"826.69,-306.63 830.55,-296.76 821.38,-302.06 826.69,-306.63\"/>\n<text text-anchor=\"middle\" x=\"819.94\" y=\"-318.8\" font-family=\"Times,serif\" font-size=\"14.00\">no</text>\n</g>\n<!-- 3 -->\n<g id=\"node4\" class=\"node\">\n<title>3</title>\n<ellipse fill=\"none\" stroke=\"black\" cx=\"560.94\" cy=\"-192\" rx=\"128.88\" ry=\"18\"/>\n<text text-anchor=\"middle\" x=\"560.94\" y=\"-188.3\" font-family=\"Times,serif\" font-size=\"14.00\">Netflix_Release_Date&lt;20190304</text>\n</g>\n<!-- 1&#45;&gt;3 -->\n<g id=\"edge3\" class=\"edge\">\n<title>1&#45;&gt;3</title>\n<path fill=\"none\" stroke=\"#0000ff\" d=\"M674.39,-263.39C653,-250.11 621.13,-230.34 596.61,-215.13\"/>\n<polygon fill=\"#0000ff\" stroke=\"#0000ff\" points=\"598.28,-212.05 587.94,-209.75 594.59,-218 598.28,-212.05\"/>\n<text text-anchor=\"middle\" x=\"672.44\" y=\"-231.8\" font-family=\"Times,serif\" font-size=\"14.00\">yes, missing</text>\n</g>\n<!-- 4 -->\n<g id=\"node5\" class=\"node\">\n<title>4</title>\n<ellipse fill=\"none\" stroke=\"black\" cx=\"858.94\" cy=\"-192\" rx=\"44.69\" ry=\"18\"/>\n<text text-anchor=\"middle\" x=\"858.94\" y=\"-188.3\" font-family=\"Times,serif\" font-size=\"14.00\">Type&lt;1.5</text>\n</g>\n<!-- 1&#45;&gt;4 -->\n<g id=\"edge4\" class=\"edge\">\n<title>1&#45;&gt;4</title>\n<path fill=\"none\" stroke=\"#ff0000\" d=\"M724.17,-264.15C751.38,-249.79 794.08,-227.24 824.11,-211.39\"/>\n<polygon fill=\"#ff0000\" stroke=\"#ff0000\" points=\"825.79,-214.46 833,-206.7 822.52,-208.27 825.79,-214.46\"/>\n<text text-anchor=\"middle\" x=\"795.94\" y=\"-231.8\" font-family=\"Times,serif\" font-size=\"14.00\">no</text>\n</g>\n<!-- 5 -->\n<g id=\"node6\" class=\"node\">\n<title>5</title>\n<ellipse fill=\"none\" stroke=\"black\" cx=\"260.94\" cy=\"-105\" rx=\"72.59\" ry=\"18\"/>\n<text text-anchor=\"middle\" x=\"260.94\" y=\"-101.3\" font-family=\"Times,serif\" font-size=\"14.00\">As_of&lt;20210156</text>\n</g>\n<!-- 3&#45;&gt;5 -->\n<g id=\"edge5\" class=\"edge\">\n<title>3&#45;&gt;5</title>\n<path fill=\"none\" stroke=\"#0000ff\" d=\"M506.62,-175.61C452.89,-160.38 371.05,-137.2 316.8,-121.83\"/>\n<polygon fill=\"#0000ff\" stroke=\"#0000ff\" points=\"317.58,-118.41 307,-119.05 315.67,-125.14 317.58,-118.41\"/>\n<text text-anchor=\"middle\" x=\"463.44\" y=\"-144.8\" font-family=\"Times,serif\" font-size=\"14.00\">yes, missing</text>\n</g>\n<!-- 6 -->\n<g id=\"node7\" class=\"node\">\n<title>6</title>\n<ellipse fill=\"none\" stroke=\"black\" cx=\"560.94\" cy=\"-105\" rx=\"128.88\" ry=\"18\"/>\n<text text-anchor=\"middle\" x=\"560.94\" y=\"-101.3\" font-family=\"Times,serif\" font-size=\"14.00\">Netflix_Release_Date&lt;20200754</text>\n</g>\n<!-- 3&#45;&gt;6 -->\n<g id=\"edge6\" class=\"edge\">\n<title>3&#45;&gt;6</title>\n<path fill=\"none\" stroke=\"#ff0000\" d=\"M560.94,-173.8C560.94,-162.16 560.94,-146.55 560.94,-133.24\"/>\n<polygon fill=\"#ff0000\" stroke=\"#ff0000\" points=\"564.44,-133.18 560.94,-123.18 557.44,-133.18 564.44,-133.18\"/>\n<text text-anchor=\"middle\" x=\"567.94\" y=\"-144.8\" font-family=\"Times,serif\" font-size=\"14.00\">no</text>\n</g>\n<!-- 7 -->\n<g id=\"node12\" class=\"node\">\n<title>7</title>\n<ellipse fill=\"none\" stroke=\"black\" cx=\"858.94\" cy=\"-105\" rx=\"128.88\" ry=\"18\"/>\n<text text-anchor=\"middle\" x=\"858.94\" y=\"-101.3\" font-family=\"Times,serif\" font-size=\"14.00\">Netflix_Release_Date&lt;20151052</text>\n</g>\n<!-- 4&#45;&gt;7 -->\n<g id=\"edge11\" class=\"edge\">\n<title>4&#45;&gt;7</title>\n<path fill=\"none\" stroke=\"#0000ff\" d=\"M858.94,-173.8C858.94,-162.16 858.94,-146.55 858.94,-133.24\"/>\n<polygon fill=\"#0000ff\" stroke=\"#0000ff\" points=\"862.44,-133.18 858.94,-123.18 855.44,-133.18 862.44,-133.18\"/>\n<text text-anchor=\"middle\" x=\"893.44\" y=\"-144.8\" font-family=\"Times,serif\" font-size=\"14.00\">yes, missing</text>\n</g>\n<!-- 8 -->\n<g id=\"node13\" class=\"node\">\n<title>8</title>\n<ellipse fill=\"none\" stroke=\"black\" cx=\"1162.94\" cy=\"-105\" rx=\"88.28\" ry=\"18\"/>\n<text text-anchor=\"middle\" x=\"1162.94\" y=\"-101.3\" font-family=\"Times,serif\" font-size=\"14.00\">Days_In_Top_10&lt;9.5</text>\n</g>\n<!-- 4&#45;&gt;8 -->\n<g id=\"edge12\" class=\"edge\">\n<title>4&#45;&gt;8</title>\n<path fill=\"none\" stroke=\"#ff0000\" d=\"M894.71,-181C946.11,-166.63 1041.49,-139.96 1103.57,-122.6\"/>\n<polygon fill=\"#ff0000\" stroke=\"#ff0000\" points=\"1104.54,-125.96 1113.23,-119.9 1102.66,-119.22 1104.54,-125.96\"/>\n<text text-anchor=\"middle\" x=\"1036.94\" y=\"-144.8\" font-family=\"Times,serif\" font-size=\"14.00\">no</text>\n</g>\n<!-- 9 -->\n<g id=\"node8\" class=\"node\">\n<title>9</title>\n<ellipse fill=\"none\" stroke=\"black\" cx=\"79.94\" cy=\"-18\" rx=\"79.89\" ry=\"18\"/>\n<text text-anchor=\"middle\" x=\"79.94\" y=\"-14.3\" font-family=\"Times,serif\" font-size=\"14.00\">leaf=0.0120707201</text>\n</g>\n<!-- 5&#45;&gt;9 -->\n<g id=\"edge7\" class=\"edge\">\n<title>5&#45;&gt;9</title>\n<path fill=\"none\" stroke=\"#0000ff\" d=\"M228.58,-88.8C198.88,-74.85 154.67,-54.09 122.19,-38.84\"/>\n<polygon fill=\"#0000ff\" stroke=\"#0000ff\" points=\"123.48,-35.58 112.94,-34.5 120.5,-41.91 123.48,-35.58\"/>\n<text text-anchor=\"middle\" x=\"216.44\" y=\"-57.8\" font-family=\"Times,serif\" font-size=\"14.00\">yes, missing</text>\n</g>\n<!-- 10 -->\n<g id=\"node9\" class=\"node\">\n<title>10</title>\n<ellipse fill=\"none\" stroke=\"black\" cx=\"260.94\" cy=\"-18\" rx=\"83.39\" ry=\"18\"/>\n<text text-anchor=\"middle\" x=\"260.94\" y=\"-14.3\" font-family=\"Times,serif\" font-size=\"14.00\">leaf=&#45;0.0758324116</text>\n</g>\n<!-- 5&#45;&gt;10 -->\n<g id=\"edge8\" class=\"edge\">\n<title>5&#45;&gt;10</title>\n<path fill=\"none\" stroke=\"#ff0000\" d=\"M260.94,-86.8C260.94,-75.16 260.94,-59.55 260.94,-46.24\"/>\n<polygon fill=\"#ff0000\" stroke=\"#ff0000\" points=\"264.44,-46.18 260.94,-36.18 257.44,-46.18 264.44,-46.18\"/>\n<text text-anchor=\"middle\" x=\"267.94\" y=\"-57.8\" font-family=\"Times,serif\" font-size=\"14.00\">no</text>\n</g>\n<!-- 11 -->\n<g id=\"node10\" class=\"node\">\n<title>11</title>\n<ellipse fill=\"none\" stroke=\"black\" cx=\"441.94\" cy=\"-18\" rx=\"79.89\" ry=\"18\"/>\n<text text-anchor=\"middle\" x=\"441.94\" y=\"-14.3\" font-family=\"Times,serif\" font-size=\"14.00\">leaf=0.0824188739</text>\n</g>\n<!-- 6&#45;&gt;11 -->\n<g id=\"edge9\" class=\"edge\">\n<title>6&#45;&gt;11</title>\n<path fill=\"none\" stroke=\"#0000ff\" d=\"M537.43,-87.21C519.06,-74.08 493.35,-55.72 473.24,-41.35\"/>\n<polygon fill=\"#0000ff\" stroke=\"#0000ff\" points=\"475.17,-38.43 465,-35.47 471.1,-44.13 475.17,-38.43\"/>\n<text text-anchor=\"middle\" x=\"543.44\" y=\"-57.8\" font-family=\"Times,serif\" font-size=\"14.00\">yes, missing</text>\n</g>\n<!-- 12 -->\n<g id=\"node11\" class=\"node\">\n<title>12</title>\n<ellipse fill=\"none\" stroke=\"black\" cx=\"619.94\" cy=\"-18\" rx=\"79.89\" ry=\"18\"/>\n<text text-anchor=\"middle\" x=\"619.94\" y=\"-14.3\" font-family=\"Times,serif\" font-size=\"14.00\">leaf=0.0339172073</text>\n</g>\n<!-- 6&#45;&gt;12 -->\n<g id=\"edge10\" class=\"edge\">\n<title>6&#45;&gt;12</title>\n<path fill=\"none\" stroke=\"#ff0000\" d=\"M572.88,-86.8C581.33,-74.62 592.81,-58.09 602.31,-44.4\"/>\n<polygon fill=\"#ff0000\" stroke=\"#ff0000\" points=\"605.4,-46.1 608.22,-35.89 599.65,-42.1 605.4,-46.1\"/>\n<text text-anchor=\"middle\" x=\"601.94\" y=\"-57.8\" font-family=\"Times,serif\" font-size=\"14.00\">no</text>\n</g>\n<!-- 13 -->\n<g id=\"node14\" class=\"node\">\n<title>13</title>\n<ellipse fill=\"none\" stroke=\"black\" cx=\"800.94\" cy=\"-18\" rx=\"83.39\" ry=\"18\"/>\n<text text-anchor=\"middle\" x=\"800.94\" y=\"-14.3\" font-family=\"Times,serif\" font-size=\"14.00\">leaf=&#45;0.0754456073</text>\n</g>\n<!-- 7&#45;&gt;13 -->\n<g id=\"edge13\" class=\"edge\">\n<title>7&#45;&gt;13</title>\n<path fill=\"none\" stroke=\"#0000ff\" d=\"M847.21,-86.8C838.9,-74.62 827.62,-58.09 818.27,-44.4\"/>\n<polygon fill=\"#0000ff\" stroke=\"#0000ff\" points=\"820.99,-42.17 812.46,-35.89 815.21,-46.12 820.99,-42.17\"/>\n<text text-anchor=\"middle\" x=\"868.44\" y=\"-57.8\" font-family=\"Times,serif\" font-size=\"14.00\">yes, missing</text>\n</g>\n<!-- 14 -->\n<g id=\"node15\" class=\"node\">\n<title>14</title>\n<ellipse fill=\"none\" stroke=\"black\" cx=\"981.94\" cy=\"-18\" rx=\"79.89\" ry=\"18\"/>\n<text text-anchor=\"middle\" x=\"981.94\" y=\"-14.3\" font-family=\"Times,serif\" font-size=\"14.00\">leaf=0.0150146857</text>\n</g>\n<!-- 7&#45;&gt;14 -->\n<g id=\"edge14\" class=\"edge\">\n<title>7&#45;&gt;14</title>\n<path fill=\"none\" stroke=\"#ff0000\" d=\"M883.24,-87.21C902.32,-74.02 929.04,-55.56 949.87,-41.16\"/>\n<polygon fill=\"#ff0000\" stroke=\"#ff0000\" points=\"951.87,-44.03 958.11,-35.47 947.89,-38.27 951.87,-44.03\"/>\n<text text-anchor=\"middle\" x=\"934.94\" y=\"-57.8\" font-family=\"Times,serif\" font-size=\"14.00\">no</text>\n</g>\n<!-- 15 -->\n<g id=\"node16\" class=\"node\">\n<title>15</title>\n<ellipse fill=\"none\" stroke=\"black\" cx=\"1162.94\" cy=\"-18\" rx=\"83.39\" ry=\"18\"/>\n<text text-anchor=\"middle\" x=\"1162.94\" y=\"-14.3\" font-family=\"Times,serif\" font-size=\"14.00\">leaf=&#45;0.0459953956</text>\n</g>\n<!-- 8&#45;&gt;15 -->\n<g id=\"edge15\" class=\"edge\">\n<title>8&#45;&gt;15</title>\n<path fill=\"none\" stroke=\"#0000ff\" d=\"M1162.94,-86.8C1162.94,-75.16 1162.94,-59.55 1162.94,-46.24\"/>\n<polygon fill=\"#0000ff\" stroke=\"#0000ff\" points=\"1166.44,-46.18 1162.94,-36.18 1159.44,-46.18 1166.44,-46.18\"/>\n<text text-anchor=\"middle\" x=\"1197.44\" y=\"-57.8\" font-family=\"Times,serif\" font-size=\"14.00\">yes, missing</text>\n</g>\n<!-- 16 -->\n<g id=\"node17\" class=\"node\">\n<title>16</title>\n<ellipse fill=\"none\" stroke=\"black\" cx=\"1343.94\" cy=\"-18\" rx=\"79.89\" ry=\"18\"/>\n<text text-anchor=\"middle\" x=\"1343.94\" y=\"-14.3\" font-family=\"Times,serif\" font-size=\"14.00\">leaf=0.0225453936</text>\n</g>\n<!-- 8&#45;&gt;16 -->\n<g id=\"edge16\" class=\"edge\">\n<title>8&#45;&gt;16</title>\n<path fill=\"none\" stroke=\"#ff0000\" d=\"M1196.56,-88.21C1226.34,-74.23 1269.93,-53.76 1301.98,-38.71\"/>\n<polygon fill=\"#ff0000\" stroke=\"#ff0000\" points=\"1303.55,-41.84 1311.11,-34.42 1300.57,-35.5 1303.55,-41.84\"/>\n<text text-anchor=\"middle\" x=\"1270.94\" y=\"-57.8\" font-family=\"Times,serif\" font-size=\"14.00\">no</text>\n</g>\n</g>\n</svg>\n",
            "text/plain": [
              "<graphviz.sources.Source at 0x7f4371f1e7c0>"
            ]
          },
          "metadata": {},
          "execution_count": 266
        }
      ]
    },
    {
      "cell_type": "markdown",
      "source": [
        "## **9. PDP** ##"
      ],
      "metadata": {
        "id": "3B6Nj6SKg_B3"
      }
    },
    {
      "cell_type": "markdown",
      "source": [
        "모델의 해당 특성에 대한 전반적인 특징 살피기"
      ],
      "metadata": {
        "id": "-yemlPUBiwpf"
      }
    },
    {
      "cell_type": "code",
      "source": [],
      "metadata": {
        "id": "o1MekzOi-3fO"
      },
      "execution_count": 266,
      "outputs": []
    },
    {
      "cell_type": "code",
      "source": [],
      "metadata": {
        "id": "iWEqk75b-3dX"
      },
      "execution_count": 266,
      "outputs": []
    },
    {
      "cell_type": "code",
      "source": [],
      "metadata": {
        "id": "tzmS4lg3-3bg"
      },
      "execution_count": 266,
      "outputs": []
    }
  ]
}